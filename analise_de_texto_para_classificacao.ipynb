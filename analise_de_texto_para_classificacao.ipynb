{
  "nbformat": 4,
  "nbformat_minor": 0,
  "metadata": {
    "colab": {
      "name": "analise de texto para classificacao.ipynb",
      "provenance": [],
      "authorship_tag": "ABX9TyMpHAtOEbSYM7VhIhQUR3yA",
      "include_colab_link": true
    },
    "kernelspec": {
      "name": "python3",
      "display_name": "Python 3"
    },
    "language_info": {
      "name": "python"
    }
  },
  "cells": [
    {
      "cell_type": "markdown",
      "metadata": {
        "id": "view-in-github",
        "colab_type": "text"
      },
      "source": [
        "<a href=\"https://colab.research.google.com/github/itimes-digital/mineracao-texto/blob/main/analise_de_texto_para_classificacao.ipynb\" target=\"_parent\"><img src=\"https://colab.research.google.com/assets/colab-badge.svg\" alt=\"Open In Colab\"/></a>"
      ]
    },
    {
      "cell_type": "code",
      "source": [
        "import nltk\n",
        "import pandas as pd\n",
        "import re"
      ],
      "metadata": {
        "id": "JWvMRVKIfwxY"
      },
      "execution_count": 185,
      "outputs": []
    },
    {
      "cell_type": "code",
      "source": [
        "nltk.download('stopwords')"
      ],
      "metadata": {
        "colab": {
          "base_uri": "https://localhost:8080/"
        },
        "id": "T4hcPGz5sbpK",
        "outputId": "9bf15bda-c443-4af4-d7a7-181f067df5c1"
      },
      "execution_count": 186,
      "outputs": [
        {
          "output_type": "stream",
          "name": "stdout",
          "text": [
            "[nltk_data] Downloading package stopwords to /root/nltk_data...\n",
            "[nltk_data]   Package stopwords is already up-to-date!\n"
          ]
        },
        {
          "output_type": "execute_result",
          "data": {
            "text/plain": [
              "True"
            ]
          },
          "metadata": {},
          "execution_count": 186
        }
      ]
    },
    {
      "cell_type": "code",
      "source": [
        "nltk.download('rslp')"
      ],
      "metadata": {
        "colab": {
          "base_uri": "https://localhost:8080/"
        },
        "id": "chd2f5JKvwuU",
        "outputId": "1ea1044f-b1a7-468f-ca8b-aeb4be1f4d14"
      },
      "execution_count": 187,
      "outputs": [
        {
          "output_type": "stream",
          "name": "stdout",
          "text": [
            "[nltk_data] Downloading package rslp to /root/nltk_data...\n",
            "[nltk_data]   Package rslp is already up-to-date!\n"
          ]
        },
        {
          "output_type": "execute_result",
          "data": {
            "text/plain": [
              "True"
            ]
          },
          "metadata": {},
          "execution_count": 187
        }
      ]
    },
    {
      "cell_type": "markdown",
      "source": [
        "### Preparação dos dados"
      ],
      "metadata": {
        "id": "fPxMSWkEYtpH"
      }
    },
    {
      "cell_type": "code",
      "source": [
        "base = pd.read_csv('sample_data/lista_classificada.csv', sep=';', engine='python')"
      ],
      "metadata": {
        "id": "S8NdPPr-f3kd"
      },
      "execution_count": 188,
      "outputs": []
    },
    {
      "cell_type": "code",
      "source": [
        "base.head()"
      ],
      "metadata": {
        "colab": {
          "base_uri": "https://localhost:8080/",
          "height": 206
        },
        "id": "IrwvKXAWi1em",
        "outputId": "98658ae7-894e-48a8-eee5-37bb9915f49a"
      },
      "execution_count": 189,
      "outputs": [
        {
          "output_type": "execute_result",
          "data": {
            "text/plain": [
              "                Categoria                                         Comentario\n",
              "0  Cadastro, Login, Senha  Nao recebi email para validar o cadastro NÃO C...\n",
              "1  Cadastro, Login, Senha                   Não consigo concluir o cadastro.\n",
              "2       Loja C&R, Estoque  Nunca realizei compras pelo app. Pois a forma ...\n",
              "3                 Entrega  Muito demora pra entregar.Farmácia é urgência,...\n",
              "4                 Entrega  Péssimo no que se refere ao item ENTREGA, pois..."
            ],
            "text/html": [
              "\n",
              "  <div id=\"df-059ba04e-fd06-480c-a6f0-9652084324c7\">\n",
              "    <div class=\"colab-df-container\">\n",
              "      <div>\n",
              "<style scoped>\n",
              "    .dataframe tbody tr th:only-of-type {\n",
              "        vertical-align: middle;\n",
              "    }\n",
              "\n",
              "    .dataframe tbody tr th {\n",
              "        vertical-align: top;\n",
              "    }\n",
              "\n",
              "    .dataframe thead th {\n",
              "        text-align: right;\n",
              "    }\n",
              "</style>\n",
              "<table border=\"1\" class=\"dataframe\">\n",
              "  <thead>\n",
              "    <tr style=\"text-align: right;\">\n",
              "      <th></th>\n",
              "      <th>Categoria</th>\n",
              "      <th>Comentario</th>\n",
              "    </tr>\n",
              "  </thead>\n",
              "  <tbody>\n",
              "    <tr>\n",
              "      <th>0</th>\n",
              "      <td>Cadastro, Login, Senha</td>\n",
              "      <td>Nao recebi email para validar o cadastro NÃO C...</td>\n",
              "    </tr>\n",
              "    <tr>\n",
              "      <th>1</th>\n",
              "      <td>Cadastro, Login, Senha</td>\n",
              "      <td>Não consigo concluir o cadastro.</td>\n",
              "    </tr>\n",
              "    <tr>\n",
              "      <th>2</th>\n",
              "      <td>Loja C&amp;R, Estoque</td>\n",
              "      <td>Nunca realizei compras pelo app. Pois a forma ...</td>\n",
              "    </tr>\n",
              "    <tr>\n",
              "      <th>3</th>\n",
              "      <td>Entrega</td>\n",
              "      <td>Muito demora pra entregar.Farmácia é urgência,...</td>\n",
              "    </tr>\n",
              "    <tr>\n",
              "      <th>4</th>\n",
              "      <td>Entrega</td>\n",
              "      <td>Péssimo no que se refere ao item ENTREGA, pois...</td>\n",
              "    </tr>\n",
              "  </tbody>\n",
              "</table>\n",
              "</div>\n",
              "      <button class=\"colab-df-convert\" onclick=\"convertToInteractive('df-059ba04e-fd06-480c-a6f0-9652084324c7')\"\n",
              "              title=\"Convert this dataframe to an interactive table.\"\n",
              "              style=\"display:none;\">\n",
              "        \n",
              "  <svg xmlns=\"http://www.w3.org/2000/svg\" height=\"24px\"viewBox=\"0 0 24 24\"\n",
              "       width=\"24px\">\n",
              "    <path d=\"M0 0h24v24H0V0z\" fill=\"none\"/>\n",
              "    <path d=\"M18.56 5.44l.94 2.06.94-2.06 2.06-.94-2.06-.94-.94-2.06-.94 2.06-2.06.94zm-11 1L8.5 8.5l.94-2.06 2.06-.94-2.06-.94L8.5 2.5l-.94 2.06-2.06.94zm10 10l.94 2.06.94-2.06 2.06-.94-2.06-.94-.94-2.06-.94 2.06-2.06.94z\"/><path d=\"M17.41 7.96l-1.37-1.37c-.4-.4-.92-.59-1.43-.59-.52 0-1.04.2-1.43.59L10.3 9.45l-7.72 7.72c-.78.78-.78 2.05 0 2.83L4 21.41c.39.39.9.59 1.41.59.51 0 1.02-.2 1.41-.59l7.78-7.78 2.81-2.81c.8-.78.8-2.07 0-2.86zM5.41 20L4 18.59l7.72-7.72 1.47 1.35L5.41 20z\"/>\n",
              "  </svg>\n",
              "      </button>\n",
              "      \n",
              "  <style>\n",
              "    .colab-df-container {\n",
              "      display:flex;\n",
              "      flex-wrap:wrap;\n",
              "      gap: 12px;\n",
              "    }\n",
              "\n",
              "    .colab-df-convert {\n",
              "      background-color: #E8F0FE;\n",
              "      border: none;\n",
              "      border-radius: 50%;\n",
              "      cursor: pointer;\n",
              "      display: none;\n",
              "      fill: #1967D2;\n",
              "      height: 32px;\n",
              "      padding: 0 0 0 0;\n",
              "      width: 32px;\n",
              "    }\n",
              "\n",
              "    .colab-df-convert:hover {\n",
              "      background-color: #E2EBFA;\n",
              "      box-shadow: 0px 1px 2px rgba(60, 64, 67, 0.3), 0px 1px 3px 1px rgba(60, 64, 67, 0.15);\n",
              "      fill: #174EA6;\n",
              "    }\n",
              "\n",
              "    [theme=dark] .colab-df-convert {\n",
              "      background-color: #3B4455;\n",
              "      fill: #D2E3FC;\n",
              "    }\n",
              "\n",
              "    [theme=dark] .colab-df-convert:hover {\n",
              "      background-color: #434B5C;\n",
              "      box-shadow: 0px 1px 3px 1px rgba(0, 0, 0, 0.15);\n",
              "      filter: drop-shadow(0px 1px 2px rgba(0, 0, 0, 0.3));\n",
              "      fill: #FFFFFF;\n",
              "    }\n",
              "  </style>\n",
              "\n",
              "      <script>\n",
              "        const buttonEl =\n",
              "          document.querySelector('#df-059ba04e-fd06-480c-a6f0-9652084324c7 button.colab-df-convert');\n",
              "        buttonEl.style.display =\n",
              "          google.colab.kernel.accessAllowed ? 'block' : 'none';\n",
              "\n",
              "        async function convertToInteractive(key) {\n",
              "          const element = document.querySelector('#df-059ba04e-fd06-480c-a6f0-9652084324c7');\n",
              "          const dataTable =\n",
              "            await google.colab.kernel.invokeFunction('convertToInteractive',\n",
              "                                                     [key], {});\n",
              "          if (!dataTable) return;\n",
              "\n",
              "          const docLinkHtml = 'Like what you see? Visit the ' +\n",
              "            '<a target=\"_blank\" href=https://colab.research.google.com/notebooks/data_table.ipynb>data table notebook</a>'\n",
              "            + ' to learn more about interactive tables.';\n",
              "          element.innerHTML = '';\n",
              "          dataTable['output_type'] = 'display_data';\n",
              "          await google.colab.output.renderOutput(dataTable, element);\n",
              "          const docLink = document.createElement('div');\n",
              "          docLink.innerHTML = docLinkHtml;\n",
              "          element.appendChild(docLink);\n",
              "        }\n",
              "      </script>\n",
              "    </div>\n",
              "  </div>\n",
              "  "
            ]
          },
          "metadata": {},
          "execution_count": 189
        }
      ]
    },
    {
      "cell_type": "code",
      "source": [
        "base['Comentario'] = base['Comentario'].map(lambda x: re.sub('[,\\.!?-]', '', x))\n",
        "base['Comentario'] = base['Comentario'].map(lambda x: x.lower())"
      ],
      "metadata": {
        "id": "7fzl7ZGDwKVj"
      },
      "execution_count": 190,
      "outputs": []
    },
    {
      "cell_type": "code",
      "source": [
        "base.head()"
      ],
      "metadata": {
        "colab": {
          "base_uri": "https://localhost:8080/",
          "height": 206
        },
        "id": "lnPvABuqwuWI",
        "outputId": "48994443-af3c-4d01-feda-8ba8b72b4e3e"
      },
      "execution_count": 191,
      "outputs": [
        {
          "output_type": "execute_result",
          "data": {
            "text/plain": [
              "                Categoria                                         Comentario\n",
              "0  Cadastro, Login, Senha  nao recebi email para validar o cadastro não c...\n",
              "1  Cadastro, Login, Senha                    não consigo concluir o cadastro\n",
              "2       Loja C&R, Estoque  nunca realizei compras pelo app pois a forma d...\n",
              "3                 Entrega  muito demora pra entregarfarmácia é urgência q...\n",
              "4                 Entrega  péssimo no que se refere ao item entrega pois ..."
            ],
            "text/html": [
              "\n",
              "  <div id=\"df-49437428-f05c-43c1-855f-0ae2f6c867f7\">\n",
              "    <div class=\"colab-df-container\">\n",
              "      <div>\n",
              "<style scoped>\n",
              "    .dataframe tbody tr th:only-of-type {\n",
              "        vertical-align: middle;\n",
              "    }\n",
              "\n",
              "    .dataframe tbody tr th {\n",
              "        vertical-align: top;\n",
              "    }\n",
              "\n",
              "    .dataframe thead th {\n",
              "        text-align: right;\n",
              "    }\n",
              "</style>\n",
              "<table border=\"1\" class=\"dataframe\">\n",
              "  <thead>\n",
              "    <tr style=\"text-align: right;\">\n",
              "      <th></th>\n",
              "      <th>Categoria</th>\n",
              "      <th>Comentario</th>\n",
              "    </tr>\n",
              "  </thead>\n",
              "  <tbody>\n",
              "    <tr>\n",
              "      <th>0</th>\n",
              "      <td>Cadastro, Login, Senha</td>\n",
              "      <td>nao recebi email para validar o cadastro não c...</td>\n",
              "    </tr>\n",
              "    <tr>\n",
              "      <th>1</th>\n",
              "      <td>Cadastro, Login, Senha</td>\n",
              "      <td>não consigo concluir o cadastro</td>\n",
              "    </tr>\n",
              "    <tr>\n",
              "      <th>2</th>\n",
              "      <td>Loja C&amp;R, Estoque</td>\n",
              "      <td>nunca realizei compras pelo app pois a forma d...</td>\n",
              "    </tr>\n",
              "    <tr>\n",
              "      <th>3</th>\n",
              "      <td>Entrega</td>\n",
              "      <td>muito demora pra entregarfarmácia é urgência q...</td>\n",
              "    </tr>\n",
              "    <tr>\n",
              "      <th>4</th>\n",
              "      <td>Entrega</td>\n",
              "      <td>péssimo no que se refere ao item entrega pois ...</td>\n",
              "    </tr>\n",
              "  </tbody>\n",
              "</table>\n",
              "</div>\n",
              "      <button class=\"colab-df-convert\" onclick=\"convertToInteractive('df-49437428-f05c-43c1-855f-0ae2f6c867f7')\"\n",
              "              title=\"Convert this dataframe to an interactive table.\"\n",
              "              style=\"display:none;\">\n",
              "        \n",
              "  <svg xmlns=\"http://www.w3.org/2000/svg\" height=\"24px\"viewBox=\"0 0 24 24\"\n",
              "       width=\"24px\">\n",
              "    <path d=\"M0 0h24v24H0V0z\" fill=\"none\"/>\n",
              "    <path d=\"M18.56 5.44l.94 2.06.94-2.06 2.06-.94-2.06-.94-.94-2.06-.94 2.06-2.06.94zm-11 1L8.5 8.5l.94-2.06 2.06-.94-2.06-.94L8.5 2.5l-.94 2.06-2.06.94zm10 10l.94 2.06.94-2.06 2.06-.94-2.06-.94-.94-2.06-.94 2.06-2.06.94z\"/><path d=\"M17.41 7.96l-1.37-1.37c-.4-.4-.92-.59-1.43-.59-.52 0-1.04.2-1.43.59L10.3 9.45l-7.72 7.72c-.78.78-.78 2.05 0 2.83L4 21.41c.39.39.9.59 1.41.59.51 0 1.02-.2 1.41-.59l7.78-7.78 2.81-2.81c.8-.78.8-2.07 0-2.86zM5.41 20L4 18.59l7.72-7.72 1.47 1.35L5.41 20z\"/>\n",
              "  </svg>\n",
              "      </button>\n",
              "      \n",
              "  <style>\n",
              "    .colab-df-container {\n",
              "      display:flex;\n",
              "      flex-wrap:wrap;\n",
              "      gap: 12px;\n",
              "    }\n",
              "\n",
              "    .colab-df-convert {\n",
              "      background-color: #E8F0FE;\n",
              "      border: none;\n",
              "      border-radius: 50%;\n",
              "      cursor: pointer;\n",
              "      display: none;\n",
              "      fill: #1967D2;\n",
              "      height: 32px;\n",
              "      padding: 0 0 0 0;\n",
              "      width: 32px;\n",
              "    }\n",
              "\n",
              "    .colab-df-convert:hover {\n",
              "      background-color: #E2EBFA;\n",
              "      box-shadow: 0px 1px 2px rgba(60, 64, 67, 0.3), 0px 1px 3px 1px rgba(60, 64, 67, 0.15);\n",
              "      fill: #174EA6;\n",
              "    }\n",
              "\n",
              "    [theme=dark] .colab-df-convert {\n",
              "      background-color: #3B4455;\n",
              "      fill: #D2E3FC;\n",
              "    }\n",
              "\n",
              "    [theme=dark] .colab-df-convert:hover {\n",
              "      background-color: #434B5C;\n",
              "      box-shadow: 0px 1px 3px 1px rgba(0, 0, 0, 0.15);\n",
              "      filter: drop-shadow(0px 1px 2px rgba(0, 0, 0, 0.3));\n",
              "      fill: #FFFFFF;\n",
              "    }\n",
              "  </style>\n",
              "\n",
              "      <script>\n",
              "        const buttonEl =\n",
              "          document.querySelector('#df-49437428-f05c-43c1-855f-0ae2f6c867f7 button.colab-df-convert');\n",
              "        buttonEl.style.display =\n",
              "          google.colab.kernel.accessAllowed ? 'block' : 'none';\n",
              "\n",
              "        async function convertToInteractive(key) {\n",
              "          const element = document.querySelector('#df-49437428-f05c-43c1-855f-0ae2f6c867f7');\n",
              "          const dataTable =\n",
              "            await google.colab.kernel.invokeFunction('convertToInteractive',\n",
              "                                                     [key], {});\n",
              "          if (!dataTable) return;\n",
              "\n",
              "          const docLinkHtml = 'Like what you see? Visit the ' +\n",
              "            '<a target=\"_blank\" href=https://colab.research.google.com/notebooks/data_table.ipynb>data table notebook</a>'\n",
              "            + ' to learn more about interactive tables.';\n",
              "          element.innerHTML = '';\n",
              "          dataTable['output_type'] = 'display_data';\n",
              "          await google.colab.output.renderOutput(dataTable, element);\n",
              "          const docLink = document.createElement('div');\n",
              "          docLink.innerHTML = docLinkHtml;\n",
              "          element.appendChild(docLink);\n",
              "        }\n",
              "      </script>\n",
              "    </div>\n",
              "  </div>\n",
              "  "
            ]
          },
          "metadata": {},
          "execution_count": 191
        }
      ]
    },
    {
      "cell_type": "code",
      "source": [
        "base['Categoria'].value_counts()"
      ],
      "metadata": {
        "id": "nuWKf9UfhDTC",
        "outputId": "9e50067d-59a4-4e8d-ab3e-4858d01c06a4",
        "colab": {
          "base_uri": "https://localhost:8080/"
        }
      },
      "execution_count": 192,
      "outputs": [
        {
          "output_type": "execute_result",
          "data": {
            "text/plain": [
              "Lentidão, Trava, Crash, Performance    121\n",
              "Entrega                                 85\n",
              "Pedido cancelamento                     39\n",
              "Erro finalização                        38\n",
              "Erro PIX                                34\n",
              "Loja C&R, Estoque                       27\n",
              "Preço, Prazo, Promoção, Stix            21\n",
              "Erro cartão de crédito                  11\n",
              "Cesta                                   10\n",
              "Busca                                    7\n",
              "Novas Funcionalidades                    6\n",
              "Cadastro, Login, Senha                   5\n",
              "Problema não detalhado                   3\n",
              "Name: Categoria, dtype: int64"
            ]
          },
          "metadata": {},
          "execution_count": 192
        }
      ]
    },
    {
      "cell_type": "code",
      "source": [
        "base = base.sample(frac=1)"
      ],
      "metadata": {
        "id": "KuTiFhOjjvqg"
      },
      "execution_count": 193,
      "outputs": []
    },
    {
      "cell_type": "code",
      "source": [
        "base_treinamento = base.iloc[:350,:]\n",
        "base_teste = base.iloc[350:,:]"
      ],
      "metadata": {
        "id": "fUwCvumZjBgk"
      },
      "execution_count": 194,
      "outputs": []
    },
    {
      "cell_type": "code",
      "source": [
        "base_treinamento.info()"
      ],
      "metadata": {
        "id": "wcKTcFpmkVCT",
        "outputId": "790a416b-1a12-4029-c3f7-c1ff1bd0babe",
        "colab": {
          "base_uri": "https://localhost:8080/"
        }
      },
      "execution_count": 195,
      "outputs": [
        {
          "output_type": "stream",
          "name": "stdout",
          "text": [
            "<class 'pandas.core.frame.DataFrame'>\n",
            "Int64Index: 350 entries, 228 to 148\n",
            "Data columns (total 2 columns):\n",
            " #   Column      Non-Null Count  Dtype \n",
            "---  ------      --------------  ----- \n",
            " 0   Categoria   350 non-null    object\n",
            " 1   Comentario  350 non-null    object\n",
            "dtypes: object(2)\n",
            "memory usage: 8.2+ KB\n"
          ]
        }
      ]
    },
    {
      "cell_type": "code",
      "source": [
        "base_teste.info()"
      ],
      "metadata": {
        "id": "0JPrRIJXkZmX",
        "outputId": "4276dc7d-82ec-48fb-fae9-080119faa473",
        "colab": {
          "base_uri": "https://localhost:8080/"
        }
      },
      "execution_count": 196,
      "outputs": [
        {
          "output_type": "stream",
          "name": "stdout",
          "text": [
            "<class 'pandas.core.frame.DataFrame'>\n",
            "Int64Index: 57 entries, 332 to 201\n",
            "Data columns (total 2 columns):\n",
            " #   Column      Non-Null Count  Dtype \n",
            "---  ------      --------------  ----- \n",
            " 0   Categoria   57 non-null     object\n",
            " 1   Comentario  57 non-null     object\n",
            "dtypes: object(2)\n",
            "memory usage: 1.3+ KB\n"
          ]
        }
      ]
    },
    {
      "cell_type": "code",
      "source": [
        "base_treinamento = base_treinamento.reset_index(drop=True)\n",
        "base_teste = base_teste.reset_index(drop=True)"
      ],
      "metadata": {
        "id": "Frf55PsCmj8I"
      },
      "execution_count": 197,
      "outputs": []
    },
    {
      "cell_type": "code",
      "source": [
        "base_teste.head()"
      ],
      "metadata": {
        "id": "uc1xlaVil0Sz",
        "outputId": "0ef95698-5d21-4d6c-eb62-1884f49167b3",
        "colab": {
          "base_uri": "https://localhost:8080/",
          "height": 206
        }
      },
      "execution_count": 198,
      "outputs": [
        {
          "output_type": "execute_result",
          "data": {
            "text/plain": [
              "                      Categoria  \\\n",
              "0           Pedido cancelamento   \n",
              "1             Loja C&R, Estoque   \n",
              "2  Preço, Prazo, Promoção, Stix   \n",
              "3  Preço, Prazo, Promoção, Stix   \n",
              "4                       Entrega   \n",
              "\n",
              "                                          Comentario  \n",
              "0  cancelam o pedido sem nos ligarnão mostram o p...  \n",
              "1  muitos erros não consulta estoque antes de ofe...  \n",
              "2  vou desinstalar o app e usar o site o app dá o...  \n",
              "3         muito lento na hora de ativar as promoções  \n",
              "4  preciso comprar medicamentos controlados para ...  "
            ],
            "text/html": [
              "\n",
              "  <div id=\"df-6542648e-eb76-47bd-a9e2-da559af06828\">\n",
              "    <div class=\"colab-df-container\">\n",
              "      <div>\n",
              "<style scoped>\n",
              "    .dataframe tbody tr th:only-of-type {\n",
              "        vertical-align: middle;\n",
              "    }\n",
              "\n",
              "    .dataframe tbody tr th {\n",
              "        vertical-align: top;\n",
              "    }\n",
              "\n",
              "    .dataframe thead th {\n",
              "        text-align: right;\n",
              "    }\n",
              "</style>\n",
              "<table border=\"1\" class=\"dataframe\">\n",
              "  <thead>\n",
              "    <tr style=\"text-align: right;\">\n",
              "      <th></th>\n",
              "      <th>Categoria</th>\n",
              "      <th>Comentario</th>\n",
              "    </tr>\n",
              "  </thead>\n",
              "  <tbody>\n",
              "    <tr>\n",
              "      <th>0</th>\n",
              "      <td>Pedido cancelamento</td>\n",
              "      <td>cancelam o pedido sem nos ligarnão mostram o p...</td>\n",
              "    </tr>\n",
              "    <tr>\n",
              "      <th>1</th>\n",
              "      <td>Loja C&amp;R, Estoque</td>\n",
              "      <td>muitos erros não consulta estoque antes de ofe...</td>\n",
              "    </tr>\n",
              "    <tr>\n",
              "      <th>2</th>\n",
              "      <td>Preço, Prazo, Promoção, Stix</td>\n",
              "      <td>vou desinstalar o app e usar o site o app dá o...</td>\n",
              "    </tr>\n",
              "    <tr>\n",
              "      <th>3</th>\n",
              "      <td>Preço, Prazo, Promoção, Stix</td>\n",
              "      <td>muito lento na hora de ativar as promoções</td>\n",
              "    </tr>\n",
              "    <tr>\n",
              "      <th>4</th>\n",
              "      <td>Entrega</td>\n",
              "      <td>preciso comprar medicamentos controlados para ...</td>\n",
              "    </tr>\n",
              "  </tbody>\n",
              "</table>\n",
              "</div>\n",
              "      <button class=\"colab-df-convert\" onclick=\"convertToInteractive('df-6542648e-eb76-47bd-a9e2-da559af06828')\"\n",
              "              title=\"Convert this dataframe to an interactive table.\"\n",
              "              style=\"display:none;\">\n",
              "        \n",
              "  <svg xmlns=\"http://www.w3.org/2000/svg\" height=\"24px\"viewBox=\"0 0 24 24\"\n",
              "       width=\"24px\">\n",
              "    <path d=\"M0 0h24v24H0V0z\" fill=\"none\"/>\n",
              "    <path d=\"M18.56 5.44l.94 2.06.94-2.06 2.06-.94-2.06-.94-.94-2.06-.94 2.06-2.06.94zm-11 1L8.5 8.5l.94-2.06 2.06-.94-2.06-.94L8.5 2.5l-.94 2.06-2.06.94zm10 10l.94 2.06.94-2.06 2.06-.94-2.06-.94-.94-2.06-.94 2.06-2.06.94z\"/><path d=\"M17.41 7.96l-1.37-1.37c-.4-.4-.92-.59-1.43-.59-.52 0-1.04.2-1.43.59L10.3 9.45l-7.72 7.72c-.78.78-.78 2.05 0 2.83L4 21.41c.39.39.9.59 1.41.59.51 0 1.02-.2 1.41-.59l7.78-7.78 2.81-2.81c.8-.78.8-2.07 0-2.86zM5.41 20L4 18.59l7.72-7.72 1.47 1.35L5.41 20z\"/>\n",
              "  </svg>\n",
              "      </button>\n",
              "      \n",
              "  <style>\n",
              "    .colab-df-container {\n",
              "      display:flex;\n",
              "      flex-wrap:wrap;\n",
              "      gap: 12px;\n",
              "    }\n",
              "\n",
              "    .colab-df-convert {\n",
              "      background-color: #E8F0FE;\n",
              "      border: none;\n",
              "      border-radius: 50%;\n",
              "      cursor: pointer;\n",
              "      display: none;\n",
              "      fill: #1967D2;\n",
              "      height: 32px;\n",
              "      padding: 0 0 0 0;\n",
              "      width: 32px;\n",
              "    }\n",
              "\n",
              "    .colab-df-convert:hover {\n",
              "      background-color: #E2EBFA;\n",
              "      box-shadow: 0px 1px 2px rgba(60, 64, 67, 0.3), 0px 1px 3px 1px rgba(60, 64, 67, 0.15);\n",
              "      fill: #174EA6;\n",
              "    }\n",
              "\n",
              "    [theme=dark] .colab-df-convert {\n",
              "      background-color: #3B4455;\n",
              "      fill: #D2E3FC;\n",
              "    }\n",
              "\n",
              "    [theme=dark] .colab-df-convert:hover {\n",
              "      background-color: #434B5C;\n",
              "      box-shadow: 0px 1px 3px 1px rgba(0, 0, 0, 0.15);\n",
              "      filter: drop-shadow(0px 1px 2px rgba(0, 0, 0, 0.3));\n",
              "      fill: #FFFFFF;\n",
              "    }\n",
              "  </style>\n",
              "\n",
              "      <script>\n",
              "        const buttonEl =\n",
              "          document.querySelector('#df-6542648e-eb76-47bd-a9e2-da559af06828 button.colab-df-convert');\n",
              "        buttonEl.style.display =\n",
              "          google.colab.kernel.accessAllowed ? 'block' : 'none';\n",
              "\n",
              "        async function convertToInteractive(key) {\n",
              "          const element = document.querySelector('#df-6542648e-eb76-47bd-a9e2-da559af06828');\n",
              "          const dataTable =\n",
              "            await google.colab.kernel.invokeFunction('convertToInteractive',\n",
              "                                                     [key], {});\n",
              "          if (!dataTable) return;\n",
              "\n",
              "          const docLinkHtml = 'Like what you see? Visit the ' +\n",
              "            '<a target=\"_blank\" href=https://colab.research.google.com/notebooks/data_table.ipynb>data table notebook</a>'\n",
              "            + ' to learn more about interactive tables.';\n",
              "          element.innerHTML = '';\n",
              "          dataTable['output_type'] = 'display_data';\n",
              "          await google.colab.output.renderOutput(dataTable, element);\n",
              "          const docLink = document.createElement('div');\n",
              "          docLink.innerHTML = docLinkHtml;\n",
              "          element.appendChild(docLink);\n",
              "        }\n",
              "      </script>\n",
              "    </div>\n",
              "  </div>\n",
              "  "
            ]
          },
          "metadata": {},
          "execution_count": 198
        }
      ]
    },
    {
      "cell_type": "code",
      "source": [
        "stopwords = nltk.corpus.stopwords.words('portuguese')\n",
        "#print(stopwords)"
      ],
      "metadata": {
        "id": "RhFWvgzyecxh"
      },
      "execution_count": 199,
      "outputs": []
    },
    {
      "cell_type": "code",
      "source": [
        "def removeStopWordsAplicandoStemmer(base):\n",
        "    stemmer = nltk.stem.RSLPStemmer();\n",
        "    frases = [];\n",
        "    for i in range(len(base)):\n",
        "        sem_stop = [str(stemmer.stem(p)) for p in base.loc[i,\"Comentario\"].split() if p not in stopwords]\n",
        "        frases.append((sem_stop, base.loc[i,\"Categoria\"]))\n",
        "    return frases;"
      ],
      "metadata": {
        "id": "pNJqIZskfuzY"
      },
      "execution_count": 200,
      "outputs": []
    },
    {
      "cell_type": "code",
      "source": [
        "frasesComStemmingTreinamento = removeStopWordsAplicandoStemmer(base_treinamento);\n",
        "frasesComStemmingTeste = removeStopWordsAplicandoStemmer(base_teste);\n",
        "#print(frasesComStemming)"
      ],
      "metadata": {
        "id": "ETIA3950jBbs"
      },
      "execution_count": 201,
      "outputs": []
    },
    {
      "cell_type": "code",
      "source": [
        "def buscaPalavras(frases):\n",
        "    todasPalavras = [];\n",
        "    for (palavras, categoria) in frases:\n",
        "        todasPalavras.extend(palavras);\n",
        "    return todasPalavras;"
      ],
      "metadata": {
        "id": "ZbAq8CuZoppR"
      },
      "execution_count": 202,
      "outputs": []
    },
    {
      "cell_type": "code",
      "source": [
        "palavrasTreinamento = buscaPalavras(frasesComStemmingTreinamento);\n",
        "palavrasTeste = buscaPalavras(frasesComStemmingTeste);\n",
        "#print(palavras)"
      ],
      "metadata": {
        "id": "DKgSPfOJsWZA"
      },
      "execution_count": 203,
      "outputs": []
    },
    {
      "cell_type": "code",
      "source": [
        "def buscaFrequencia(palavras):\n",
        "    palavras = nltk.FreqDist(palavras);\n",
        "    return palavras;"
      ],
      "metadata": {
        "id": "efJaizpcsdN1"
      },
      "execution_count": 204,
      "outputs": []
    },
    {
      "cell_type": "code",
      "source": [
        "frequenciaTreinamento = buscaFrequencia(palavrasTreinamento);\n",
        "frequenciaTeste = buscaFrequencia(palavrasTeste);\n",
        "#print(frequencia.most_common(50))"
      ],
      "metadata": {
        "id": "-Fr1tu-Lu7id"
      },
      "execution_count": 205,
      "outputs": []
    },
    {
      "cell_type": "code",
      "source": [
        "def buscaPalavrasUnicas(frequencia):\n",
        "    freq = frequencia.keys();\n",
        "    return freq;"
      ],
      "metadata": {
        "id": "47j6Il9BvEs_"
      },
      "execution_count": 206,
      "outputs": []
    },
    {
      "cell_type": "code",
      "source": [
        "palavrasUnicasTreinamento = buscaPalavrasUnicas(frequenciaTreinamento);\n",
        "palavrasUnicasTeste = buscaPalavrasUnicas(frequenciaTeste);\n",
        "#print(palavrasUnicas)"
      ],
      "metadata": {
        "id": "CcagMVUMvfKq"
      },
      "execution_count": 207,
      "outputs": []
    },
    {
      "cell_type": "code",
      "source": [
        "def extratorPalavras(documento):\n",
        "    doc = set(documento);\n",
        "    caracteristicas = {};\n",
        "    for palavras in palavrasUnicasTreinamento:\n",
        "        caracteristicas['%s' % palavras] = (palavras in doc);\n",
        "    return caracteristicas;"
      ],
      "metadata": {
        "id": "EsBYYtKivnRu"
      },
      "execution_count": 208,
      "outputs": []
    },
    {
      "cell_type": "code",
      "source": [
        "caracteristicasFrases = extratorPalavras({'am', 'nov', 'dia'});\n",
        "#print(caracteristicasFrases)"
      ],
      "metadata": {
        "id": "ttAfD_gw3d3d"
      },
      "execution_count": 209,
      "outputs": []
    },
    {
      "cell_type": "markdown",
      "source": [
        "### Realizando a classificação"
      ],
      "metadata": {
        "id": "FSPNGJyQY20D"
      }
    },
    {
      "cell_type": "code",
      "source": [
        "baseCompletaTreinamento = nltk.classify.apply_features(extratorPalavras, frasesComStemmingTreinamento);\n",
        "baseCompletaTeste = nltk.classify.apply_features(extratorPalavras, frasesComStemmingTeste);\n",
        "#print(baseCompleta);"
      ],
      "metadata": {
        "id": "lSYaPaWQ3pTo"
      },
      "execution_count": 210,
      "outputs": []
    },
    {
      "cell_type": "code",
      "source": [
        "classificador = nltk.NaiveBayesClassifier.train(baseCompletaTreinamento);"
      ],
      "metadata": {
        "id": "oq0Y3mYe5aG4"
      },
      "execution_count": 211,
      "outputs": []
    },
    {
      "cell_type": "code",
      "source": [
        "print(classificador.labels())"
      ],
      "metadata": {
        "id": "J3O0341hhtkc",
        "outputId": "d858037a-2eb9-44d8-852d-b75e26b36ecc",
        "colab": {
          "base_uri": "https://localhost:8080/"
        }
      },
      "execution_count": 212,
      "outputs": [
        {
          "output_type": "stream",
          "name": "stdout",
          "text": [
            "['Lentidão, Trava, Crash, Performance', 'Entrega', 'Erro cartão de crédito', 'Cesta', 'Loja C&R, Estoque', 'Erro PIX', 'Busca', 'Pedido cancelamento', 'Erro finalização', 'Preço, Prazo, Promoção, Stix', 'Problema não detalhado', 'Cadastro, Login, Senha', 'Novas Funcionalidades']\n"
          ]
        }
      ]
    },
    {
      "cell_type": "code",
      "source": [
        " #usando a mesma amostra do modelo treinado\n",
        "print(nltk.classify.accuracy(classificador, baseCompletaTreinamento))"
      ],
      "metadata": {
        "id": "KFCDw48en4B-",
        "outputId": "e6eb430a-c03c-4848-c301-d542e53e0113",
        "colab": {
          "base_uri": "https://localhost:8080/"
        }
      },
      "execution_count": 213,
      "outputs": [
        {
          "output_type": "stream",
          "name": "stdout",
          "text": [
            "0.6857142857142857\n"
          ]
        }
      ]
    },
    {
      "cell_type": "code",
      "source": [
        "#usando a amostra de teste\n",
        "print(nltk.classify.accuracy(classificador, baseCompletaTeste)) "
      ],
      "metadata": {
        "id": "bsqxfFr2oa3d",
        "outputId": "bbc205cf-4991-40c3-be9d-68eb7918c4df",
        "colab": {
          "base_uri": "https://localhost:8080/"
        }
      },
      "execution_count": 214,
      "outputs": [
        {
          "output_type": "stream",
          "name": "stdout",
          "text": [
            "0.5964912280701754\n"
          ]
        }
      ]
    },
    {
      "cell_type": "code",
      "source": [
        "print(classificador.show_most_informative_features(10))"
      ],
      "metadata": {
        "id": "yZF7GieCJh5O",
        "outputId": "890ed93c-3763-405e-f98b-fcd9a7e817c4",
        "colab": {
          "base_uri": "https://localhost:8080/"
        }
      },
      "execution_count": 215,
      "outputs": [
        {
          "output_type": "stream",
          "name": "stdout",
          "text": [
            "Most Informative Features\n",
            "                  cancel = True           Pedido : Lentid =     63.2 : 1.0\n",
            "                    cart = True           Erro c : Entreg =     40.6 : 1.0\n",
            "                     pix = True           Erro P : Lentid =     36.4 : 1.0\n",
            "                  entreg = True           Entreg : Lentid =     33.7 : 1.0\n",
            "                    salv = True           Novas  : Lentid =     33.0 : 1.0\n",
            "                    cont = True           Cadast : Entreg =     25.7 : 1.0\n",
            "                   códig = True           Erro P : Lentid =     24.5 : 1.0\n",
            "                  produt = True           Loja C : Lentid =     23.8 : 1.0\n",
            "                 encontr = True            Busca : Lentid =     23.6 : 1.0\n",
            "                  crédit = True           Erro c : Entreg =     23.5 : 1.0\n",
            "None\n"
          ]
        }
      ]
    },
    {
      "cell_type": "markdown",
      "source": [
        "### Montagem de uma frase para testar classificação."
      ],
      "metadata": {
        "id": "-BBqS6CUXXXv"
      }
    },
    {
      "cell_type": "code",
      "source": [
        "testeFrase = 'Não aparece mais o Retirar na Loja!!! Desisti'"
      ],
      "metadata": {
        "id": "Z4gtPrMESJ_5"
      },
      "execution_count": 216,
      "outputs": []
    },
    {
      "cell_type": "code",
      "source": [
        "def aplicandoStemmerFrase(frase):\n",
        "    stemmer = nltk.stem.RSLPStemmer();\n",
        "    frases = [];\n",
        "    for (palavrasTreinamento) in frase.split():\n",
        "        com_stem_sem_stop = [p for p in palavrasTreinamento.split()];\n",
        "        frases.append(str(stemmer.stem(com_stem_sem_stop[0])));\n",
        "    return frases;"
      ],
      "metadata": {
        "id": "WgVqwgVkSlxQ"
      },
      "execution_count": 217,
      "outputs": []
    },
    {
      "cell_type": "code",
      "source": [
        "fraseComStemming = aplicandoStemmerFrase(testeFrase)\n",
        "print(fraseComStemming)"
      ],
      "metadata": {
        "id": "BPR1IQeMUtYO",
        "outputId": "069d7b09-32bc-4bc7-8152-5fc0d7de6620",
        "colab": {
          "base_uri": "https://localhost:8080/"
        }
      },
      "execution_count": 218,
      "outputs": [
        {
          "output_type": "stream",
          "name": "stdout",
          "text": [
            "['não', 'aparec', 'mais', 'o', 'retir', 'na', 'loja!!!', 'desist']\n"
          ]
        }
      ]
    },
    {
      "cell_type": "code",
      "source": [
        "novaFrase = extratorPalavras(fraseComStemming);\n",
        "#print(novaFrase)"
      ],
      "metadata": {
        "id": "SMZfxGK5VIme"
      },
      "execution_count": 219,
      "outputs": []
    },
    {
      "cell_type": "code",
      "source": [
        "print(classificador.classify(novaFrase))"
      ],
      "metadata": {
        "id": "DcuGmKplVcFh",
        "outputId": "2677aaf7-dd7d-4d66-a5bd-7f0ea10dd9ac",
        "colab": {
          "base_uri": "https://localhost:8080/"
        }
      },
      "execution_count": 220,
      "outputs": [
        {
          "output_type": "stream",
          "name": "stdout",
          "text": [
            "Lentidão, Trava, Crash, Performance\n"
          ]
        }
      ]
    },
    {
      "cell_type": "code",
      "source": [
        "distribuicao = classificador.prob_classify(novaFrase)\n",
        "for classe in distribuicao.samples():\n",
        "    print(\"%s: %f\" % (classe, distribuicao.prob(classe)))"
      ],
      "metadata": {
        "id": "kzbbdntHVqyt",
        "outputId": "0c9c1de3-8f6f-4610-90ba-6d7f2a2973ee",
        "colab": {
          "base_uri": "https://localhost:8080/"
        }
      },
      "execution_count": 221,
      "outputs": [
        {
          "output_type": "stream",
          "name": "stdout",
          "text": [
            "Lentidão, Trava, Crash, Performance: 0.989156\n",
            "Entrega: 0.010841\n",
            "Erro cartão de crédito: 0.000000\n",
            "Cesta: 0.000000\n",
            "Loja C&R, Estoque: 0.000000\n",
            "Erro PIX: 0.000002\n",
            "Busca: 0.000000\n",
            "Pedido cancelamento: 0.000000\n",
            "Erro finalização: 0.000001\n",
            "Preço, Prazo, Promoção, Stix: 0.000000\n",
            "Problema não detalhado: 0.000000\n",
            "Cadastro, Login, Senha: 0.000000\n",
            "Novas Funcionalidades: 0.000000\n"
          ]
        }
      ]
    },
    {
      "cell_type": "markdown",
      "source": [
        "### Montagem dos dados novos para classificação"
      ],
      "metadata": {
        "id": "PTgdwBVdXRPO"
      }
    },
    {
      "cell_type": "code",
      "source": [
        "baseSemCategoria = pd.read_csv('sample_data/lista.csv', sep=';', engine='python')"
      ],
      "metadata": {
        "id": "wAs5Zz9AVQmF"
      },
      "execution_count": 222,
      "outputs": []
    },
    {
      "cell_type": "code",
      "source": [
        "baseSemCategoria['Comentario'] = baseSemCategoria['Comentario'].map(lambda x: re.sub('[,\\.!?-]', '', x))\n",
        "baseSemCategoria['Comentario'] = baseSemCategoria['Comentario'].map(lambda x: x.lower())"
      ],
      "metadata": {
        "id": "kxUdqM_qXEUt"
      },
      "execution_count": 223,
      "outputs": []
    },
    {
      "cell_type": "code",
      "source": [
        "def removeStopWordsAplicandoStemmerSemCategoria(base):\n",
        "    stemmer = nltk.stem.RSLPStemmer();\n",
        "    frases = [];\n",
        "    for i in range(len(base)):\n",
        "        sem_stop = [str(stemmer.stem(p)) for p in base.loc[i,\"Comentario\"].split() if p not in stopwords];\n",
        "        frases.append(sem_stop);\n",
        "    return frases;"
      ],
      "metadata": {
        "id": "8EoUNG8RUvEg"
      },
      "execution_count": 224,
      "outputs": []
    },
    {
      "cell_type": "code",
      "source": [
        "frasesComStemmingSemCategoria = removeStopWordsAplicandoStemmerSemCategoria(baseSemCategoria)\n",
        "#print(frasesComStemmingSemCategoria)"
      ],
      "metadata": {
        "id": "ftgdapmaVOSg"
      },
      "execution_count": 225,
      "outputs": []
    },
    {
      "cell_type": "code",
      "source": [
        "baseCompletaSemClassificacao = nltk.classify.apply_features(extratorPalavras, frasesComStemmingSemCategoria);"
      ],
      "metadata": {
        "id": "fwTFgsE-Xx4t"
      },
      "execution_count": 226,
      "outputs": []
    },
    {
      "cell_type": "code",
      "source": [
        "#print(baseCompletaSemClassificacao)"
      ],
      "metadata": {
        "id": "5zR7-vo-ZH2w"
      },
      "execution_count": 227,
      "outputs": []
    },
    {
      "cell_type": "code",
      "source": [
        ""
      ],
      "metadata": {
        "id": "8amFDp_9ZioY"
      },
      "execution_count": 227,
      "outputs": []
    }
  ]
}