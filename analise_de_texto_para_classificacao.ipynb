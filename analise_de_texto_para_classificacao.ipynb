{
  "nbformat": 4,
  "nbformat_minor": 0,
  "metadata": {
    "colab": {
      "name": "analise de texto para classificacao.ipynb",
      "provenance": [],
      "authorship_tag": "ABX9TyPcXcYP7sQPCHFUvlex948v",
      "include_colab_link": true
    },
    "kernelspec": {
      "name": "python3",
      "display_name": "Python 3"
    },
    "language_info": {
      "name": "python"
    }
  },
  "cells": [
    {
      "cell_type": "markdown",
      "metadata": {
        "id": "view-in-github",
        "colab_type": "text"
      },
      "source": [
        "<a href=\"https://colab.research.google.com/github/itimes-digital/mineracao-texto/blob/main/analise_de_texto_para_classificacao.ipynb\" target=\"_parent\"><img src=\"https://colab.research.google.com/assets/colab-badge.svg\" alt=\"Open In Colab\"/></a>"
      ]
    },
    {
      "cell_type": "code",
      "source": [
        "import nltk\n",
        "import pandas as pd\n",
        "import re"
      ],
      "metadata": {
        "id": "JWvMRVKIfwxY"
      },
      "execution_count": 1,
      "outputs": []
    },
    {
      "cell_type": "code",
      "source": [
        "nltk.download('stopwords')"
      ],
      "metadata": {
        "colab": {
          "base_uri": "https://localhost:8080/"
        },
        "id": "T4hcPGz5sbpK",
        "outputId": "64b9ebc9-4d10-4d0b-a1da-0daece9a687c"
      },
      "execution_count": 2,
      "outputs": [
        {
          "output_type": "stream",
          "name": "stdout",
          "text": [
            "[nltk_data] Downloading package stopwords to /root/nltk_data...\n",
            "[nltk_data]   Unzipping corpora/stopwords.zip.\n"
          ]
        },
        {
          "output_type": "execute_result",
          "data": {
            "text/plain": [
              "True"
            ]
          },
          "metadata": {},
          "execution_count": 2
        }
      ]
    },
    {
      "cell_type": "code",
      "source": [
        "nltk.download('rslp')"
      ],
      "metadata": {
        "colab": {
          "base_uri": "https://localhost:8080/"
        },
        "id": "chd2f5JKvwuU",
        "outputId": "07c4f82e-a6a2-455e-b763-3eb9d182bc8b"
      },
      "execution_count": 3,
      "outputs": [
        {
          "output_type": "stream",
          "name": "stdout",
          "text": [
            "[nltk_data] Downloading package rslp to /root/nltk_data...\n",
            "[nltk_data]   Unzipping stemmers/rslp.zip.\n"
          ]
        },
        {
          "output_type": "execute_result",
          "data": {
            "text/plain": [
              "True"
            ]
          },
          "metadata": {},
          "execution_count": 3
        }
      ]
    },
    {
      "cell_type": "code",
      "source": [
        "base = pd.read_csv('sample_data/lista_classificada.csv', sep=';', engine='python')"
      ],
      "metadata": {
        "id": "S8NdPPr-f3kd"
      },
      "execution_count": 4,
      "outputs": []
    },
    {
      "cell_type": "code",
      "source": [
        "base.head()"
      ],
      "metadata": {
        "colab": {
          "base_uri": "https://localhost:8080/",
          "height": 206
        },
        "id": "IrwvKXAWi1em",
        "outputId": "ed15edc9-2274-4507-ccb0-22576e84c4a7"
      },
      "execution_count": 5,
      "outputs": [
        {
          "output_type": "execute_result",
          "data": {
            "text/plain": [
              "                Categoria                                         Comentario\n",
              "0  Cadastro, Login, Senha  Nao recebi email para validar o cadastro NÃO C...\n",
              "1  Cadastro, Login, Senha                   Não consigo concluir o cadastro.\n",
              "2       Loja C&R, Estoque  Nunca realizei compras pelo app. Pois a forma ...\n",
              "3                 Entrega  Muito demora pra entregar.Farmácia é urgência,...\n",
              "4                 Entrega  Péssimo no que se refere ao item ENTREGA, pois..."
            ],
            "text/html": [
              "\n",
              "  <div id=\"df-b7238a2f-1a40-4a81-9678-28564774e77b\">\n",
              "    <div class=\"colab-df-container\">\n",
              "      <div>\n",
              "<style scoped>\n",
              "    .dataframe tbody tr th:only-of-type {\n",
              "        vertical-align: middle;\n",
              "    }\n",
              "\n",
              "    .dataframe tbody tr th {\n",
              "        vertical-align: top;\n",
              "    }\n",
              "\n",
              "    .dataframe thead th {\n",
              "        text-align: right;\n",
              "    }\n",
              "</style>\n",
              "<table border=\"1\" class=\"dataframe\">\n",
              "  <thead>\n",
              "    <tr style=\"text-align: right;\">\n",
              "      <th></th>\n",
              "      <th>Categoria</th>\n",
              "      <th>Comentario</th>\n",
              "    </tr>\n",
              "  </thead>\n",
              "  <tbody>\n",
              "    <tr>\n",
              "      <th>0</th>\n",
              "      <td>Cadastro, Login, Senha</td>\n",
              "      <td>Nao recebi email para validar o cadastro NÃO C...</td>\n",
              "    </tr>\n",
              "    <tr>\n",
              "      <th>1</th>\n",
              "      <td>Cadastro, Login, Senha</td>\n",
              "      <td>Não consigo concluir o cadastro.</td>\n",
              "    </tr>\n",
              "    <tr>\n",
              "      <th>2</th>\n",
              "      <td>Loja C&amp;R, Estoque</td>\n",
              "      <td>Nunca realizei compras pelo app. Pois a forma ...</td>\n",
              "    </tr>\n",
              "    <tr>\n",
              "      <th>3</th>\n",
              "      <td>Entrega</td>\n",
              "      <td>Muito demora pra entregar.Farmácia é urgência,...</td>\n",
              "    </tr>\n",
              "    <tr>\n",
              "      <th>4</th>\n",
              "      <td>Entrega</td>\n",
              "      <td>Péssimo no que se refere ao item ENTREGA, pois...</td>\n",
              "    </tr>\n",
              "  </tbody>\n",
              "</table>\n",
              "</div>\n",
              "      <button class=\"colab-df-convert\" onclick=\"convertToInteractive('df-b7238a2f-1a40-4a81-9678-28564774e77b')\"\n",
              "              title=\"Convert this dataframe to an interactive table.\"\n",
              "              style=\"display:none;\">\n",
              "        \n",
              "  <svg xmlns=\"http://www.w3.org/2000/svg\" height=\"24px\"viewBox=\"0 0 24 24\"\n",
              "       width=\"24px\">\n",
              "    <path d=\"M0 0h24v24H0V0z\" fill=\"none\"/>\n",
              "    <path d=\"M18.56 5.44l.94 2.06.94-2.06 2.06-.94-2.06-.94-.94-2.06-.94 2.06-2.06.94zm-11 1L8.5 8.5l.94-2.06 2.06-.94-2.06-.94L8.5 2.5l-.94 2.06-2.06.94zm10 10l.94 2.06.94-2.06 2.06-.94-2.06-.94-.94-2.06-.94 2.06-2.06.94z\"/><path d=\"M17.41 7.96l-1.37-1.37c-.4-.4-.92-.59-1.43-.59-.52 0-1.04.2-1.43.59L10.3 9.45l-7.72 7.72c-.78.78-.78 2.05 0 2.83L4 21.41c.39.39.9.59 1.41.59.51 0 1.02-.2 1.41-.59l7.78-7.78 2.81-2.81c.8-.78.8-2.07 0-2.86zM5.41 20L4 18.59l7.72-7.72 1.47 1.35L5.41 20z\"/>\n",
              "  </svg>\n",
              "      </button>\n",
              "      \n",
              "  <style>\n",
              "    .colab-df-container {\n",
              "      display:flex;\n",
              "      flex-wrap:wrap;\n",
              "      gap: 12px;\n",
              "    }\n",
              "\n",
              "    .colab-df-convert {\n",
              "      background-color: #E8F0FE;\n",
              "      border: none;\n",
              "      border-radius: 50%;\n",
              "      cursor: pointer;\n",
              "      display: none;\n",
              "      fill: #1967D2;\n",
              "      height: 32px;\n",
              "      padding: 0 0 0 0;\n",
              "      width: 32px;\n",
              "    }\n",
              "\n",
              "    .colab-df-convert:hover {\n",
              "      background-color: #E2EBFA;\n",
              "      box-shadow: 0px 1px 2px rgba(60, 64, 67, 0.3), 0px 1px 3px 1px rgba(60, 64, 67, 0.15);\n",
              "      fill: #174EA6;\n",
              "    }\n",
              "\n",
              "    [theme=dark] .colab-df-convert {\n",
              "      background-color: #3B4455;\n",
              "      fill: #D2E3FC;\n",
              "    }\n",
              "\n",
              "    [theme=dark] .colab-df-convert:hover {\n",
              "      background-color: #434B5C;\n",
              "      box-shadow: 0px 1px 3px 1px rgba(0, 0, 0, 0.15);\n",
              "      filter: drop-shadow(0px 1px 2px rgba(0, 0, 0, 0.3));\n",
              "      fill: #FFFFFF;\n",
              "    }\n",
              "  </style>\n",
              "\n",
              "      <script>\n",
              "        const buttonEl =\n",
              "          document.querySelector('#df-b7238a2f-1a40-4a81-9678-28564774e77b button.colab-df-convert');\n",
              "        buttonEl.style.display =\n",
              "          google.colab.kernel.accessAllowed ? 'block' : 'none';\n",
              "\n",
              "        async function convertToInteractive(key) {\n",
              "          const element = document.querySelector('#df-b7238a2f-1a40-4a81-9678-28564774e77b');\n",
              "          const dataTable =\n",
              "            await google.colab.kernel.invokeFunction('convertToInteractive',\n",
              "                                                     [key], {});\n",
              "          if (!dataTable) return;\n",
              "\n",
              "          const docLinkHtml = 'Like what you see? Visit the ' +\n",
              "            '<a target=\"_blank\" href=https://colab.research.google.com/notebooks/data_table.ipynb>data table notebook</a>'\n",
              "            + ' to learn more about interactive tables.';\n",
              "          element.innerHTML = '';\n",
              "          dataTable['output_type'] = 'display_data';\n",
              "          await google.colab.output.renderOutput(dataTable, element);\n",
              "          const docLink = document.createElement('div');\n",
              "          docLink.innerHTML = docLinkHtml;\n",
              "          element.appendChild(docLink);\n",
              "        }\n",
              "      </script>\n",
              "    </div>\n",
              "  </div>\n",
              "  "
            ]
          },
          "metadata": {},
          "execution_count": 5
        }
      ]
    },
    {
      "cell_type": "code",
      "source": [
        "base['Comentario'] = base['Comentario'].map(lambda x: re.sub('[,\\.!?-]', '', x))\n",
        "base['Comentario'] = base['Comentario'].map(lambda x: x.lower())"
      ],
      "metadata": {
        "id": "7fzl7ZGDwKVj"
      },
      "execution_count": 6,
      "outputs": []
    },
    {
      "cell_type": "code",
      "source": [
        "base.head()"
      ],
      "metadata": {
        "colab": {
          "base_uri": "https://localhost:8080/",
          "height": 206
        },
        "id": "lnPvABuqwuWI",
        "outputId": "46cf9916-40db-4c56-b6d1-feb4ff06fb81"
      },
      "execution_count": 7,
      "outputs": [
        {
          "output_type": "execute_result",
          "data": {
            "text/plain": [
              "                Categoria                                         Comentario\n",
              "0  Cadastro, Login, Senha  nao recebi email para validar o cadastro não c...\n",
              "1  Cadastro, Login, Senha                    não consigo concluir o cadastro\n",
              "2       Loja C&R, Estoque  nunca realizei compras pelo app pois a forma d...\n",
              "3                 Entrega  muito demora pra entregarfarmácia é urgência q...\n",
              "4                 Entrega  péssimo no que se refere ao item entrega pois ..."
            ],
            "text/html": [
              "\n",
              "  <div id=\"df-37605133-720f-4209-b3b6-50d960317629\">\n",
              "    <div class=\"colab-df-container\">\n",
              "      <div>\n",
              "<style scoped>\n",
              "    .dataframe tbody tr th:only-of-type {\n",
              "        vertical-align: middle;\n",
              "    }\n",
              "\n",
              "    .dataframe tbody tr th {\n",
              "        vertical-align: top;\n",
              "    }\n",
              "\n",
              "    .dataframe thead th {\n",
              "        text-align: right;\n",
              "    }\n",
              "</style>\n",
              "<table border=\"1\" class=\"dataframe\">\n",
              "  <thead>\n",
              "    <tr style=\"text-align: right;\">\n",
              "      <th></th>\n",
              "      <th>Categoria</th>\n",
              "      <th>Comentario</th>\n",
              "    </tr>\n",
              "  </thead>\n",
              "  <tbody>\n",
              "    <tr>\n",
              "      <th>0</th>\n",
              "      <td>Cadastro, Login, Senha</td>\n",
              "      <td>nao recebi email para validar o cadastro não c...</td>\n",
              "    </tr>\n",
              "    <tr>\n",
              "      <th>1</th>\n",
              "      <td>Cadastro, Login, Senha</td>\n",
              "      <td>não consigo concluir o cadastro</td>\n",
              "    </tr>\n",
              "    <tr>\n",
              "      <th>2</th>\n",
              "      <td>Loja C&amp;R, Estoque</td>\n",
              "      <td>nunca realizei compras pelo app pois a forma d...</td>\n",
              "    </tr>\n",
              "    <tr>\n",
              "      <th>3</th>\n",
              "      <td>Entrega</td>\n",
              "      <td>muito demora pra entregarfarmácia é urgência q...</td>\n",
              "    </tr>\n",
              "    <tr>\n",
              "      <th>4</th>\n",
              "      <td>Entrega</td>\n",
              "      <td>péssimo no que se refere ao item entrega pois ...</td>\n",
              "    </tr>\n",
              "  </tbody>\n",
              "</table>\n",
              "</div>\n",
              "      <button class=\"colab-df-convert\" onclick=\"convertToInteractive('df-37605133-720f-4209-b3b6-50d960317629')\"\n",
              "              title=\"Convert this dataframe to an interactive table.\"\n",
              "              style=\"display:none;\">\n",
              "        \n",
              "  <svg xmlns=\"http://www.w3.org/2000/svg\" height=\"24px\"viewBox=\"0 0 24 24\"\n",
              "       width=\"24px\">\n",
              "    <path d=\"M0 0h24v24H0V0z\" fill=\"none\"/>\n",
              "    <path d=\"M18.56 5.44l.94 2.06.94-2.06 2.06-.94-2.06-.94-.94-2.06-.94 2.06-2.06.94zm-11 1L8.5 8.5l.94-2.06 2.06-.94-2.06-.94L8.5 2.5l-.94 2.06-2.06.94zm10 10l.94 2.06.94-2.06 2.06-.94-2.06-.94-.94-2.06-.94 2.06-2.06.94z\"/><path d=\"M17.41 7.96l-1.37-1.37c-.4-.4-.92-.59-1.43-.59-.52 0-1.04.2-1.43.59L10.3 9.45l-7.72 7.72c-.78.78-.78 2.05 0 2.83L4 21.41c.39.39.9.59 1.41.59.51 0 1.02-.2 1.41-.59l7.78-7.78 2.81-2.81c.8-.78.8-2.07 0-2.86zM5.41 20L4 18.59l7.72-7.72 1.47 1.35L5.41 20z\"/>\n",
              "  </svg>\n",
              "      </button>\n",
              "      \n",
              "  <style>\n",
              "    .colab-df-container {\n",
              "      display:flex;\n",
              "      flex-wrap:wrap;\n",
              "      gap: 12px;\n",
              "    }\n",
              "\n",
              "    .colab-df-convert {\n",
              "      background-color: #E8F0FE;\n",
              "      border: none;\n",
              "      border-radius: 50%;\n",
              "      cursor: pointer;\n",
              "      display: none;\n",
              "      fill: #1967D2;\n",
              "      height: 32px;\n",
              "      padding: 0 0 0 0;\n",
              "      width: 32px;\n",
              "    }\n",
              "\n",
              "    .colab-df-convert:hover {\n",
              "      background-color: #E2EBFA;\n",
              "      box-shadow: 0px 1px 2px rgba(60, 64, 67, 0.3), 0px 1px 3px 1px rgba(60, 64, 67, 0.15);\n",
              "      fill: #174EA6;\n",
              "    }\n",
              "\n",
              "    [theme=dark] .colab-df-convert {\n",
              "      background-color: #3B4455;\n",
              "      fill: #D2E3FC;\n",
              "    }\n",
              "\n",
              "    [theme=dark] .colab-df-convert:hover {\n",
              "      background-color: #434B5C;\n",
              "      box-shadow: 0px 1px 3px 1px rgba(0, 0, 0, 0.15);\n",
              "      filter: drop-shadow(0px 1px 2px rgba(0, 0, 0, 0.3));\n",
              "      fill: #FFFFFF;\n",
              "    }\n",
              "  </style>\n",
              "\n",
              "      <script>\n",
              "        const buttonEl =\n",
              "          document.querySelector('#df-37605133-720f-4209-b3b6-50d960317629 button.colab-df-convert');\n",
              "        buttonEl.style.display =\n",
              "          google.colab.kernel.accessAllowed ? 'block' : 'none';\n",
              "\n",
              "        async function convertToInteractive(key) {\n",
              "          const element = document.querySelector('#df-37605133-720f-4209-b3b6-50d960317629');\n",
              "          const dataTable =\n",
              "            await google.colab.kernel.invokeFunction('convertToInteractive',\n",
              "                                                     [key], {});\n",
              "          if (!dataTable) return;\n",
              "\n",
              "          const docLinkHtml = 'Like what you see? Visit the ' +\n",
              "            '<a target=\"_blank\" href=https://colab.research.google.com/notebooks/data_table.ipynb>data table notebook</a>'\n",
              "            + ' to learn more about interactive tables.';\n",
              "          element.innerHTML = '';\n",
              "          dataTable['output_type'] = 'display_data';\n",
              "          await google.colab.output.renderOutput(dataTable, element);\n",
              "          const docLink = document.createElement('div');\n",
              "          docLink.innerHTML = docLinkHtml;\n",
              "          element.appendChild(docLink);\n",
              "        }\n",
              "      </script>\n",
              "    </div>\n",
              "  </div>\n",
              "  "
            ]
          },
          "metadata": {},
          "execution_count": 7
        }
      ]
    },
    {
      "cell_type": "code",
      "source": [
        "stopwords = nltk.corpus.stopwords.words('portuguese')\n",
        "#print(stopwords)"
      ],
      "metadata": {
        "id": "RhFWvgzyecxh"
      },
      "execution_count": 8,
      "outputs": []
    },
    {
      "cell_type": "code",
      "source": [
        "def removeStopWordsAplicandoStemmer(base):\n",
        "    stemmer = nltk.stem.RSLPStemmer();\n",
        "    frases = [];\n",
        "    for i in range(len(base)):\n",
        "        sem_stop = [str(stemmer.stem(p)) for p in base.loc[i,\"Comentario\"].split() if p not in stopwords]\n",
        "        frases.append((sem_stop, base.loc[i,\"Categoria\"]))\n",
        "    return frases;"
      ],
      "metadata": {
        "id": "pNJqIZskfuzY"
      },
      "execution_count": 9,
      "outputs": []
    },
    {
      "cell_type": "code",
      "source": [
        "frasesComStemming = removeStopWordsAplicandoStemmer(base);\n",
        "#print(frasesComStemming)"
      ],
      "metadata": {
        "id": "ETIA3950jBbs"
      },
      "execution_count": 10,
      "outputs": []
    },
    {
      "cell_type": "code",
      "source": [
        "def buscaPalavras(frases):\n",
        "    todasPalavras = [];\n",
        "    for (palavras, categoria) in frases:\n",
        "        todasPalavras.extend(palavras);\n",
        "    return todasPalavras;"
      ],
      "metadata": {
        "id": "ZbAq8CuZoppR"
      },
      "execution_count": 11,
      "outputs": []
    },
    {
      "cell_type": "code",
      "source": [
        "palavras = buscaPalavras(frasesComStemming);\n",
        "#print(palavras)"
      ],
      "metadata": {
        "id": "DKgSPfOJsWZA"
      },
      "execution_count": 12,
      "outputs": []
    },
    {
      "cell_type": "code",
      "source": [
        "def buscaFrequencia(palavras):\n",
        "    palavras = nltk.FreqDist(palavras);\n",
        "    return palavras;"
      ],
      "metadata": {
        "id": "efJaizpcsdN1"
      },
      "execution_count": 13,
      "outputs": []
    },
    {
      "cell_type": "code",
      "source": [
        "frequencia = buscaFrequencia(palavras);\n",
        "#print(frequencia.most_common(50))"
      ],
      "metadata": {
        "id": "-Fr1tu-Lu7id"
      },
      "execution_count": 14,
      "outputs": []
    },
    {
      "cell_type": "code",
      "source": [
        "def buscaPalavrasUnicas(frequencia):\n",
        "    freq = frequencia.keys();\n",
        "    return freq;"
      ],
      "metadata": {
        "id": "47j6Il9BvEs_"
      },
      "execution_count": 15,
      "outputs": []
    },
    {
      "cell_type": "code",
      "source": [
        "palavrasUnicas = buscaPalavrasUnicas(frequencia);\n",
        "#print(palavrasUnicas)"
      ],
      "metadata": {
        "id": "CcagMVUMvfKq"
      },
      "execution_count": 16,
      "outputs": []
    },
    {
      "cell_type": "code",
      "source": [
        "def extratorPalavras(documento):\n",
        "    doc = set(documento);\n",
        "    caracteristicas = {};\n",
        "    for palavras in palavrasUnicas:\n",
        "        caracteristicas['%s' % palavras] = (palavras in doc);\n",
        "    return caracteristicas;"
      ],
      "metadata": {
        "id": "EsBYYtKivnRu"
      },
      "execution_count": 17,
      "outputs": []
    },
    {
      "cell_type": "code",
      "source": [
        "caracteristicasFrases = extratorPalavras({'am', 'nov', 'dia'});\n",
        "#print(caracteristicasFrases)"
      ],
      "metadata": {
        "id": "ttAfD_gw3d3d"
      },
      "execution_count": 18,
      "outputs": []
    },
    {
      "cell_type": "code",
      "source": [
        "baseCompleta = nltk.classify.apply_features(extratorPalavras, frasesComStemming);\n",
        "#print(baseCompleta);"
      ],
      "metadata": {
        "id": "lSYaPaWQ3pTo"
      },
      "execution_count": 19,
      "outputs": []
    },
    {
      "cell_type": "code",
      "source": [
        "classificador = nltk.NaiveBayesClassifier.train(baseCompleta);"
      ],
      "metadata": {
        "id": "oq0Y3mYe5aG4"
      },
      "execution_count": 20,
      "outputs": []
    },
    {
      "cell_type": "code",
      "source": [
        "print(classificador.show_most_informative_features(10))"
      ],
      "metadata": {
        "id": "yZF7GieCJh5O",
        "outputId": "70ee9632-01ac-4b6b-92b5-4ae648e6b74c",
        "colab": {
          "base_uri": "https://localhost:8080/"
        }
      },
      "execution_count": 21,
      "outputs": [
        {
          "output_type": "stream",
          "name": "stdout",
          "text": [
            "Most Informative Features\n",
            "                  cancel = True           Pedido : Lentid =     78.3 : 1.0\n",
            "                    cart = True           Erro c : Entreg =     45.4 : 1.0\n",
            "                     pix = True           Erro P : Lentid =     45.3 : 1.0\n",
            "                   acess = True           Cadast : Lentid =     33.9 : 1.0\n",
            "                     peg = True           Proble : Lentid =     30.5 : 1.0\n",
            "                   retir = True           Proble : Lentid =     30.5 : 1.0\n",
            "                  estoqu = True           Loja C : Lentid =     30.5 : 1.0\n",
            "                  adiant = True           Proble : Lentid =     30.5 : 1.0\n",
            "                  entreg = True           Entreg : Lentid =     30.2 : 1.0\n",
            "                   códig = True           Erro P : Lentid =     29.0 : 1.0\n",
            "None\n"
          ]
        }
      ]
    },
    {
      "cell_type": "code",
      "source": [
        "testeFrase = 'Não aparece mais o Retirar na Loja!!! Desisti'"
      ],
      "metadata": {
        "id": "Z4gtPrMESJ_5"
      },
      "execution_count": 22,
      "outputs": []
    },
    {
      "cell_type": "code",
      "source": [
        "def aplicandoStemmerFrase(frase):\n",
        "    stemmer = nltk.stem.RSLPStemmer();\n",
        "    frases = [];\n",
        "    for (palavras) in frase.split():\n",
        "        com_stem_sem_stop = [p for p in palavras.split()];\n",
        "        frases.append(str(stemmer.stem(com_stem_sem_stop[0])));\n",
        "    return frases;"
      ],
      "metadata": {
        "id": "WgVqwgVkSlxQ"
      },
      "execution_count": 23,
      "outputs": []
    },
    {
      "cell_type": "code",
      "source": [
        "fraseComStemming = aplicandoStemmerFrase(testeFrase)\n",
        "print(fraseComStemming)"
      ],
      "metadata": {
        "id": "BPR1IQeMUtYO",
        "outputId": "7141157e-0b43-49d7-cdaf-e0355bdf8922",
        "colab": {
          "base_uri": "https://localhost:8080/"
        }
      },
      "execution_count": 24,
      "outputs": [
        {
          "output_type": "stream",
          "name": "stdout",
          "text": [
            "['não', 'aparec', 'mais', 'o', 'retir', 'na', 'loja!!!', 'desist']\n"
          ]
        }
      ]
    },
    {
      "cell_type": "code",
      "source": [
        "novaFrase = extratorPalavras(fraseComStemming);\n",
        "#print(novaFrase)"
      ],
      "metadata": {
        "id": "SMZfxGK5VIme",
        "outputId": "ce18d7ce-f4c8-4104-dc55-5a3fe8e340f7",
        "colab": {
          "base_uri": "https://localhost:8080/"
        }
      },
      "execution_count": 28,
      "outputs": [
        {
          "output_type": "stream",
          "name": "stdout",
          "text": [
            "{'nao': False, 'receb': False, 'email': False, 'valid': False, 'cadastr': False, 'cosig': False, 'acess': False, 'cont': False, 'consig': False, 'conclu': False, 'nunc': False, 'realiz': False, 'compr': False, 'app': False, 'poi': False, 'form': False, 'pag': False, 'limit': False, 'local': False, 'entreg': False, 'opç': False, 'produt': False, 'sit': False, 'atend': False, 'necess': False, 'dem': False, 'pra': False, 'entregarfarmác': False, 'urg': False, 'quer': False, 'facil': False, 'interf': False, 'saúd': False, 'péss': False, 'drogasil': False, 'ref': False, 'it': False, 'sempr': False, 'precis': False, 'medic': False, 'rotin': False, 'vai': False, 'man': False, 'escandal': False, 'doi': False, 'dia': False, 'uteisdesd': False, 'ontemqu': False, 'tent': False, 'cond': False, 'sair': False, 'cas': False, 'aparec': True, 'impossív': False, 'dev': False, 'ter': False, 'rápid': False, 'descont': False, 'vou': False, 'desinstal': False, 'us': False, 'dá': False, 'err': False, 'laboratóri': False, 'organiz': False, 'ord': False, 'preç': False, '(no': False, 'opção)': False, 'viabiliz': False, 'retir': True, 'loj': False, 's': False, 'demal': False, 'problem': False, 'liber': False, 'ped': False, 'via': False, 'pix': False, 'aleg': False, 'pod': False, 'estorn': False, 'val': False, 'após': False, '13': False, 'transtorn': False, 'solicit': False, 'comprov': False, 'extrat': False, 'b': False, 'serv': False, '7': False, 'lá': False, 'morr': False, '3': False, 'vez': False, 'gigantesc': False, 'pen': False, 'n': False, 'vei': False, 'agor': False, 'faç': False, 'inform': False, 'sobr': False, 'final': False, 'seman': False, 'segundaf': False, 'sextaf': False, 'melhor': False, 'princip': False, 'praz': False, 'clar': False, 'induz': False, 'acab': False, 'cancel': False, 'outr': False, 'fiz': False, '30/04': False, '24h': False, 'eh': False, 'uso': False, 'diári': False, 'tom': False, 'hoj': False, 'porqu': False, 'lig': False, 'transport': False, 'iri': False, 'demor': False, 'bom': False, 'gentil': False, 'favor': False, 'aplic': False, 'endereç': False, 'ness': False, 'rar': False, 'express': False, '2': False, 'hs': False, 'reembols': False, 'ach': False, 'tod': False, 'ofert': False, 'boa': False, 'and': False, 'junt': False, 'efici': False, 'trê': False, 'nenhum': False, 'avis': False, 'contat': False, 'desum': False, 'tud': False, 'lug': False, 'previs': False, 'dor': False, 'long': False, 'útel': False, 'remédi': False, 'etern': False, 'entrega(retir': False, 'loja)': False, 'vir': False, 'ant': False, 'deix': False, 'dúv': False, '29': False, 'abril': False, '9': False, 'mai': False, 'cidad': False, '50': False, 'motiv': False, 'feit': False, 'desrespeit': False, 'consum': False, 'baix': False, 'aguard': False, 'ressarc': False, 'temp': False, 'desej': False, 'geral': False, 'opt': False, 'faz': False, 'concorr': False, 'gost': False, 'expressam': False, 'norm': False, '(': False, '1': False, ')': False, 'absurd': False, 'cobr': False, 'fret': False, 'q': False, 'começ': False, 'divers': False, 'alt': False, 'mê': False, 'vc': False, 'concord': False, 'cobranç': False, 'grat': False, 'cad': False, 'difer': False, 'fic': False, 'vis': False, 'ent': False, 'coloc': False, 'sab': False, 'aument': False, 'torn': False, 'cans': False, 'pesso': False, 'sei': False, 'mei': False, 'confus': False, 'repet': False, 'algum': False, 'fot': False, 'receit': False, 'teleentreg': False, 'reg': False, 'haa': False, 'favort': False, 'ruim': False, 'ir': False, 'busc': False, 'tel': False, 'mor': False, 'centr': False, 'cheg': False, 'entr': False, 'fil': False, 'facilit': False, 'aparent': False, 'hav': False, 'estoqu': False, 'porém': False, 'falt': False, 'send': False, 'aind': False, 'dispon': False, 'fal': False, 'iam': False, 'devolv': False, 'cart': False, 'crédit': False, 'assim': False, 'c': False, 'desd': False, 'ont': False, 'mesm': False, 'mens': False, \"'ocorr\": False, \"possível'\": False, 'troq': False, 'continu': False, 'mex': False, 'func': False, 'daí': False, 'part': False, 'direit': False, 'muit': False, 'exempl': False, 'útil': False, 'doming': False, '20h': False, 'segund': False, 'merd': False, 'pq': False, '90': False, 'ano': False, 'liter': False, 'press': False, 'tav': False, 'mort': False, '02/05': False, '9:08': False, '21:19': False, 'agr': False, 'dad': False, '100%': False, 'arrepend': False, 'escolh': False, 'resid': False, 'grátisa': False, 'ser': False, 'ger': False, 'r$3600ess': False, 'atual': False, 'inser': False, '(vil': False, 'mari': False, 'sp)': False, '21:00h': False, 'hor': False, 'dua': False, 'diss': False, 'nad': False, 'sacan': False, 'lembr': False, 'prim': False, 'use': False, 'decepcion': False, 'injustific': False, 'rode': False, 'pouc': False, 'págin': False, 'esper': False, 'efetu': False, 'fat': False, 'real': False, 'nega': False, 'aterr': False, 'vr': False, 'trabalh': False, 'bairr': False, 'cá': False, 'dist': False, '37km': False, 'control': False, 'anex': False, 'demaisp': False, 'possível': False, 'encontr': False, 'farmác': False, 'pont': False, 'poss': False, 'mostr': False, \"'\": False, 'descobr': False, 'daforin': False, 'consegu': False, 'recebertambém': False, 'disponí': False, 'ultim': False, 'marc': False, '4': False, 'cumpr': False, 'atras': False, 'sempreatend': False, 'educ': False, 'p': False, 'entregarent': False, 'conform': False, '(ocorr': False, '20h)': False, 'const': False, 'resolv': False, '96h': False, 'doent': False, 'finaliz': False, 'compromiss': False, 'respeit': False, 'client': False, 'adiant': False, 'razoá': False, 'empr': False, 'parc': False, 'perd': False, 'confianç': False, 'além': False, 'garimp': False, 'men': False, 'farmac': False, 'imediat': False, 'pess': False, 'linh': False, 'combin': False, 'demorado': False, 'pass': False, 'compras': False, 'est': False, '24': False, 'clientesdev': False, 'tbm': False, 'telefon': False, 'chat': False, 'd': False, 'tir': False, 'metad': False, 'localiz': False, 'fi': False, '27/04': False, 'aí': False, 'hj': False, 'édi': False, '03/05': False, '14:50': False, 'tax': False, 'separ': False, '220503272594': False, 'difícil': False, 'simpl': False, 'dificuldad': False, 'aceit': False, 'pens': False, 'nov': False, 'atr': False, 'valdet': False, 'vergonh': False, 'vári': False, 'diferenci': False, 'cust': False, 'r$500': False, 'bomag': False, 'desejar…1f': False, 'prontos2': False, 'cep': False, 'entregam': False, 'bairroent': False, 'dar': False, 'prefer': False, 'bai': False, 'ret': False, '5': False, 'vár': False, 'peg': False, 'curios': False, 'cupom': False, 'pi': False, 'oferec': False, 'qualqu': False, 'horr': False, 'parec': False, 'odi': False, 'experi': False, 'acompanh': False, 'próx': False, 'qual': False, 'vend': False, 'prejud': False, 'tard': False, 'soment': False, 'cuj': False, 'inter': False, 'retorn': False, 'obrig': False, 'lev': False, 'verific': False, 'formul': False, 'qu': False, 'determin': False, 'correspond': False, 'sent': False, 'estabelec': False, 'manhã': False, 'quadr': False, 'drog': False, 'rai': False, 'capit': False, 'luí': False, 'permit': False, 'process': False, 'grav': False, 'defici': False, '(mor': False, 'cerc': False, '15km)': False, 'lojas)': False, 'um': False, 'prá': False, 'diz': False, 'nâo': False, 'cep/rot': False, 'endereçofic': False, 'conseguin': False, 'ind': False, 'loja': False, 'som': False, 'cest': False, 'voltamm': False, 'válidolig': False, 'ocup': False, 'ultrapass': False, 'sac': False, 'obtiv': False, 'respost': False, 'onlin': False, 'noit': False, '12:44': False, '04/05/22': False, '20:10': False, 'nadasó': False, 'impossibilit': False, 'filh': False, 'necessit': False, 'númer': False, 'pedido:': False, '220504838815': False, 'confirm': False, 'cri': False, 'dand': False, 'únic': False, 'aff': False, 'serviç': False, 'nest': False, 'quesit': False, 'tão': False, 'import': False, 'compens': False, 'encomend': False, 'antibió': False, 'mand': False, 'msg': False, 'at': False, 'sim': False, 'atent': False, 'modific': False, 'statu': False, 'terc': False, 'drogara': False, 'justifoc': False, 'exist': False, 'disponi': False, 'promet': False, 'precid': False, 'ds': False, '4h': False, 'pedidofo': False, '11h': False, 'sao': False, '16:36': False, 'exclu': False, 'pedidon': False, 'cancelamenton': False, 'delet': False, \"'em\": False, \"andamento'\": False, 'apen': False, 'clic': False, 'notific': False, 'acontec': False, 'selec': False, 'temn': False, 'estoquepropu': False, 'entregamuit': False, 'proced': False, 'asser': False, 'desatu': False, 'consult': False, 'finalização…': False, '120': False, 'metr': False, 'mão': False, 'pud': False, 'crem': False, 'pro': False, 'rost': False, 'fisic': False, 'sincron': False, 'pergunt': False, 'é:': False, 'fabric': False, 'dav': False, 'sugir': False, 'mud': False, 'possibil': False, 'sistem': False, 'quas': False, '1h': False, 'acus': False, 'entregu': False, 'reconhec': False, 'carr': False, 'códig': False, 'conf': False, 'banc': False, 'invál': False, 'cert': False, 'cartão': False, 'int': False, 'lix': False, 'funcion': False, 'funcionár': False, 'coliri': False, 'logís': False, 'digit': False, 'recadastr': False, 'senh': False, 'am': False, 'deu': False, 'complet': False, 'selecion': False, 'coloq': False, 'adicion': False, 'copi': False, 'barr': False, '“nã': False, 'ler”…': False, 'prát': False, 'atrapalh': False, 'lixocli': False, 'nadasegund': False, 'porpix': False, 'conseg': False, 'chav': False, 'aleatór': False, 'inexist': False, 'col': False, 'vem': False, 'incomplet': False, 'aprov': False, 'carta': False, 'cerdito)': False, 'cop': False, 'qr': False, 'coldemuit': False, 'aplicativoest': False, 'provid': False, 'agiliz': False, 'sse': False, 'gent': False, 'aprove': False, 'pixcart': False, 'ok': False, 've': False, 'ze': False, 'envi': False, 'funcionaarrum': False, 'r$13275': False, 'r$15480um': False, 'diferenç': False, 'r$20': False, 'explicaçãop': False, 'volt': False, 'recomend': False, 'conheç': False, 'fiq': False, 'n°500': False, 'pagamento:': False, 'pix…': False, 'transf': False, 'tr': False, 'moment': False, 'lent': False, 'risc': False, 'duplic': False, 'preench': False, 'comerc': False, 'dur': False, 'madrug': False, 'trav': False, 'paci': False, 'salv': False, 'pessoal': False, '(com': False, 'crédito)': False, 'revis': False, 'inclu': False, 'pes': False, 'abr': False, 'usu': False, 'ativ': False, 'sai': False, 'chei': False, 'lentidão2': False, 'lament': False, 'instabil': False, 'recuper': False, 'impress': False, 'dentr': False, 'travan': False, 'partomuit': False, 'mta': False, 'vál': False, 'internet': False, 'cois': False, 'abert': False, 'cham': False, 'mto': False, 'mes': False, 'unific': False, 'cpf': False, 'plan': False, 'design': False, 'impact': False, 'suplement': False, 'aliment': False, 'imun': False, '+': False, 'zinc': False, 'igual': False, 'louc': False, 'tend': False, 'instal': False, 'desist': True, 'red': False, 'recom': False, 'fech': False, 'sequ': False, 'result': False, 'promoç': False, 'orient': False, 'sufici': False, 'autonom': False, 'simples': False, 'entregadifícil': False, 'tant': False, 'wif': False, 'quant': False, 'móvel': False, 'remedi': False, 'perceb': False, 'frequ': False, 'sempre;muit': False, 'funções;': False, 'mal': False, 'confund': False, 'balcon': False, 'perdes': False, 'diret': False, 'inconsist': False, 'persist': False, 'bem': False, 'rod': False, 'lis': False, 'aparelh': False, 'ia': False, 'ajud': False, 'ótim': False, 'complic': False, 'qd': False, '0': False, 'hom': False, 'avali': False, 'forç': False, 'apes': False, 'bug': False, 'falh': False, 'respond': False, 'troc': False, 'prec': False, 'muitom': False, 'maior': False, 'temdispon': False, 'imedi': False, 'elev': False, 'camp': False, 'pequen': False, 'agoni': False, 'insatisfeit': False, 'funç': False, 'carreg': False, 'uma': False, 'vezesfinaliz': False, 'apresent': False, '(trava)': False, 'últ': False, 'reinici': False, 'celul': False, 'procur': False, 'retiradaapp': False, 'devag': False, 'intui': False, 'viv': False, 'indispon': False, 'tiran': False, 'ver': False, 'tá': False, 'imag': False, '5g': False, 'pior': False, 'simul': False, 'ganh': False, 'eleg': False, 'inst': False, '(lig': False, 'confirmaram)': False, 'set': False, 'vil': False, 'intelig': False, 'caix': False, '(07/05/2022)': False, 'araruam': False, 'nil': False, 'peçanh': False, 'rj': False, '500': False, 'enquant': False, 'excel': False, 'talit': False, 'reinstal': False, 'afirm': False, 'anteri': False, '(06/05/2022)': False, 'gross': False, 'gernet': False, 'insist': False, 'televend': False, 'gerent': False, 'fez': False, 'mín': False, 'esforç': False, 'soluç': False, 'pachec': False, 'lad': False, 'cobert': False, 'empenh': False, 'r$': False, '43331': False, 'peçannh': False, '(rj)': False, 'talv': False, 'parabém': False, 'sens': False, 'oportun': False, '(tod': False, 'vezes)': False, '“desculp': False, 'ocorr': False, 'tarde”': False, '(o': False, 'acontecer)': False, 'desintal': False, '3ª': False, '4ª': False, 'seguranç': False, 'ali': False, 'tecl': False, 'fix': False, 'seg': False, 'paul': False, 'milagr': False, '(sã': False, '13:25h': False, '07/06': False, '19:00h': False, '06/05)not': False, 'famarc': False, 'celer': False, 'final…': False, 'coclu': False, 'bast': False, 'refaz': False, 'bost': False, 'galaxy': False, 'pocket': False, '2012': False, 'desenvolv': False, 'dess': False, 'porc': False, 'possu': False, 'redig': False, 'soy': False, 'conpr': False, 'caus': False, 'enorm': False, 'instalaló': False, 'disponibil': False, 'nível': False, 'irrit': False, 'denigr': False, 'ond': False, 'apert': False, 'link': False, 'sucess': False, 'etc': False, 'recus': False, 'explic': False, 'app/sit': False, 'sup': False, 'lento/trav': False, 'pagin': False, 'desconect': False, 'sincroniz': False, 'ti': False, '10x': False, 'bolet': False, 'detalh': False, 'aqu': False, 'zer': False, 'ufa': False, 'maisn': False, 'branc': False, 'sempreprecis': False, 'têm': False, 'vam': False, 'suport': False, 'específ': False, 'inúm': False, 'raiv': False, 'remov': False, 'pesquis': False, 'própr': False, 'exclus': False, 'interess': False, 'log': False, 'comput': False, 'repentin': False, 'pul': False, '390': False, '40': False, 'gratil': False, 'bagunç': False, 'cach': False, 'incomod': False, 'corret': False, 'ura': False, 'irrelev': False, 'desprezi': False, 'qdo': False, 'adquir': False, '(lento)': False, 'olh': False, 'bon': False, 'asu': False, '5z': False, 'jog': False, 'consider': False, 'acredit': False, 'program': False, 'quest': False, 'dinh': False, 'comod': False, 'abraç': False, 'vontad': False, 'contabiliz': False, 'stix': False, ':c': False, 'conplet': False, 'fácil': False, 'stic': False, 'si': False, '06/04/2022': False, 'frald': False, 'anális': False, 'pront': False, 'alter': False, 'confi': False, 'appm': False, 'evit': False, 'aqui…': False, 'medo…': False, 'aerolin': False, 'gotas…': False, 'crei': False, '30': False, 'isso…': False, 'recei': False, 'efet': False, 'aposent': False, 'm': False, 'confia': False, 'utiliz': False, 'atrav': False, 'x': False, 'gui': False, 'eme': False, 'prev': False, 'visual': False, 'refiz': False, 'disponibiliz': False, 'sã': False, 'venh': False, 'comunic': False, 'tal': False, 'lib': False, 'frent': False, 'kit': False, '2°': False, 'caiu': False, 'porpag': False, 'engan': False, 'leit': False, 'alerg': False, '189$': False, '(até': False, '182$)': False, '17499$': False, 'detalhe:': False, 'ligarn': False, 'ra': False, 'bug’': False, 'diverg': False, 'imposs': False, 'car': False, 'planej': False, 'produtosapar': False, 'atualiz': False, 'fur': False, 'segu': False, 'sum': False, 'miss': False, 'rápidam': False, 'di': False, 'desabastec': False, 'hemolip': False, 'obt': False, '2a': False, 'detest': False, 'resgat': False, 'confort': False, 'desktop': False, 'rol': False, 'adiç': False, 'nubank': False, 'imprescind': False, 'possibilit': False, 'decid': False, 'dificult': False, 'mant': False, 'imped': False, 'alg': False, 'eles': False, 'compar': False, 'drogariaspod': False, 'list': False, 'favorit': False, 'ferrament': False, 'demonstr': False, 'efetiv': False, 'como:': False, 'elimin': False, 'inici': False, 'oper': False, 'atrás': False, 'ágil': False, 'usál': False, 'desagrad': False, 'checkout': False, 'enfim': False, '12': False, 'cl': False, 'engraç': False, 'méliuz': False, 'cuponom': False, 'direton': False, 'cashback': False, '15x': False, 'bat': False, 'fatur': False, 'reav': False, 'saind': False, 'físic': False, 'defeit': False, 'infinit': False, 'fim': False, 'orden': False, 'filtr': False, 'acord': False, 'popular': False, '1muit': False, 'sistema2apresent': False, '“zip': False, 'cod': False, 'undefined”': False, 'vinh': False, 'obs:pergunt': False, 'cerquilh': False, 'trel': False, 'eletrôn': False, 'elo': False, 'person': False, 'dificil': False, 'pedidotenh': False, 'retiradaf': False, 'sub': False, 'cobranc': False, 'diovan': False, 'aquém': False, 'curs': False, 'superi': False, 'hein': False, 'imagin': False, 'favoritos/desej': False, 'posteri': False, 'sugest': False, 'adic': False, 'divid': False, 'vi': False, 'dorm': False, 'tô': False, 'chate': False, \"'men\": False, \"preço'\": False, \"'produt\": False, \"loja'\": False, 'ocasion': False, 'eficaz': False, 'segment': False, 'bot': False, 'td': False, 'invé': False, '1p': False, 'arrum': False, 'retirarpel': False, 'obg': False}\n"
          ]
        }
      ]
    },
    {
      "cell_type": "code",
      "source": [
        "print(classificador.classify(novaFrase))"
      ],
      "metadata": {
        "id": "DcuGmKplVcFh",
        "outputId": "214d3881-e3bb-43b6-cef3-a2551e826ee2",
        "colab": {
          "base_uri": "https://localhost:8080/"
        }
      },
      "execution_count": 26,
      "outputs": [
        {
          "output_type": "stream",
          "name": "stdout",
          "text": [
            "Lentidão, Trava, Crash, Performance\n"
          ]
        }
      ]
    },
    {
      "cell_type": "code",
      "source": [
        "distribuicao = classificador.prob_classify(novaFrase)\n",
        "for classe in distribuicao.samples():\n",
        "    print(\"%s: %f\" % (classe, distribuicao.prob(classe)))"
      ],
      "metadata": {
        "id": "kzbbdntHVqyt",
        "outputId": "bacbcf05-57e6-4435-90fa-c7b7e0476a7a",
        "colab": {
          "base_uri": "https://localhost:8080/"
        }
      },
      "execution_count": 27,
      "outputs": [
        {
          "output_type": "stream",
          "name": "stdout",
          "text": [
            "Cadastro, Login, Senha: 0.000000\n",
            "Loja C&R, Estoque: 0.000000\n",
            "Entrega: 0.004077\n",
            "Preço, Prazo, Promoção, Stix: 0.000000\n",
            "Erro PIX: 0.000002\n",
            "Erro finalização: 0.000000\n",
            "Cesta: 0.000000\n",
            "Pedido cancelamento: 0.000000\n",
            "Erro cartão de crédito: 0.000000\n",
            "Lentidão, Trava, Crash, Performance: 0.995920\n",
            "Busca: 0.000000\n",
            "Problema não detalhado: 0.000000\n",
            "Novas Funcionalidades: 0.000000\n"
          ]
        }
      ]
    },
    {
      "cell_type": "code",
      "source": [
        "baseSemCategoria = pd.read_csv('sample_data/lista.csv', sep=';', engine='python')"
      ],
      "metadata": {
        "id": "wAs5Zz9AVQmF"
      },
      "execution_count": null,
      "outputs": []
    },
    {
      "cell_type": "code",
      "source": [
        "def removeStopWordsAplicandoStemmerSemCategoria(base):\n",
        "    stemmer = nltk.stem.RSLPStemmer();\n",
        "    frases = [];\n",
        "    for i in range(len(base)):\n",
        "        sem_stop = [str(stemmer.stem(p)) for p in base.loc[i,\"Comentario\"].split() if p not in stopwords];\n",
        "        frases.append(sem_stop);\n",
        "    return frases;"
      ],
      "metadata": {
        "id": "8EoUNG8RUvEg"
      },
      "execution_count": null,
      "outputs": []
    },
    {
      "cell_type": "code",
      "source": [
        "frasesComStemmingSemCategoria = removeStopWordsAplicandoStemmerSemCategoria(baseSemCategoria)\n",
        "print(frasesComStemmingSemCategoria)"
      ],
      "metadata": {
        "id": "ftgdapmaVOSg"
      },
      "execution_count": null,
      "outputs": []
    }
  ]
}