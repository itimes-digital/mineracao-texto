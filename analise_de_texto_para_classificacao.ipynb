{
  "nbformat": 4,
  "nbformat_minor": 0,
  "metadata": {
    "colab": {
      "name": "analise de texto para classificacao.ipynb",
      "provenance": [],
      "authorship_tag": "ABX9TyMoPzK29JNiNv8Pi9db3g/j",
      "include_colab_link": true
    },
    "kernelspec": {
      "name": "python3",
      "display_name": "Python 3"
    },
    "language_info": {
      "name": "python"
    }
  },
  "cells": [
    {
      "cell_type": "markdown",
      "metadata": {
        "id": "view-in-github",
        "colab_type": "text"
      },
      "source": [
        "<a href=\"https://colab.research.google.com/github/itimes-digital/mineracao-texto/blob/main/analise_de_texto_para_classificacao.ipynb\" target=\"_parent\"><img src=\"https://colab.research.google.com/assets/colab-badge.svg\" alt=\"Open In Colab\"/></a>"
      ]
    },
    {
      "cell_type": "code",
      "source": [
        "import nltk\n",
        "import pandas as pd\n",
        "import re\n",
        "from unicodedata import normalize"
      ],
      "metadata": {
        "id": "JWvMRVKIfwxY"
      },
      "execution_count": 190,
      "outputs": []
    },
    {
      "cell_type": "code",
      "source": [
        "nltk.download('stopwords')"
      ],
      "metadata": {
        "colab": {
          "base_uri": "https://localhost:8080/"
        },
        "id": "T4hcPGz5sbpK",
        "outputId": "6b4d56be-bce0-4181-b673-fe67b1b141d1"
      },
      "execution_count": 191,
      "outputs": [
        {
          "output_type": "stream",
          "name": "stdout",
          "text": [
            "[nltk_data] Downloading package stopwords to /root/nltk_data...\n",
            "[nltk_data]   Package stopwords is already up-to-date!\n"
          ]
        },
        {
          "output_type": "execute_result",
          "data": {
            "text/plain": [
              "True"
            ]
          },
          "metadata": {},
          "execution_count": 191
        }
      ]
    },
    {
      "cell_type": "code",
      "source": [
        "nltk.download('rslp')"
      ],
      "metadata": {
        "colab": {
          "base_uri": "https://localhost:8080/"
        },
        "id": "chd2f5JKvwuU",
        "outputId": "e728f1a3-17ba-4b76-b919-670dd69bcec2"
      },
      "execution_count": 192,
      "outputs": [
        {
          "output_type": "stream",
          "name": "stdout",
          "text": [
            "[nltk_data] Downloading package rslp to /root/nltk_data...\n",
            "[nltk_data]   Package rslp is already up-to-date!\n"
          ]
        },
        {
          "output_type": "execute_result",
          "data": {
            "text/plain": [
              "True"
            ]
          },
          "metadata": {},
          "execution_count": 192
        }
      ]
    },
    {
      "cell_type": "markdown",
      "source": [
        "### Preparação dos dados"
      ],
      "metadata": {
        "id": "fPxMSWkEYtpH"
      }
    },
    {
      "cell_type": "code",
      "source": [
        "base = pd.read_csv('sample_data/lista_classificada.csv', sep=';', engine='python')\n",
        "baseCompleta = pd.read_csv('sample_data/DesafioAnderson2.csv', sep=';', engine='python', encoding='utf8')"
      ],
      "metadata": {
        "id": "S8NdPPr-f3kd"
      },
      "execution_count": 193,
      "outputs": []
    },
    {
      "cell_type": "code",
      "source": [
        "base.head()"
      ],
      "metadata": {
        "colab": {
          "base_uri": "https://localhost:8080/",
          "height": 206
        },
        "id": "IrwvKXAWi1em",
        "outputId": "9d63d98c-4ff5-47b6-975b-2c6fbe3925fe"
      },
      "execution_count": 194,
      "outputs": [
        {
          "output_type": "execute_result",
          "data": {
            "text/plain": [
              "                Categoria                                         Comentario\n",
              "0  Cadastro, Login, Senha  Nao recebi email para validar o cadastro NÃO C...\n",
              "1  Cadastro, Login, Senha                   Não consigo concluir o cadastro.\n",
              "2       Loja C&R, Estoque  Nunca realizei compras pelo app. Pois a forma ...\n",
              "3                 Entrega  Muito demora pra entregar.Farmácia é urgência,...\n",
              "4                 Entrega  Péssimo no que se refere ao item ENTREGA, pois..."
            ],
            "text/html": [
              "\n",
              "  <div id=\"df-41a9ea83-7a92-42fa-88ad-19f3d0c03c9d\">\n",
              "    <div class=\"colab-df-container\">\n",
              "      <div>\n",
              "<style scoped>\n",
              "    .dataframe tbody tr th:only-of-type {\n",
              "        vertical-align: middle;\n",
              "    }\n",
              "\n",
              "    .dataframe tbody tr th {\n",
              "        vertical-align: top;\n",
              "    }\n",
              "\n",
              "    .dataframe thead th {\n",
              "        text-align: right;\n",
              "    }\n",
              "</style>\n",
              "<table border=\"1\" class=\"dataframe\">\n",
              "  <thead>\n",
              "    <tr style=\"text-align: right;\">\n",
              "      <th></th>\n",
              "      <th>Categoria</th>\n",
              "      <th>Comentario</th>\n",
              "    </tr>\n",
              "  </thead>\n",
              "  <tbody>\n",
              "    <tr>\n",
              "      <th>0</th>\n",
              "      <td>Cadastro, Login, Senha</td>\n",
              "      <td>Nao recebi email para validar o cadastro NÃO C...</td>\n",
              "    </tr>\n",
              "    <tr>\n",
              "      <th>1</th>\n",
              "      <td>Cadastro, Login, Senha</td>\n",
              "      <td>Não consigo concluir o cadastro.</td>\n",
              "    </tr>\n",
              "    <tr>\n",
              "      <th>2</th>\n",
              "      <td>Loja C&amp;R, Estoque</td>\n",
              "      <td>Nunca realizei compras pelo app. Pois a forma ...</td>\n",
              "    </tr>\n",
              "    <tr>\n",
              "      <th>3</th>\n",
              "      <td>Entrega</td>\n",
              "      <td>Muito demora pra entregar.Farmácia é urgência,...</td>\n",
              "    </tr>\n",
              "    <tr>\n",
              "      <th>4</th>\n",
              "      <td>Entrega</td>\n",
              "      <td>Péssimo no que se refere ao item ENTREGA, pois...</td>\n",
              "    </tr>\n",
              "  </tbody>\n",
              "</table>\n",
              "</div>\n",
              "      <button class=\"colab-df-convert\" onclick=\"convertToInteractive('df-41a9ea83-7a92-42fa-88ad-19f3d0c03c9d')\"\n",
              "              title=\"Convert this dataframe to an interactive table.\"\n",
              "              style=\"display:none;\">\n",
              "        \n",
              "  <svg xmlns=\"http://www.w3.org/2000/svg\" height=\"24px\"viewBox=\"0 0 24 24\"\n",
              "       width=\"24px\">\n",
              "    <path d=\"M0 0h24v24H0V0z\" fill=\"none\"/>\n",
              "    <path d=\"M18.56 5.44l.94 2.06.94-2.06 2.06-.94-2.06-.94-.94-2.06-.94 2.06-2.06.94zm-11 1L8.5 8.5l.94-2.06 2.06-.94-2.06-.94L8.5 2.5l-.94 2.06-2.06.94zm10 10l.94 2.06.94-2.06 2.06-.94-2.06-.94-.94-2.06-.94 2.06-2.06.94z\"/><path d=\"M17.41 7.96l-1.37-1.37c-.4-.4-.92-.59-1.43-.59-.52 0-1.04.2-1.43.59L10.3 9.45l-7.72 7.72c-.78.78-.78 2.05 0 2.83L4 21.41c.39.39.9.59 1.41.59.51 0 1.02-.2 1.41-.59l7.78-7.78 2.81-2.81c.8-.78.8-2.07 0-2.86zM5.41 20L4 18.59l7.72-7.72 1.47 1.35L5.41 20z\"/>\n",
              "  </svg>\n",
              "      </button>\n",
              "      \n",
              "  <style>\n",
              "    .colab-df-container {\n",
              "      display:flex;\n",
              "      flex-wrap:wrap;\n",
              "      gap: 12px;\n",
              "    }\n",
              "\n",
              "    .colab-df-convert {\n",
              "      background-color: #E8F0FE;\n",
              "      border: none;\n",
              "      border-radius: 50%;\n",
              "      cursor: pointer;\n",
              "      display: none;\n",
              "      fill: #1967D2;\n",
              "      height: 32px;\n",
              "      padding: 0 0 0 0;\n",
              "      width: 32px;\n",
              "    }\n",
              "\n",
              "    .colab-df-convert:hover {\n",
              "      background-color: #E2EBFA;\n",
              "      box-shadow: 0px 1px 2px rgba(60, 64, 67, 0.3), 0px 1px 3px 1px rgba(60, 64, 67, 0.15);\n",
              "      fill: #174EA6;\n",
              "    }\n",
              "\n",
              "    [theme=dark] .colab-df-convert {\n",
              "      background-color: #3B4455;\n",
              "      fill: #D2E3FC;\n",
              "    }\n",
              "\n",
              "    [theme=dark] .colab-df-convert:hover {\n",
              "      background-color: #434B5C;\n",
              "      box-shadow: 0px 1px 3px 1px rgba(0, 0, 0, 0.15);\n",
              "      filter: drop-shadow(0px 1px 2px rgba(0, 0, 0, 0.3));\n",
              "      fill: #FFFFFF;\n",
              "    }\n",
              "  </style>\n",
              "\n",
              "      <script>\n",
              "        const buttonEl =\n",
              "          document.querySelector('#df-41a9ea83-7a92-42fa-88ad-19f3d0c03c9d button.colab-df-convert');\n",
              "        buttonEl.style.display =\n",
              "          google.colab.kernel.accessAllowed ? 'block' : 'none';\n",
              "\n",
              "        async function convertToInteractive(key) {\n",
              "          const element = document.querySelector('#df-41a9ea83-7a92-42fa-88ad-19f3d0c03c9d');\n",
              "          const dataTable =\n",
              "            await google.colab.kernel.invokeFunction('convertToInteractive',\n",
              "                                                     [key], {});\n",
              "          if (!dataTable) return;\n",
              "\n",
              "          const docLinkHtml = 'Like what you see? Visit the ' +\n",
              "            '<a target=\"_blank\" href=https://colab.research.google.com/notebooks/data_table.ipynb>data table notebook</a>'\n",
              "            + ' to learn more about interactive tables.';\n",
              "          element.innerHTML = '';\n",
              "          dataTable['output_type'] = 'display_data';\n",
              "          await google.colab.output.renderOutput(dataTable, element);\n",
              "          const docLink = document.createElement('div');\n",
              "          docLink.innerHTML = docLinkHtml;\n",
              "          element.appendChild(docLink);\n",
              "        }\n",
              "      </script>\n",
              "    </div>\n",
              "  </div>\n",
              "  "
            ]
          },
          "metadata": {},
          "execution_count": 194
        }
      ]
    },
    {
      "cell_type": "code",
      "source": [
        "base['Comentario'] = base['Comentario'].map(lambda x: re.sub('[,\\.!?-]', '', x))\n",
        "base['Comentario'] = base['Comentario'].map(lambda x: normalize('NFKD', x.lower()).encode('ASCII','ignore').decode('ASCII'))"
      ],
      "metadata": {
        "id": "7fzl7ZGDwKVj"
      },
      "execution_count": 195,
      "outputs": []
    },
    {
      "cell_type": "code",
      "source": [
        "base.head()"
      ],
      "metadata": {
        "colab": {
          "base_uri": "https://localhost:8080/",
          "height": 206
        },
        "id": "lnPvABuqwuWI",
        "outputId": "739d1f90-61ba-4b6c-9b8b-1d64b8fc5516"
      },
      "execution_count": 196,
      "outputs": [
        {
          "output_type": "execute_result",
          "data": {
            "text/plain": [
              "                Categoria                                         Comentario\n",
              "0  Cadastro, Login, Senha  nao recebi email para validar o cadastro nao c...\n",
              "1  Cadastro, Login, Senha                    nao consigo concluir o cadastro\n",
              "2       Loja C&R, Estoque  nunca realizei compras pelo app pois a forma d...\n",
              "3                 Entrega  muito demora pra entregarfarmacia e urgencia q...\n",
              "4                 Entrega  pessimo no que se refere ao item entrega pois ..."
            ],
            "text/html": [
              "\n",
              "  <div id=\"df-bbee009e-c31b-4f6f-8c4d-98439fcbbfd2\">\n",
              "    <div class=\"colab-df-container\">\n",
              "      <div>\n",
              "<style scoped>\n",
              "    .dataframe tbody tr th:only-of-type {\n",
              "        vertical-align: middle;\n",
              "    }\n",
              "\n",
              "    .dataframe tbody tr th {\n",
              "        vertical-align: top;\n",
              "    }\n",
              "\n",
              "    .dataframe thead th {\n",
              "        text-align: right;\n",
              "    }\n",
              "</style>\n",
              "<table border=\"1\" class=\"dataframe\">\n",
              "  <thead>\n",
              "    <tr style=\"text-align: right;\">\n",
              "      <th></th>\n",
              "      <th>Categoria</th>\n",
              "      <th>Comentario</th>\n",
              "    </tr>\n",
              "  </thead>\n",
              "  <tbody>\n",
              "    <tr>\n",
              "      <th>0</th>\n",
              "      <td>Cadastro, Login, Senha</td>\n",
              "      <td>nao recebi email para validar o cadastro nao c...</td>\n",
              "    </tr>\n",
              "    <tr>\n",
              "      <th>1</th>\n",
              "      <td>Cadastro, Login, Senha</td>\n",
              "      <td>nao consigo concluir o cadastro</td>\n",
              "    </tr>\n",
              "    <tr>\n",
              "      <th>2</th>\n",
              "      <td>Loja C&amp;R, Estoque</td>\n",
              "      <td>nunca realizei compras pelo app pois a forma d...</td>\n",
              "    </tr>\n",
              "    <tr>\n",
              "      <th>3</th>\n",
              "      <td>Entrega</td>\n",
              "      <td>muito demora pra entregarfarmacia e urgencia q...</td>\n",
              "    </tr>\n",
              "    <tr>\n",
              "      <th>4</th>\n",
              "      <td>Entrega</td>\n",
              "      <td>pessimo no que se refere ao item entrega pois ...</td>\n",
              "    </tr>\n",
              "  </tbody>\n",
              "</table>\n",
              "</div>\n",
              "      <button class=\"colab-df-convert\" onclick=\"convertToInteractive('df-bbee009e-c31b-4f6f-8c4d-98439fcbbfd2')\"\n",
              "              title=\"Convert this dataframe to an interactive table.\"\n",
              "              style=\"display:none;\">\n",
              "        \n",
              "  <svg xmlns=\"http://www.w3.org/2000/svg\" height=\"24px\"viewBox=\"0 0 24 24\"\n",
              "       width=\"24px\">\n",
              "    <path d=\"M0 0h24v24H0V0z\" fill=\"none\"/>\n",
              "    <path d=\"M18.56 5.44l.94 2.06.94-2.06 2.06-.94-2.06-.94-.94-2.06-.94 2.06-2.06.94zm-11 1L8.5 8.5l.94-2.06 2.06-.94-2.06-.94L8.5 2.5l-.94 2.06-2.06.94zm10 10l.94 2.06.94-2.06 2.06-.94-2.06-.94-.94-2.06-.94 2.06-2.06.94z\"/><path d=\"M17.41 7.96l-1.37-1.37c-.4-.4-.92-.59-1.43-.59-.52 0-1.04.2-1.43.59L10.3 9.45l-7.72 7.72c-.78.78-.78 2.05 0 2.83L4 21.41c.39.39.9.59 1.41.59.51 0 1.02-.2 1.41-.59l7.78-7.78 2.81-2.81c.8-.78.8-2.07 0-2.86zM5.41 20L4 18.59l7.72-7.72 1.47 1.35L5.41 20z\"/>\n",
              "  </svg>\n",
              "      </button>\n",
              "      \n",
              "  <style>\n",
              "    .colab-df-container {\n",
              "      display:flex;\n",
              "      flex-wrap:wrap;\n",
              "      gap: 12px;\n",
              "    }\n",
              "\n",
              "    .colab-df-convert {\n",
              "      background-color: #E8F0FE;\n",
              "      border: none;\n",
              "      border-radius: 50%;\n",
              "      cursor: pointer;\n",
              "      display: none;\n",
              "      fill: #1967D2;\n",
              "      height: 32px;\n",
              "      padding: 0 0 0 0;\n",
              "      width: 32px;\n",
              "    }\n",
              "\n",
              "    .colab-df-convert:hover {\n",
              "      background-color: #E2EBFA;\n",
              "      box-shadow: 0px 1px 2px rgba(60, 64, 67, 0.3), 0px 1px 3px 1px rgba(60, 64, 67, 0.15);\n",
              "      fill: #174EA6;\n",
              "    }\n",
              "\n",
              "    [theme=dark] .colab-df-convert {\n",
              "      background-color: #3B4455;\n",
              "      fill: #D2E3FC;\n",
              "    }\n",
              "\n",
              "    [theme=dark] .colab-df-convert:hover {\n",
              "      background-color: #434B5C;\n",
              "      box-shadow: 0px 1px 3px 1px rgba(0, 0, 0, 0.15);\n",
              "      filter: drop-shadow(0px 1px 2px rgba(0, 0, 0, 0.3));\n",
              "      fill: #FFFFFF;\n",
              "    }\n",
              "  </style>\n",
              "\n",
              "      <script>\n",
              "        const buttonEl =\n",
              "          document.querySelector('#df-bbee009e-c31b-4f6f-8c4d-98439fcbbfd2 button.colab-df-convert');\n",
              "        buttonEl.style.display =\n",
              "          google.colab.kernel.accessAllowed ? 'block' : 'none';\n",
              "\n",
              "        async function convertToInteractive(key) {\n",
              "          const element = document.querySelector('#df-bbee009e-c31b-4f6f-8c4d-98439fcbbfd2');\n",
              "          const dataTable =\n",
              "            await google.colab.kernel.invokeFunction('convertToInteractive',\n",
              "                                                     [key], {});\n",
              "          if (!dataTable) return;\n",
              "\n",
              "          const docLinkHtml = 'Like what you see? Visit the ' +\n",
              "            '<a target=\"_blank\" href=https://colab.research.google.com/notebooks/data_table.ipynb>data table notebook</a>'\n",
              "            + ' to learn more about interactive tables.';\n",
              "          element.innerHTML = '';\n",
              "          dataTable['output_type'] = 'display_data';\n",
              "          await google.colab.output.renderOutput(dataTable, element);\n",
              "          const docLink = document.createElement('div');\n",
              "          docLink.innerHTML = docLinkHtml;\n",
              "          element.appendChild(docLink);\n",
              "        }\n",
              "      </script>\n",
              "    </div>\n",
              "  </div>\n",
              "  "
            ]
          },
          "metadata": {},
          "execution_count": 196
        }
      ]
    },
    {
      "cell_type": "code",
      "source": [
        "base['Categoria'].value_counts()"
      ],
      "metadata": {
        "id": "nuWKf9UfhDTC",
        "outputId": "6e858422-9bdd-4c30-fd7e-cd6c25aee19f",
        "colab": {
          "base_uri": "https://localhost:8080/"
        }
      },
      "execution_count": 197,
      "outputs": [
        {
          "output_type": "execute_result",
          "data": {
            "text/plain": [
              "Lentidão, Trava, Crash, Performance    121\n",
              "Entrega                                 85\n",
              "Pedido cancelamento                     39\n",
              "Erro finalização                        38\n",
              "Erro PIX                                34\n",
              "Loja C&R, Estoque                       27\n",
              "Preço, Prazo, Promoção, Stix            21\n",
              "Erro cartão de crédito                  11\n",
              "Cesta                                   10\n",
              "Busca                                    7\n",
              "Novas Funcionalidades                    6\n",
              "Cadastro, Login, Senha                   5\n",
              "Problema não detalhado                   3\n",
              "Name: Categoria, dtype: int64"
            ]
          },
          "metadata": {},
          "execution_count": 197
        }
      ]
    },
    {
      "cell_type": "code",
      "source": [
        "base = base.sample(frac=1)\n",
        "base_treinamento = base;"
      ],
      "metadata": {
        "id": "KuTiFhOjjvqg"
      },
      "execution_count": 198,
      "outputs": []
    },
    {
      "cell_type": "code",
      "source": [
        "#base_treinamento = base.iloc[:350,:]\n",
        "base_teste = base.iloc[350:,:]"
      ],
      "metadata": {
        "id": "fUwCvumZjBgk"
      },
      "execution_count": 199,
      "outputs": []
    },
    {
      "cell_type": "code",
      "source": [
        "base_treinamento.info()"
      ],
      "metadata": {
        "id": "wcKTcFpmkVCT",
        "outputId": "24700c27-96b7-4966-a9de-4d721ec47981",
        "colab": {
          "base_uri": "https://localhost:8080/"
        }
      },
      "execution_count": 200,
      "outputs": [
        {
          "output_type": "stream",
          "name": "stdout",
          "text": [
            "<class 'pandas.core.frame.DataFrame'>\n",
            "Int64Index: 407 entries, 192 to 321\n",
            "Data columns (total 2 columns):\n",
            " #   Column      Non-Null Count  Dtype \n",
            "---  ------      --------------  ----- \n",
            " 0   Categoria   407 non-null    object\n",
            " 1   Comentario  407 non-null    object\n",
            "dtypes: object(2)\n",
            "memory usage: 9.5+ KB\n"
          ]
        }
      ]
    },
    {
      "cell_type": "code",
      "source": [
        "base_teste.info()"
      ],
      "metadata": {
        "id": "0JPrRIJXkZmX",
        "outputId": "3a76e218-9fd9-41c2-eae4-5cc622c077fa",
        "colab": {
          "base_uri": "https://localhost:8080/"
        }
      },
      "execution_count": 201,
      "outputs": [
        {
          "output_type": "stream",
          "name": "stdout",
          "text": [
            "<class 'pandas.core.frame.DataFrame'>\n",
            "Int64Index: 57 entries, 121 to 321\n",
            "Data columns (total 2 columns):\n",
            " #   Column      Non-Null Count  Dtype \n",
            "---  ------      --------------  ----- \n",
            " 0   Categoria   57 non-null     object\n",
            " 1   Comentario  57 non-null     object\n",
            "dtypes: object(2)\n",
            "memory usage: 1.3+ KB\n"
          ]
        }
      ]
    },
    {
      "cell_type": "code",
      "source": [
        "base_treinamento = base_treinamento.reset_index(drop=True)\n",
        "base_teste = base_teste.reset_index(drop=True)"
      ],
      "metadata": {
        "id": "Frf55PsCmj8I"
      },
      "execution_count": 202,
      "outputs": []
    },
    {
      "cell_type": "code",
      "source": [
        "base_teste.head()"
      ],
      "metadata": {
        "id": "uc1xlaVil0Sz",
        "outputId": "dcd4a531-8452-44ac-b5f2-596237111c9d",
        "colab": {
          "base_uri": "https://localhost:8080/",
          "height": 206
        }
      },
      "execution_count": 203,
      "outputs": [
        {
          "output_type": "execute_result",
          "data": {
            "text/plain": [
              "                             Categoria  \\\n",
              "0                             Erro PIX   \n",
              "1                              Entrega   \n",
              "2  Lentidão, Trava, Crash, Performance   \n",
              "3                                Cesta   \n",
              "4  Lentidão, Trava, Crash, Performance   \n",
              "\n",
              "                                          Comentario  \n",
              "0  nao consigo copiar codigo pix para pagar o med...  \n",
              "1  nao esta deixando eu optar entre entregar ou r...  \n",
              "2                                   aplicativo lento  \n",
              "3  cansativo se nao tem nao deixe colocar no carr...  \n",
              "4                               custei acessar o app  "
            ],
            "text/html": [
              "\n",
              "  <div id=\"df-ec4186d7-1c70-4260-b32e-6c9c84e309b3\">\n",
              "    <div class=\"colab-df-container\">\n",
              "      <div>\n",
              "<style scoped>\n",
              "    .dataframe tbody tr th:only-of-type {\n",
              "        vertical-align: middle;\n",
              "    }\n",
              "\n",
              "    .dataframe tbody tr th {\n",
              "        vertical-align: top;\n",
              "    }\n",
              "\n",
              "    .dataframe thead th {\n",
              "        text-align: right;\n",
              "    }\n",
              "</style>\n",
              "<table border=\"1\" class=\"dataframe\">\n",
              "  <thead>\n",
              "    <tr style=\"text-align: right;\">\n",
              "      <th></th>\n",
              "      <th>Categoria</th>\n",
              "      <th>Comentario</th>\n",
              "    </tr>\n",
              "  </thead>\n",
              "  <tbody>\n",
              "    <tr>\n",
              "      <th>0</th>\n",
              "      <td>Erro PIX</td>\n",
              "      <td>nao consigo copiar codigo pix para pagar o med...</td>\n",
              "    </tr>\n",
              "    <tr>\n",
              "      <th>1</th>\n",
              "      <td>Entrega</td>\n",
              "      <td>nao esta deixando eu optar entre entregar ou r...</td>\n",
              "    </tr>\n",
              "    <tr>\n",
              "      <th>2</th>\n",
              "      <td>Lentidão, Trava, Crash, Performance</td>\n",
              "      <td>aplicativo lento</td>\n",
              "    </tr>\n",
              "    <tr>\n",
              "      <th>3</th>\n",
              "      <td>Cesta</td>\n",
              "      <td>cansativo se nao tem nao deixe colocar no carr...</td>\n",
              "    </tr>\n",
              "    <tr>\n",
              "      <th>4</th>\n",
              "      <td>Lentidão, Trava, Crash, Performance</td>\n",
              "      <td>custei acessar o app</td>\n",
              "    </tr>\n",
              "  </tbody>\n",
              "</table>\n",
              "</div>\n",
              "      <button class=\"colab-df-convert\" onclick=\"convertToInteractive('df-ec4186d7-1c70-4260-b32e-6c9c84e309b3')\"\n",
              "              title=\"Convert this dataframe to an interactive table.\"\n",
              "              style=\"display:none;\">\n",
              "        \n",
              "  <svg xmlns=\"http://www.w3.org/2000/svg\" height=\"24px\"viewBox=\"0 0 24 24\"\n",
              "       width=\"24px\">\n",
              "    <path d=\"M0 0h24v24H0V0z\" fill=\"none\"/>\n",
              "    <path d=\"M18.56 5.44l.94 2.06.94-2.06 2.06-.94-2.06-.94-.94-2.06-.94 2.06-2.06.94zm-11 1L8.5 8.5l.94-2.06 2.06-.94-2.06-.94L8.5 2.5l-.94 2.06-2.06.94zm10 10l.94 2.06.94-2.06 2.06-.94-2.06-.94-.94-2.06-.94 2.06-2.06.94z\"/><path d=\"M17.41 7.96l-1.37-1.37c-.4-.4-.92-.59-1.43-.59-.52 0-1.04.2-1.43.59L10.3 9.45l-7.72 7.72c-.78.78-.78 2.05 0 2.83L4 21.41c.39.39.9.59 1.41.59.51 0 1.02-.2 1.41-.59l7.78-7.78 2.81-2.81c.8-.78.8-2.07 0-2.86zM5.41 20L4 18.59l7.72-7.72 1.47 1.35L5.41 20z\"/>\n",
              "  </svg>\n",
              "      </button>\n",
              "      \n",
              "  <style>\n",
              "    .colab-df-container {\n",
              "      display:flex;\n",
              "      flex-wrap:wrap;\n",
              "      gap: 12px;\n",
              "    }\n",
              "\n",
              "    .colab-df-convert {\n",
              "      background-color: #E8F0FE;\n",
              "      border: none;\n",
              "      border-radius: 50%;\n",
              "      cursor: pointer;\n",
              "      display: none;\n",
              "      fill: #1967D2;\n",
              "      height: 32px;\n",
              "      padding: 0 0 0 0;\n",
              "      width: 32px;\n",
              "    }\n",
              "\n",
              "    .colab-df-convert:hover {\n",
              "      background-color: #E2EBFA;\n",
              "      box-shadow: 0px 1px 2px rgba(60, 64, 67, 0.3), 0px 1px 3px 1px rgba(60, 64, 67, 0.15);\n",
              "      fill: #174EA6;\n",
              "    }\n",
              "\n",
              "    [theme=dark] .colab-df-convert {\n",
              "      background-color: #3B4455;\n",
              "      fill: #D2E3FC;\n",
              "    }\n",
              "\n",
              "    [theme=dark] .colab-df-convert:hover {\n",
              "      background-color: #434B5C;\n",
              "      box-shadow: 0px 1px 3px 1px rgba(0, 0, 0, 0.15);\n",
              "      filter: drop-shadow(0px 1px 2px rgba(0, 0, 0, 0.3));\n",
              "      fill: #FFFFFF;\n",
              "    }\n",
              "  </style>\n",
              "\n",
              "      <script>\n",
              "        const buttonEl =\n",
              "          document.querySelector('#df-ec4186d7-1c70-4260-b32e-6c9c84e309b3 button.colab-df-convert');\n",
              "        buttonEl.style.display =\n",
              "          google.colab.kernel.accessAllowed ? 'block' : 'none';\n",
              "\n",
              "        async function convertToInteractive(key) {\n",
              "          const element = document.querySelector('#df-ec4186d7-1c70-4260-b32e-6c9c84e309b3');\n",
              "          const dataTable =\n",
              "            await google.colab.kernel.invokeFunction('convertToInteractive',\n",
              "                                                     [key], {});\n",
              "          if (!dataTable) return;\n",
              "\n",
              "          const docLinkHtml = 'Like what you see? Visit the ' +\n",
              "            '<a target=\"_blank\" href=https://colab.research.google.com/notebooks/data_table.ipynb>data table notebook</a>'\n",
              "            + ' to learn more about interactive tables.';\n",
              "          element.innerHTML = '';\n",
              "          dataTable['output_type'] = 'display_data';\n",
              "          await google.colab.output.renderOutput(dataTable, element);\n",
              "          const docLink = document.createElement('div');\n",
              "          docLink.innerHTML = docLinkHtml;\n",
              "          element.appendChild(docLink);\n",
              "        }\n",
              "      </script>\n",
              "    </div>\n",
              "  </div>\n",
              "  "
            ]
          },
          "metadata": {},
          "execution_count": 203
        }
      ]
    },
    {
      "cell_type": "code",
      "source": [
        "stopwords = nltk.corpus.stopwords.words('portuguese')\n",
        "#print(stopwords)"
      ],
      "metadata": {
        "id": "RhFWvgzyecxh"
      },
      "execution_count": 204,
      "outputs": []
    },
    {
      "cell_type": "code",
      "source": [
        "def removeStopWordsAplicandoStemmer(base):\n",
        "    stemmer = nltk.stem.RSLPStemmer();\n",
        "    frases = [];\n",
        "    for i in range(len(base)):\n",
        "        sem_stop = [str(stemmer.stem(p)) for p in base.loc[i,\"Comentario\"].split() if p not in stopwords]\n",
        "        frases.append((sem_stop, base.loc[i,\"Categoria\"]))\n",
        "    return frases;"
      ],
      "metadata": {
        "id": "pNJqIZskfuzY"
      },
      "execution_count": 205,
      "outputs": []
    },
    {
      "cell_type": "code",
      "source": [
        "frasesComStemmingTreinamento = removeStopWordsAplicandoStemmer(base_treinamento);\n",
        "frasesComStemmingTeste = removeStopWordsAplicandoStemmer(base_teste);\n",
        "#print(frasesComStemming)"
      ],
      "metadata": {
        "id": "ETIA3950jBbs"
      },
      "execution_count": 206,
      "outputs": []
    },
    {
      "cell_type": "code",
      "source": [
        "def buscaPalavras(frases):\n",
        "    todasPalavras = [];\n",
        "    for (palavras, categoria) in frases:\n",
        "        todasPalavras.extend(palavras);\n",
        "    return todasPalavras;"
      ],
      "metadata": {
        "id": "ZbAq8CuZoppR"
      },
      "execution_count": 207,
      "outputs": []
    },
    {
      "cell_type": "code",
      "source": [
        "palavrasTreinamento = buscaPalavras(frasesComStemmingTreinamento);\n",
        "palavrasTeste = buscaPalavras(frasesComStemmingTeste);\n",
        "#print(palavras)"
      ],
      "metadata": {
        "id": "DKgSPfOJsWZA"
      },
      "execution_count": 208,
      "outputs": []
    },
    {
      "cell_type": "code",
      "source": [
        "def buscaFrequencia(palavras):\n",
        "    palavras = nltk.FreqDist(palavras);\n",
        "    return palavras;"
      ],
      "metadata": {
        "id": "efJaizpcsdN1"
      },
      "execution_count": 209,
      "outputs": []
    },
    {
      "cell_type": "code",
      "source": [
        "frequenciaTreinamento = buscaFrequencia(palavrasTreinamento);\n",
        "frequenciaTeste = buscaFrequencia(palavrasTeste);\n",
        "#print(frequencia.most_common(50))"
      ],
      "metadata": {
        "id": "-Fr1tu-Lu7id"
      },
      "execution_count": 210,
      "outputs": []
    },
    {
      "cell_type": "code",
      "source": [
        "def buscaPalavrasUnicas(frequencia):\n",
        "    freq = frequencia.keys();\n",
        "    return freq;"
      ],
      "metadata": {
        "id": "47j6Il9BvEs_"
      },
      "execution_count": 211,
      "outputs": []
    },
    {
      "cell_type": "code",
      "source": [
        "palavrasUnicasTreinamento = buscaPalavrasUnicas(frequenciaTreinamento);\n",
        "palavrasUnicasTeste = buscaPalavrasUnicas(frequenciaTeste);\n",
        "#print(palavrasUnicas)"
      ],
      "metadata": {
        "id": "CcagMVUMvfKq"
      },
      "execution_count": 212,
      "outputs": []
    },
    {
      "cell_type": "code",
      "source": [
        "def extratorPalavras(documento):\n",
        "    doc = set(documento);\n",
        "    caracteristicas = {};\n",
        "    for palavras in palavrasUnicasTreinamento:\n",
        "        caracteristicas['%s' % palavras] = (palavras in doc);\n",
        "    return caracteristicas;"
      ],
      "metadata": {
        "id": "EsBYYtKivnRu"
      },
      "execution_count": 213,
      "outputs": []
    },
    {
      "cell_type": "code",
      "source": [
        "caracteristicasFrases = extratorPalavras({'am', 'nov', 'dia'});\n",
        "#print(caracteristicasFrases)"
      ],
      "metadata": {
        "id": "ttAfD_gw3d3d"
      },
      "execution_count": 214,
      "outputs": []
    },
    {
      "cell_type": "markdown",
      "source": [
        "### Realizando a classificação"
      ],
      "metadata": {
        "id": "FSPNGJyQY20D"
      }
    },
    {
      "cell_type": "code",
      "source": [
        "baseCompletaTreinamento = nltk.classify.apply_features(extratorPalavras, frasesComStemmingTreinamento);\n",
        "baseCompletaTeste = nltk.classify.apply_features(extratorPalavras, frasesComStemmingTeste);\n",
        "#print(baseCompleta);"
      ],
      "metadata": {
        "id": "lSYaPaWQ3pTo"
      },
      "execution_count": 215,
      "outputs": []
    },
    {
      "cell_type": "code",
      "source": [
        "classificador = nltk.NaiveBayesClassifier.train(baseCompletaTreinamento);"
      ],
      "metadata": {
        "id": "oq0Y3mYe5aG4"
      },
      "execution_count": 216,
      "outputs": []
    },
    {
      "cell_type": "code",
      "source": [
        "print(classificador.labels())"
      ],
      "metadata": {
        "id": "J3O0341hhtkc",
        "outputId": "eb894db0-6ee9-4c1e-9781-e5073241cd3e",
        "colab": {
          "base_uri": "https://localhost:8080/"
        }
      },
      "execution_count": 217,
      "outputs": [
        {
          "output_type": "stream",
          "name": "stdout",
          "text": [
            "['Lentidão, Trava, Crash, Performance', 'Entrega', 'Loja C&R, Estoque', 'Cesta', 'Preço, Prazo, Promoção, Stix', 'Erro finalização', 'Pedido cancelamento', 'Erro cartão de crédito', 'Erro PIX', 'Busca', 'Novas Funcionalidades', 'Problema não detalhado', 'Cadastro, Login, Senha']\n"
          ]
        }
      ]
    },
    {
      "cell_type": "code",
      "source": [
        " #usando a mesma amostra do modelo treinado\n",
        "print(nltk.classify.accuracy(classificador, baseCompletaTreinamento))"
      ],
      "metadata": {
        "id": "KFCDw48en4B-",
        "outputId": "9cd967d3-ad80-45c2-ec18-37f57ba50e73",
        "colab": {
          "base_uri": "https://localhost:8080/"
        }
      },
      "execution_count": 218,
      "outputs": [
        {
          "output_type": "stream",
          "name": "stdout",
          "text": [
            "0.7002457002457002\n"
          ]
        }
      ]
    },
    {
      "cell_type": "code",
      "source": [
        "#usando a amostra de teste\n",
        "print(nltk.classify.accuracy(classificador, baseCompletaTeste)) "
      ],
      "metadata": {
        "id": "bsqxfFr2oa3d",
        "outputId": "5e8a02cf-6cd9-4b65-e545-27035095b272",
        "colab": {
          "base_uri": "https://localhost:8080/"
        }
      },
      "execution_count": 219,
      "outputs": [
        {
          "output_type": "stream",
          "name": "stdout",
          "text": [
            "0.631578947368421\n"
          ]
        }
      ]
    },
    {
      "cell_type": "code",
      "source": [
        "print(classificador.show_most_informative_features(10))"
      ],
      "metadata": {
        "id": "yZF7GieCJh5O",
        "outputId": "41f677c6-6417-4954-b156-15b9c4de8241",
        "colab": {
          "base_uri": "https://localhost:8080/"
        }
      },
      "execution_count": 220,
      "outputs": [
        {
          "output_type": "stream",
          "name": "stdout",
          "text": [
            "Most Informative Features\n",
            "                  cancel = True           Pedido : Lentid =     78.3 : 1.0\n",
            "                   carta = True           Erro c : Entreg =     45.4 : 1.0\n",
            "                     pix = True           Erro P : Lentid =     45.3 : 1.0\n",
            "                   acess = True           Cadast : Lentid =     33.9 : 1.0\n",
            "                   retir = True           Proble : Lentid =     30.5 : 1.0\n",
            "                  adiant = True           Proble : Lentid =     30.5 : 1.0\n",
            "                     peg = True           Proble : Lentid =     30.5 : 1.0\n",
            "                  estoqu = True           Loja C : Lentid =     30.5 : 1.0\n",
            "                  entreg = True           Entreg : Lentid =     30.2 : 1.0\n",
            "                    salv = True           Novas  : Lentid =     29.0 : 1.0\n",
            "None\n"
          ]
        }
      ]
    },
    {
      "cell_type": "code",
      "source": [
        "erros = []\n",
        "\n",
        "for (frase, classe) in baseCompletaTeste:\n",
        "    previsao = classificador.classify(frase)\n",
        "\n",
        "    if previsao != classe:\n",
        "        erros.append((classe, previsao, frase))\n",
        "\n",
        "for (flasse, previsao, frase) in erros:\n",
        "    # Classe real | previsão da classe | frase\n",
        "    print(classe, previsao, frase)"
      ],
      "metadata": {
        "id": "fqFd7HRzjWpI"
      },
      "execution_count": null,
      "outputs": []
    },
    {
      "cell_type": "code",
      "source": [
        "from nltk.metrics import ConfusionMatrix\n",
        "\n",
        "esperado = []\n",
        "previsto = []\n",
        "\n",
        "for (frase, classe) in baseCompletaTeste:\n",
        "    previsao = classificador.classify(frase);\n",
        "    previsto.append(previsao);\n",
        "    esperado.append(classe);\n",
        "\n",
        "matriz = ConfusionMatrix(esperado, previsto)\n",
        "print(matriz)"
      ],
      "metadata": {
        "colab": {
          "base_uri": "https://localhost:8080/"
        },
        "id": "lNOCVY6txKCI",
        "outputId": "35b9c57f-3f27-4307-e591-b2320e41ef5e"
      },
      "execution_count": 222,
      "outputs": [
        {
          "output_type": "stream",
          "name": "stdout",
          "text": [
            "                                    |                       L             |\n",
            "                                    |                       e             |\n",
            "                                    |                       n             |\n",
            "                                    |                       t             |\n",
            "                                    |                       i             |\n",
            "                                    |                       d             |\n",
            "                                    |                       ã             |\n",
            "                                    |                       o           P |\n",
            "                                    |                       ,           r |\n",
            "                                    |                                   e |\n",
            "                                    |                       T           ç |\n",
            "                                    |                       r           o |\n",
            "                                    |                       a           , |\n",
            "                                    |     C           E     v             |\n",
            "                                    |     a           r     a     N     P |\n",
            "                                    |     d           r     ,     o     r |\n",
            "                                    |     a           o           v  P  a |\n",
            "                                    |     s                 C     a  e  z |\n",
            "                                    |     t           c     r  L  s  d  o |\n",
            "                                    |     r           a  E  a  o     i  , |\n",
            "                                    |     o           r  r  s  j  F  d    |\n",
            "                                    |     ,           t  r  h  a  u  o  P |\n",
            "                                    |                 ã  o  ,     n     r |\n",
            "                                    |     L           o        C  c  c  o |\n",
            "                                    |     o              f  P  &  i  a  m |\n",
            "                                    |     g           d  i  e  R  o  n  o |\n",
            "                                    |     i           e  n  r  ,  n  c  ç |\n",
            "                                    |     n        E     a  f     a  e  ã |\n",
            "                                    |     ,     E  r  c  l  o  E  l  l  o |\n",
            "                                    |           n  r  r  i  r  s  i  a  , |\n",
            "                                    |  B  S  C  t  o  é  z  m  t  d  m    |\n",
            "                                    |  u  e  e  r     d  a  a  o  a  e  S |\n",
            "                                    |  s  n  s  e  P  i  ç  n  q  d  n  t |\n",
            "                                    |  c  h  t  g  I  t  ã  c  u  e  t  i |\n",
            "                                    |  a  a  a  a  X  o  o  e  e  s  o  x |\n",
            "------------------------------------+-------------------------------------+\n",
            "                              Busca | <.> .  .  .  .  .  .  1  .  .  .  . |\n",
            "             Cadastro, Login, Senha |  . <.> .  .  .  .  .  1  .  .  .  . |\n",
            "                              Cesta |  .  . <.> .  .  .  .  2  .  .  .  . |\n",
            "                            Entrega |  .  .  . <4> .  .  .  1  .  .  .  . |\n",
            "                           Erro PIX |  .  .  .  . <2> .  .  .  .  .  .  . |\n",
            "             Erro cartão de crédito |  .  .  .  .  . <.> .  3  .  .  .  . |\n",
            "                   Erro finalização |  .  .  .  1  .  . <4> 3  .  .  .  . |\n",
            "Lentidão, Trava, Crash, Performance |  .  .  .  .  .  .  .<18> .  .  .  . |\n",
            "                  Loja C&R, Estoque |  .  .  .  4  .  .  .  . <3> .  .  . |\n",
            "              Novas Funcionalidades |  .  .  .  .  .  .  .  1  . <.> .  . |\n",
            "                Pedido cancelamento |  .  .  .  .  .  .  .  .  .  . <5> . |\n",
            "       Preço, Prazo, Promoção, Stix |  .  .  .  .  .  .  .  2  .  .  2 <.>|\n",
            "------------------------------------+-------------------------------------+\n",
            "(row = reference; col = test)\n",
            "\n"
          ]
        }
      ]
    },
    {
      "cell_type": "markdown",
      "source": [
        "### Montagem de uma frase para testar classificação."
      ],
      "metadata": {
        "id": "-BBqS6CUXXXv"
      }
    },
    {
      "cell_type": "code",
      "source": [
        "testeFrase = 'Meu pedido não fecha adoentado'"
      ],
      "metadata": {
        "id": "Z4gtPrMESJ_5"
      },
      "execution_count": 223,
      "outputs": []
    },
    {
      "cell_type": "code",
      "source": [
        "def aplicandoStemmerFrase(frase):\n",
        "    stemmer = nltk.stem.RSLPStemmer();\n",
        "    frases = [];\n",
        "    for (palavrasTreinamento) in frase.split():\n",
        "        com_stem_sem_stop = [p for p in palavrasTreinamento.split()];\n",
        "        frases.append(str(stemmer.stem(com_stem_sem_stop[0])));\n",
        "    return frases;"
      ],
      "metadata": {
        "id": "WgVqwgVkSlxQ"
      },
      "execution_count": 224,
      "outputs": []
    },
    {
      "cell_type": "code",
      "source": [
        "fraseComStemming = aplicandoStemmerFrase(testeFrase)\n",
        "print(fraseComStemming)"
      ],
      "metadata": {
        "id": "BPR1IQeMUtYO",
        "outputId": "93bb8a39-3b34-46bd-d24c-3e2a4149cf3a",
        "colab": {
          "base_uri": "https://localhost:8080/"
        }
      },
      "execution_count": 225,
      "outputs": [
        {
          "output_type": "stream",
          "name": "stdout",
          "text": [
            "['meu', 'ped', 'não', 'fech', 'adoent']\n"
          ]
        }
      ]
    },
    {
      "cell_type": "code",
      "source": [
        "novaFrase = extratorPalavras(fraseComStemming);\n",
        "#print(novaFrase)"
      ],
      "metadata": {
        "id": "SMZfxGK5VIme"
      },
      "execution_count": 226,
      "outputs": []
    },
    {
      "cell_type": "code",
      "source": [
        "print(classificador.classify(novaFrase))"
      ],
      "metadata": {
        "id": "DcuGmKplVcFh",
        "outputId": "00599802-8d94-41ce-cab7-5b98ae0d1c5c",
        "colab": {
          "base_uri": "https://localhost:8080/"
        }
      },
      "execution_count": 227,
      "outputs": [
        {
          "output_type": "stream",
          "name": "stdout",
          "text": [
            "Lentidão, Trava, Crash, Performance\n"
          ]
        }
      ]
    },
    {
      "cell_type": "code",
      "source": [
        "distribuicao = classificador.prob_classify(novaFrase)\n",
        "for classe in distribuicao.samples():\n",
        "    print(\"%s: %f\" % (classe, distribuicao.prob(classe)))"
      ],
      "metadata": {
        "id": "kzbbdntHVqyt",
        "outputId": "7040c5b4-55a6-400e-d375-f343c424d846",
        "colab": {
          "base_uri": "https://localhost:8080/"
        }
      },
      "execution_count": 228,
      "outputs": [
        {
          "output_type": "stream",
          "name": "stdout",
          "text": [
            "Lentidão, Trava, Crash, Performance: 0.999878\n",
            "Entrega: 0.000122\n",
            "Loja C&R, Estoque: 0.000000\n",
            "Cesta: 0.000000\n",
            "Preço, Prazo, Promoção, Stix: 0.000000\n",
            "Erro finalização: 0.000000\n",
            "Pedido cancelamento: 0.000000\n",
            "Erro cartão de crédito: 0.000000\n",
            "Erro PIX: 0.000000\n",
            "Busca: 0.000000\n",
            "Novas Funcionalidades: 0.000000\n",
            "Problema não detalhado: 0.000000\n",
            "Cadastro, Login, Senha: 0.000000\n"
          ]
        }
      ]
    },
    {
      "cell_type": "markdown",
      "source": [
        "### Montagem dos dados novos para classificação"
      ],
      "metadata": {
        "id": "PTgdwBVdXRPO"
      }
    },
    {
      "cell_type": "code",
      "source": [
        "baseCompleta['Comentario'] = baseCompleta['Comentario'].map(lambda x: re.sub('[,\\.!?-]', '', x))\n",
        "baseCompleta['Comentario'] = baseCompleta['Comentario'].map(lambda x: normalize('NFKD', x.lower()).encode('ASCII','ignore').decode('ASCII'))\n",
        "\n",
        "resultado = []\n",
        "\n",
        "for i in baseCompleta.index:\n",
        "    fraseComStemming = aplicandoStemmerFrase(baseCompleta[\"Comentario\"][i])\n",
        "    novaFrase = extratorPalavras(fraseComStemming);\n",
        "    previsao = classificador.classify(novaFrase)\n",
        "    resultado.append(previsao)"
      ],
      "metadata": {
        "id": "wAs5Zz9AVQmF"
      },
      "execution_count": 229,
      "outputs": []
    },
    {
      "cell_type": "code",
      "source": [
        "base_oficial = pd.read_csv('sample_data/DesafioAnderson2.csv', sep=';', engine='python', encoding='utf8')\n",
        "base_oficial.insert(loc=0, column='Classificação', value=resultado)\n",
        "base_oficial.to_csv('resultado_final.csv', sep=';', encoding='utf8')"
      ],
      "metadata": {
        "id": "nJtpoKqgaF5u"
      },
      "execution_count": 233,
      "outputs": []
    }
  ]
}