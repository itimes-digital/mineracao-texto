{
  "nbformat": 4,
  "nbformat_minor": 0,
  "metadata": {
    "colab": {
      "name": "analise de texto para classificacao.ipynb",
      "provenance": [],
      "authorship_tag": "ABX9TyOzK09FeBkxaJCV1mab1y8K",
      "include_colab_link": true
    },
    "kernelspec": {
      "name": "python3",
      "display_name": "Python 3"
    },
    "language_info": {
      "name": "python"
    }
  },
  "cells": [
    {
      "cell_type": "markdown",
      "metadata": {
        "id": "view-in-github",
        "colab_type": "text"
      },
      "source": [
        "<a href=\"https://colab.research.google.com/github/itimes-digital/mineracao-texto/blob/main/analise_de_texto_para_classificacao.ipynb\" target=\"_parent\"><img src=\"https://colab.research.google.com/assets/colab-badge.svg\" alt=\"Open In Colab\"/></a>"
      ]
    },
    {
      "cell_type": "code",
      "source": [
        "import nltk\n",
        "import pandas as pd\n",
        "import re"
      ],
      "metadata": {
        "id": "JWvMRVKIfwxY"
      },
      "execution_count": 214,
      "outputs": []
    },
    {
      "cell_type": "code",
      "source": [
        "nltk.download('stopwords')"
      ],
      "metadata": {
        "colab": {
          "base_uri": "https://localhost:8080/"
        },
        "id": "T4hcPGz5sbpK",
        "outputId": "85ead18f-e326-4101-f7e5-cc35cbe01ebb"
      },
      "execution_count": 215,
      "outputs": [
        {
          "output_type": "stream",
          "name": "stdout",
          "text": [
            "[nltk_data] Downloading package stopwords to /root/nltk_data...\n",
            "[nltk_data]   Package stopwords is already up-to-date!\n"
          ]
        },
        {
          "output_type": "execute_result",
          "data": {
            "text/plain": [
              "True"
            ]
          },
          "metadata": {},
          "execution_count": 215
        }
      ]
    },
    {
      "cell_type": "code",
      "source": [
        "nltk.download('rslp')"
      ],
      "metadata": {
        "colab": {
          "base_uri": "https://localhost:8080/"
        },
        "id": "chd2f5JKvwuU",
        "outputId": "7f4d93bf-62d9-4675-f03b-2519dc590215"
      },
      "execution_count": 216,
      "outputs": [
        {
          "output_type": "stream",
          "name": "stdout",
          "text": [
            "[nltk_data] Downloading package rslp to /root/nltk_data...\n",
            "[nltk_data]   Package rslp is already up-to-date!\n"
          ]
        },
        {
          "output_type": "execute_result",
          "data": {
            "text/plain": [
              "True"
            ]
          },
          "metadata": {},
          "execution_count": 216
        }
      ]
    },
    {
      "cell_type": "code",
      "source": [
        "base = pd.read_csv('sample_data/lista_classificada.csv', sep=';', engine='python')"
      ],
      "metadata": {
        "id": "S8NdPPr-f3kd"
      },
      "execution_count": 217,
      "outputs": []
    },
    {
      "cell_type": "code",
      "source": [
        "base.head()"
      ],
      "metadata": {
        "colab": {
          "base_uri": "https://localhost:8080/",
          "height": 206
        },
        "id": "IrwvKXAWi1em",
        "outputId": "1c3882fe-be8f-473e-f96b-94b3db3aa36f"
      },
      "execution_count": 218,
      "outputs": [
        {
          "output_type": "execute_result",
          "data": {
            "text/plain": [
              "                Categoria                                         Comentario\n",
              "0  Cadastro, Login, Senha  Nao recebi email para validar o cadastro NÃO C...\n",
              "1  Cadastro, Login, Senha                   Não consigo concluir o cadastro.\n",
              "2       Loja C&R, Estoque  Nunca realizei compras pelo app. Pois a forma ...\n",
              "3                 Entrega  Muito demora pra entregar.Farmácia é urgência,...\n",
              "4                 Entrega  Péssimo no que se refere ao item ENTREGA, pois..."
            ],
            "text/html": [
              "\n",
              "  <div id=\"df-bad00062-2a51-4033-be1f-7c37b9a684e3\">\n",
              "    <div class=\"colab-df-container\">\n",
              "      <div>\n",
              "<style scoped>\n",
              "    .dataframe tbody tr th:only-of-type {\n",
              "        vertical-align: middle;\n",
              "    }\n",
              "\n",
              "    .dataframe tbody tr th {\n",
              "        vertical-align: top;\n",
              "    }\n",
              "\n",
              "    .dataframe thead th {\n",
              "        text-align: right;\n",
              "    }\n",
              "</style>\n",
              "<table border=\"1\" class=\"dataframe\">\n",
              "  <thead>\n",
              "    <tr style=\"text-align: right;\">\n",
              "      <th></th>\n",
              "      <th>Categoria</th>\n",
              "      <th>Comentario</th>\n",
              "    </tr>\n",
              "  </thead>\n",
              "  <tbody>\n",
              "    <tr>\n",
              "      <th>0</th>\n",
              "      <td>Cadastro, Login, Senha</td>\n",
              "      <td>Nao recebi email para validar o cadastro NÃO C...</td>\n",
              "    </tr>\n",
              "    <tr>\n",
              "      <th>1</th>\n",
              "      <td>Cadastro, Login, Senha</td>\n",
              "      <td>Não consigo concluir o cadastro.</td>\n",
              "    </tr>\n",
              "    <tr>\n",
              "      <th>2</th>\n",
              "      <td>Loja C&amp;R, Estoque</td>\n",
              "      <td>Nunca realizei compras pelo app. Pois a forma ...</td>\n",
              "    </tr>\n",
              "    <tr>\n",
              "      <th>3</th>\n",
              "      <td>Entrega</td>\n",
              "      <td>Muito demora pra entregar.Farmácia é urgência,...</td>\n",
              "    </tr>\n",
              "    <tr>\n",
              "      <th>4</th>\n",
              "      <td>Entrega</td>\n",
              "      <td>Péssimo no que se refere ao item ENTREGA, pois...</td>\n",
              "    </tr>\n",
              "  </tbody>\n",
              "</table>\n",
              "</div>\n",
              "      <button class=\"colab-df-convert\" onclick=\"convertToInteractive('df-bad00062-2a51-4033-be1f-7c37b9a684e3')\"\n",
              "              title=\"Convert this dataframe to an interactive table.\"\n",
              "              style=\"display:none;\">\n",
              "        \n",
              "  <svg xmlns=\"http://www.w3.org/2000/svg\" height=\"24px\"viewBox=\"0 0 24 24\"\n",
              "       width=\"24px\">\n",
              "    <path d=\"M0 0h24v24H0V0z\" fill=\"none\"/>\n",
              "    <path d=\"M18.56 5.44l.94 2.06.94-2.06 2.06-.94-2.06-.94-.94-2.06-.94 2.06-2.06.94zm-11 1L8.5 8.5l.94-2.06 2.06-.94-2.06-.94L8.5 2.5l-.94 2.06-2.06.94zm10 10l.94 2.06.94-2.06 2.06-.94-2.06-.94-.94-2.06-.94 2.06-2.06.94z\"/><path d=\"M17.41 7.96l-1.37-1.37c-.4-.4-.92-.59-1.43-.59-.52 0-1.04.2-1.43.59L10.3 9.45l-7.72 7.72c-.78.78-.78 2.05 0 2.83L4 21.41c.39.39.9.59 1.41.59.51 0 1.02-.2 1.41-.59l7.78-7.78 2.81-2.81c.8-.78.8-2.07 0-2.86zM5.41 20L4 18.59l7.72-7.72 1.47 1.35L5.41 20z\"/>\n",
              "  </svg>\n",
              "      </button>\n",
              "      \n",
              "  <style>\n",
              "    .colab-df-container {\n",
              "      display:flex;\n",
              "      flex-wrap:wrap;\n",
              "      gap: 12px;\n",
              "    }\n",
              "\n",
              "    .colab-df-convert {\n",
              "      background-color: #E8F0FE;\n",
              "      border: none;\n",
              "      border-radius: 50%;\n",
              "      cursor: pointer;\n",
              "      display: none;\n",
              "      fill: #1967D2;\n",
              "      height: 32px;\n",
              "      padding: 0 0 0 0;\n",
              "      width: 32px;\n",
              "    }\n",
              "\n",
              "    .colab-df-convert:hover {\n",
              "      background-color: #E2EBFA;\n",
              "      box-shadow: 0px 1px 2px rgba(60, 64, 67, 0.3), 0px 1px 3px 1px rgba(60, 64, 67, 0.15);\n",
              "      fill: #174EA6;\n",
              "    }\n",
              "\n",
              "    [theme=dark] .colab-df-convert {\n",
              "      background-color: #3B4455;\n",
              "      fill: #D2E3FC;\n",
              "    }\n",
              "\n",
              "    [theme=dark] .colab-df-convert:hover {\n",
              "      background-color: #434B5C;\n",
              "      box-shadow: 0px 1px 3px 1px rgba(0, 0, 0, 0.15);\n",
              "      filter: drop-shadow(0px 1px 2px rgba(0, 0, 0, 0.3));\n",
              "      fill: #FFFFFF;\n",
              "    }\n",
              "  </style>\n",
              "\n",
              "      <script>\n",
              "        const buttonEl =\n",
              "          document.querySelector('#df-bad00062-2a51-4033-be1f-7c37b9a684e3 button.colab-df-convert');\n",
              "        buttonEl.style.display =\n",
              "          google.colab.kernel.accessAllowed ? 'block' : 'none';\n",
              "\n",
              "        async function convertToInteractive(key) {\n",
              "          const element = document.querySelector('#df-bad00062-2a51-4033-be1f-7c37b9a684e3');\n",
              "          const dataTable =\n",
              "            await google.colab.kernel.invokeFunction('convertToInteractive',\n",
              "                                                     [key], {});\n",
              "          if (!dataTable) return;\n",
              "\n",
              "          const docLinkHtml = 'Like what you see? Visit the ' +\n",
              "            '<a target=\"_blank\" href=https://colab.research.google.com/notebooks/data_table.ipynb>data table notebook</a>'\n",
              "            + ' to learn more about interactive tables.';\n",
              "          element.innerHTML = '';\n",
              "          dataTable['output_type'] = 'display_data';\n",
              "          await google.colab.output.renderOutput(dataTable, element);\n",
              "          const docLink = document.createElement('div');\n",
              "          docLink.innerHTML = docLinkHtml;\n",
              "          element.appendChild(docLink);\n",
              "        }\n",
              "      </script>\n",
              "    </div>\n",
              "  </div>\n",
              "  "
            ]
          },
          "metadata": {},
          "execution_count": 218
        }
      ]
    },
    {
      "cell_type": "code",
      "source": [
        "base['Comentario'] = base['Comentario'].map(lambda x: re.sub('[,\\.!?-]', '', x))\n",
        "base['Comentario'] = base['Comentario'].map(lambda x: x.lower())"
      ],
      "metadata": {
        "id": "7fzl7ZGDwKVj"
      },
      "execution_count": 219,
      "outputs": []
    },
    {
      "cell_type": "code",
      "source": [
        "base.head()"
      ],
      "metadata": {
        "colab": {
          "base_uri": "https://localhost:8080/",
          "height": 206
        },
        "id": "lnPvABuqwuWI",
        "outputId": "4b8bb6f2-f2b6-4c6d-8f01-29e7f661a4aa"
      },
      "execution_count": 220,
      "outputs": [
        {
          "output_type": "execute_result",
          "data": {
            "text/plain": [
              "                Categoria                                         Comentario\n",
              "0  Cadastro, Login, Senha  nao recebi email para validar o cadastro não c...\n",
              "1  Cadastro, Login, Senha                    não consigo concluir o cadastro\n",
              "2       Loja C&R, Estoque  nunca realizei compras pelo app pois a forma d...\n",
              "3                 Entrega  muito demora pra entregarfarmácia é urgência q...\n",
              "4                 Entrega  péssimo no que se refere ao item entrega pois ..."
            ],
            "text/html": [
              "\n",
              "  <div id=\"df-f0450b33-3f72-4e9c-9aac-3095486babdd\">\n",
              "    <div class=\"colab-df-container\">\n",
              "      <div>\n",
              "<style scoped>\n",
              "    .dataframe tbody tr th:only-of-type {\n",
              "        vertical-align: middle;\n",
              "    }\n",
              "\n",
              "    .dataframe tbody tr th {\n",
              "        vertical-align: top;\n",
              "    }\n",
              "\n",
              "    .dataframe thead th {\n",
              "        text-align: right;\n",
              "    }\n",
              "</style>\n",
              "<table border=\"1\" class=\"dataframe\">\n",
              "  <thead>\n",
              "    <tr style=\"text-align: right;\">\n",
              "      <th></th>\n",
              "      <th>Categoria</th>\n",
              "      <th>Comentario</th>\n",
              "    </tr>\n",
              "  </thead>\n",
              "  <tbody>\n",
              "    <tr>\n",
              "      <th>0</th>\n",
              "      <td>Cadastro, Login, Senha</td>\n",
              "      <td>nao recebi email para validar o cadastro não c...</td>\n",
              "    </tr>\n",
              "    <tr>\n",
              "      <th>1</th>\n",
              "      <td>Cadastro, Login, Senha</td>\n",
              "      <td>não consigo concluir o cadastro</td>\n",
              "    </tr>\n",
              "    <tr>\n",
              "      <th>2</th>\n",
              "      <td>Loja C&amp;R, Estoque</td>\n",
              "      <td>nunca realizei compras pelo app pois a forma d...</td>\n",
              "    </tr>\n",
              "    <tr>\n",
              "      <th>3</th>\n",
              "      <td>Entrega</td>\n",
              "      <td>muito demora pra entregarfarmácia é urgência q...</td>\n",
              "    </tr>\n",
              "    <tr>\n",
              "      <th>4</th>\n",
              "      <td>Entrega</td>\n",
              "      <td>péssimo no que se refere ao item entrega pois ...</td>\n",
              "    </tr>\n",
              "  </tbody>\n",
              "</table>\n",
              "</div>\n",
              "      <button class=\"colab-df-convert\" onclick=\"convertToInteractive('df-f0450b33-3f72-4e9c-9aac-3095486babdd')\"\n",
              "              title=\"Convert this dataframe to an interactive table.\"\n",
              "              style=\"display:none;\">\n",
              "        \n",
              "  <svg xmlns=\"http://www.w3.org/2000/svg\" height=\"24px\"viewBox=\"0 0 24 24\"\n",
              "       width=\"24px\">\n",
              "    <path d=\"M0 0h24v24H0V0z\" fill=\"none\"/>\n",
              "    <path d=\"M18.56 5.44l.94 2.06.94-2.06 2.06-.94-2.06-.94-.94-2.06-.94 2.06-2.06.94zm-11 1L8.5 8.5l.94-2.06 2.06-.94-2.06-.94L8.5 2.5l-.94 2.06-2.06.94zm10 10l.94 2.06.94-2.06 2.06-.94-2.06-.94-.94-2.06-.94 2.06-2.06.94z\"/><path d=\"M17.41 7.96l-1.37-1.37c-.4-.4-.92-.59-1.43-.59-.52 0-1.04.2-1.43.59L10.3 9.45l-7.72 7.72c-.78.78-.78 2.05 0 2.83L4 21.41c.39.39.9.59 1.41.59.51 0 1.02-.2 1.41-.59l7.78-7.78 2.81-2.81c.8-.78.8-2.07 0-2.86zM5.41 20L4 18.59l7.72-7.72 1.47 1.35L5.41 20z\"/>\n",
              "  </svg>\n",
              "      </button>\n",
              "      \n",
              "  <style>\n",
              "    .colab-df-container {\n",
              "      display:flex;\n",
              "      flex-wrap:wrap;\n",
              "      gap: 12px;\n",
              "    }\n",
              "\n",
              "    .colab-df-convert {\n",
              "      background-color: #E8F0FE;\n",
              "      border: none;\n",
              "      border-radius: 50%;\n",
              "      cursor: pointer;\n",
              "      display: none;\n",
              "      fill: #1967D2;\n",
              "      height: 32px;\n",
              "      padding: 0 0 0 0;\n",
              "      width: 32px;\n",
              "    }\n",
              "\n",
              "    .colab-df-convert:hover {\n",
              "      background-color: #E2EBFA;\n",
              "      box-shadow: 0px 1px 2px rgba(60, 64, 67, 0.3), 0px 1px 3px 1px rgba(60, 64, 67, 0.15);\n",
              "      fill: #174EA6;\n",
              "    }\n",
              "\n",
              "    [theme=dark] .colab-df-convert {\n",
              "      background-color: #3B4455;\n",
              "      fill: #D2E3FC;\n",
              "    }\n",
              "\n",
              "    [theme=dark] .colab-df-convert:hover {\n",
              "      background-color: #434B5C;\n",
              "      box-shadow: 0px 1px 3px 1px rgba(0, 0, 0, 0.15);\n",
              "      filter: drop-shadow(0px 1px 2px rgba(0, 0, 0, 0.3));\n",
              "      fill: #FFFFFF;\n",
              "    }\n",
              "  </style>\n",
              "\n",
              "      <script>\n",
              "        const buttonEl =\n",
              "          document.querySelector('#df-f0450b33-3f72-4e9c-9aac-3095486babdd button.colab-df-convert');\n",
              "        buttonEl.style.display =\n",
              "          google.colab.kernel.accessAllowed ? 'block' : 'none';\n",
              "\n",
              "        async function convertToInteractive(key) {\n",
              "          const element = document.querySelector('#df-f0450b33-3f72-4e9c-9aac-3095486babdd');\n",
              "          const dataTable =\n",
              "            await google.colab.kernel.invokeFunction('convertToInteractive',\n",
              "                                                     [key], {});\n",
              "          if (!dataTable) return;\n",
              "\n",
              "          const docLinkHtml = 'Like what you see? Visit the ' +\n",
              "            '<a target=\"_blank\" href=https://colab.research.google.com/notebooks/data_table.ipynb>data table notebook</a>'\n",
              "            + ' to learn more about interactive tables.';\n",
              "          element.innerHTML = '';\n",
              "          dataTable['output_type'] = 'display_data';\n",
              "          await google.colab.output.renderOutput(dataTable, element);\n",
              "          const docLink = document.createElement('div');\n",
              "          docLink.innerHTML = docLinkHtml;\n",
              "          element.appendChild(docLink);\n",
              "        }\n",
              "      </script>\n",
              "    </div>\n",
              "  </div>\n",
              "  "
            ]
          },
          "metadata": {},
          "execution_count": 220
        }
      ]
    },
    {
      "cell_type": "code",
      "source": [
        "stopwords = nltk.corpus.stopwords.words('portuguese')\n",
        "#print(stopwords)"
      ],
      "metadata": {
        "id": "RhFWvgzyecxh"
      },
      "execution_count": 221,
      "outputs": []
    },
    {
      "cell_type": "code",
      "source": [
        "def removeStopWordsAplicandoStemmer(base):\n",
        "    stemmer = nltk.stem.RSLPStemmer();\n",
        "    frases = [];\n",
        "    for i in range(len(base)):\n",
        "        sem_stop = [str(stemmer.stem(p)) for p in base.loc[i,\"Comentario\"].split() if p not in stopwords]\n",
        "        frases.append((sem_stop, base.loc[i,\"Categoria\"]))\n",
        "    return frases;"
      ],
      "metadata": {
        "id": "pNJqIZskfuzY"
      },
      "execution_count": 222,
      "outputs": []
    },
    {
      "cell_type": "code",
      "source": [
        "frasesComStemming = removeStopWordsAplicandoStemmer(base);\n",
        "#print(frasesComStemming)"
      ],
      "metadata": {
        "id": "ETIA3950jBbs"
      },
      "execution_count": 223,
      "outputs": []
    },
    {
      "cell_type": "code",
      "source": [
        "def buscaPalavras(frases):\n",
        "    todasPalavras = [];\n",
        "    for (palavras, categoria) in frases:\n",
        "        todasPalavras.extend(palavras);\n",
        "    return todasPalavras;"
      ],
      "metadata": {
        "id": "ZbAq8CuZoppR"
      },
      "execution_count": 224,
      "outputs": []
    },
    {
      "cell_type": "code",
      "source": [
        "palavras = buscaPalavras(frasesComStemming);\n",
        "#print(palavras)"
      ],
      "metadata": {
        "id": "DKgSPfOJsWZA"
      },
      "execution_count": 225,
      "outputs": []
    },
    {
      "cell_type": "code",
      "source": [
        "def buscaFrequencia(palavras):\n",
        "    palavras = nltk.FreqDist(palavras);\n",
        "    return palavras;"
      ],
      "metadata": {
        "id": "efJaizpcsdN1"
      },
      "execution_count": 226,
      "outputs": []
    },
    {
      "cell_type": "code",
      "source": [
        "frequencia = buscaFrequencia(palavras);\n",
        "#print(frequencia.most_common(50))"
      ],
      "metadata": {
        "id": "-Fr1tu-Lu7id"
      },
      "execution_count": 227,
      "outputs": []
    },
    {
      "cell_type": "code",
      "source": [
        "def buscaPalavrasUnicas(frequencia):\n",
        "    freq = frequencia.keys();\n",
        "    return freq;"
      ],
      "metadata": {
        "id": "47j6Il9BvEs_"
      },
      "execution_count": 228,
      "outputs": []
    },
    {
      "cell_type": "code",
      "source": [
        "palavrasUnicas = buscaPalavrasUnicas(frequencia);\n",
        "#print(palavrasUnicas)"
      ],
      "metadata": {
        "id": "CcagMVUMvfKq"
      },
      "execution_count": 229,
      "outputs": []
    },
    {
      "cell_type": "code",
      "source": [
        "def extratorPalavras(documento):\n",
        "    doc = set(documento);\n",
        "    caracteristicas = {};\n",
        "    for palavras in palavrasUnicas:\n",
        "        caracteristicas['%s' % palavras] = (palavras in doc);\n",
        "    return caracteristicas;"
      ],
      "metadata": {
        "id": "EsBYYtKivnRu"
      },
      "execution_count": 230,
      "outputs": []
    },
    {
      "cell_type": "code",
      "source": [
        "caracteristicasFrases = extratorPalavras({'am', 'nov', 'dia'});\n",
        "#print(caracteristicasFrases)"
      ],
      "metadata": {
        "id": "ttAfD_gw3d3d"
      },
      "execution_count": 231,
      "outputs": []
    },
    {
      "cell_type": "code",
      "source": [
        "baseCompleta = nltk.classify.apply_features(extratorPalavras, frasesComStemming);\n",
        "#print(baseCompleta);"
      ],
      "metadata": {
        "id": "lSYaPaWQ3pTo"
      },
      "execution_count": 232,
      "outputs": []
    },
    {
      "cell_type": "code",
      "source": [
        "classificador = nltk.NaiveBayesClassifier.train(baseCompleta);"
      ],
      "metadata": {
        "id": "oq0Y3mYe5aG4"
      },
      "execution_count": 233,
      "outputs": []
    },
    {
      "cell_type": "code",
      "source": [
        "print(classificador.show_most_informative_features(10))"
      ],
      "metadata": {
        "id": "yZF7GieCJh5O",
        "outputId": "691592f0-82a6-43b4-e4e4-5e79a767d8ac",
        "colab": {
          "base_uri": "https://localhost:8080/"
        }
      },
      "execution_count": 234,
      "outputs": [
        {
          "output_type": "stream",
          "name": "stdout",
          "text": [
            "Most Informative Features\n",
            "                  cancel = True           Pedido : Lentid =     78.3 : 1.0\n",
            "                    cart = True           Erro c : Entreg =     45.4 : 1.0\n",
            "                     pix = True           Erro P : Lentid =     45.3 : 1.0\n",
            "                   acess = True           Cadast : Lentid =     33.9 : 1.0\n",
            "                  adiant = True           Proble : Lentid =     30.5 : 1.0\n",
            "                   retir = True           Proble : Lentid =     30.5 : 1.0\n",
            "                     peg = True           Proble : Lentid =     30.5 : 1.0\n",
            "                  estoqu = True           Loja C : Lentid =     30.5 : 1.0\n",
            "                  entreg = True           Entreg : Lentid =     30.2 : 1.0\n",
            "                   códig = True           Erro P : Lentid =     29.0 : 1.0\n",
            "None\n"
          ]
        }
      ]
    },
    {
      "cell_type": "code",
      "source": [
        "testeFrase = 'Não aparece mais o Retirar na Loja!!! Desisti'"
      ],
      "metadata": {
        "id": "Z4gtPrMESJ_5"
      },
      "execution_count": 235,
      "outputs": []
    },
    {
      "cell_type": "code",
      "source": [
        "def aplicandoStemmerFrase(frase):\n",
        "    stemmer = nltk.stem.RSLPStemmer();\n",
        "    frases = [];\n",
        "    for (palavras) in frase.split():\n",
        "        com_stem_sem_stop = [p for p in palavras.split()];\n",
        "        frases.append(str(stemmer.stem(com_stem_sem_stop[0])));\n",
        "    return frases;"
      ],
      "metadata": {
        "id": "WgVqwgVkSlxQ"
      },
      "execution_count": 236,
      "outputs": []
    },
    {
      "cell_type": "code",
      "source": [
        "fraseComStemming = aplicandoStemmerFrase(testeFrase)\n",
        "print(fraseComStemming)"
      ],
      "metadata": {
        "id": "BPR1IQeMUtYO",
        "outputId": "7f788baa-dce4-4ff7-cb80-730199fb7471",
        "colab": {
          "base_uri": "https://localhost:8080/"
        }
      },
      "execution_count": 237,
      "outputs": [
        {
          "output_type": "stream",
          "name": "stdout",
          "text": [
            "['não', 'aparec', 'mais', 'o', 'retir', 'na', 'loja!!!', 'desist']\n"
          ]
        }
      ]
    },
    {
      "cell_type": "code",
      "source": [
        "novaFrase = extratorPalavras(fraseComStemming);"
      ],
      "metadata": {
        "id": "SMZfxGK5VIme"
      },
      "execution_count": 238,
      "outputs": []
    },
    {
      "cell_type": "code",
      "source": [
        "print(classificador.classify(novaFrase))"
      ],
      "metadata": {
        "id": "DcuGmKplVcFh",
        "outputId": "7deaf9e5-9dea-4619-d292-b69a9a93c927",
        "colab": {
          "base_uri": "https://localhost:8080/"
        }
      },
      "execution_count": 239,
      "outputs": [
        {
          "output_type": "stream",
          "name": "stdout",
          "text": [
            "Lentidão, Trava, Crash, Performance\n"
          ]
        }
      ]
    },
    {
      "cell_type": "code",
      "source": [
        "distribuicao = classificador.prob_classify(novaFrase)\n",
        "for classe in distribuicao.samples():\n",
        "    print(\"%s: %f\" % (classe, distribuicao.prob(classe)))"
      ],
      "metadata": {
        "id": "kzbbdntHVqyt",
        "outputId": "4ad3342c-d971-423d-9dab-fee58a3cdd84",
        "colab": {
          "base_uri": "https://localhost:8080/"
        }
      },
      "execution_count": 240,
      "outputs": [
        {
          "output_type": "stream",
          "name": "stdout",
          "text": [
            "Cadastro, Login, Senha: 0.000000\n",
            "Loja C&R, Estoque: 0.000000\n",
            "Entrega: 0.004077\n",
            "Preço, Prazo, Promoção, Stix: 0.000000\n",
            "Erro PIX: 0.000002\n",
            "Erro finalização: 0.000000\n",
            "Cesta: 0.000000\n",
            "Pedido cancelamento: 0.000000\n",
            "Erro cartão de crédito: 0.000000\n",
            "Lentidão, Trava, Crash, Performance: 0.995920\n",
            "Busca: 0.000000\n",
            "Problema não detalhado: 0.000000\n",
            "Novas Funcionalidades: 0.000000\n"
          ]
        }
      ]
    }
  ]
}