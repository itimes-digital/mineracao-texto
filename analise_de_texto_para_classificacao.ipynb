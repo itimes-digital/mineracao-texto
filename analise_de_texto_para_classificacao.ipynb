{
  "nbformat": 4,
  "nbformat_minor": 0,
  "metadata": {
    "colab": {
      "name": "analise de texto para classificacao.ipynb",
      "provenance": [],
      "authorship_tag": "ABX9TyNw0q3CKbvCdiRk00pc3oyk",
      "include_colab_link": true
    },
    "kernelspec": {
      "name": "python3",
      "display_name": "Python 3"
    },
    "language_info": {
      "name": "python"
    }
  },
  "cells": [
    {
      "cell_type": "markdown",
      "metadata": {
        "id": "view-in-github",
        "colab_type": "text"
      },
      "source": [
        "<a href=\"https://colab.research.google.com/github/itimes-digital/mineracao-texto/blob/main/analise_de_texto_para_classificacao.ipynb\" target=\"_parent\"><img src=\"https://colab.research.google.com/assets/colab-badge.svg\" alt=\"Open In Colab\"/></a>"
      ]
    },
    {
      "cell_type": "code",
      "source": [
        "import nltk\n",
        "import pandas as pd\n",
        "import re\n",
        "from unicodedata import normalize"
      ],
      "metadata": {
        "id": "JWvMRVKIfwxY"
      },
      "execution_count": 152,
      "outputs": []
    },
    {
      "cell_type": "code",
      "source": [
        "nltk.download('stopwords')"
      ],
      "metadata": {
        "colab": {
          "base_uri": "https://localhost:8080/"
        },
        "id": "T4hcPGz5sbpK",
        "outputId": "b3e9effa-1094-4711-854b-68a7ca655b83"
      },
      "execution_count": 153,
      "outputs": [
        {
          "output_type": "stream",
          "name": "stdout",
          "text": [
            "[nltk_data] Downloading package stopwords to /root/nltk_data...\n",
            "[nltk_data]   Package stopwords is already up-to-date!\n"
          ]
        },
        {
          "output_type": "execute_result",
          "data": {
            "text/plain": [
              "True"
            ]
          },
          "metadata": {},
          "execution_count": 153
        }
      ]
    },
    {
      "cell_type": "code",
      "source": [
        "nltk.download('rslp')"
      ],
      "metadata": {
        "colab": {
          "base_uri": "https://localhost:8080/"
        },
        "id": "chd2f5JKvwuU",
        "outputId": "05a9fdad-504a-4364-83ba-39e7d1979d46"
      },
      "execution_count": 154,
      "outputs": [
        {
          "output_type": "stream",
          "name": "stdout",
          "text": [
            "[nltk_data] Downloading package rslp to /root/nltk_data...\n",
            "[nltk_data]   Package rslp is already up-to-date!\n"
          ]
        },
        {
          "output_type": "execute_result",
          "data": {
            "text/plain": [
              "True"
            ]
          },
          "metadata": {},
          "execution_count": 154
        }
      ]
    },
    {
      "cell_type": "markdown",
      "source": [
        "### Preparação dos dados"
      ],
      "metadata": {
        "id": "fPxMSWkEYtpH"
      }
    },
    {
      "cell_type": "code",
      "source": [
        "base = pd.read_csv('sample_data/lista_classificada.csv', sep=';', engine='python')"
      ],
      "metadata": {
        "id": "S8NdPPr-f3kd"
      },
      "execution_count": 155,
      "outputs": []
    },
    {
      "cell_type": "code",
      "source": [
        "base.head()"
      ],
      "metadata": {
        "colab": {
          "base_uri": "https://localhost:8080/",
          "height": 206
        },
        "id": "IrwvKXAWi1em",
        "outputId": "4feec5b5-f11e-49d6-b415-2d1d52df5c6f"
      },
      "execution_count": 156,
      "outputs": [
        {
          "output_type": "execute_result",
          "data": {
            "text/plain": [
              "                Categoria                                         Comentario\n",
              "0  Cadastro, Login, Senha  Nao recebi email para validar o cadastro NÃO C...\n",
              "1  Cadastro, Login, Senha                   Não consigo concluir o cadastro.\n",
              "2       Loja C&R, Estoque  Nunca realizei compras pelo app. Pois a forma ...\n",
              "3                 Entrega  Muito demora pra entregar.Farmácia é urgência,...\n",
              "4                 Entrega  Péssimo no que se refere ao item ENTREGA, pois..."
            ],
            "text/html": [
              "\n",
              "  <div id=\"df-cdd5b68a-2eeb-4403-9b35-2b85db198b33\">\n",
              "    <div class=\"colab-df-container\">\n",
              "      <div>\n",
              "<style scoped>\n",
              "    .dataframe tbody tr th:only-of-type {\n",
              "        vertical-align: middle;\n",
              "    }\n",
              "\n",
              "    .dataframe tbody tr th {\n",
              "        vertical-align: top;\n",
              "    }\n",
              "\n",
              "    .dataframe thead th {\n",
              "        text-align: right;\n",
              "    }\n",
              "</style>\n",
              "<table border=\"1\" class=\"dataframe\">\n",
              "  <thead>\n",
              "    <tr style=\"text-align: right;\">\n",
              "      <th></th>\n",
              "      <th>Categoria</th>\n",
              "      <th>Comentario</th>\n",
              "    </tr>\n",
              "  </thead>\n",
              "  <tbody>\n",
              "    <tr>\n",
              "      <th>0</th>\n",
              "      <td>Cadastro, Login, Senha</td>\n",
              "      <td>Nao recebi email para validar o cadastro NÃO C...</td>\n",
              "    </tr>\n",
              "    <tr>\n",
              "      <th>1</th>\n",
              "      <td>Cadastro, Login, Senha</td>\n",
              "      <td>Não consigo concluir o cadastro.</td>\n",
              "    </tr>\n",
              "    <tr>\n",
              "      <th>2</th>\n",
              "      <td>Loja C&amp;R, Estoque</td>\n",
              "      <td>Nunca realizei compras pelo app. Pois a forma ...</td>\n",
              "    </tr>\n",
              "    <tr>\n",
              "      <th>3</th>\n",
              "      <td>Entrega</td>\n",
              "      <td>Muito demora pra entregar.Farmácia é urgência,...</td>\n",
              "    </tr>\n",
              "    <tr>\n",
              "      <th>4</th>\n",
              "      <td>Entrega</td>\n",
              "      <td>Péssimo no que se refere ao item ENTREGA, pois...</td>\n",
              "    </tr>\n",
              "  </tbody>\n",
              "</table>\n",
              "</div>\n",
              "      <button class=\"colab-df-convert\" onclick=\"convertToInteractive('df-cdd5b68a-2eeb-4403-9b35-2b85db198b33')\"\n",
              "              title=\"Convert this dataframe to an interactive table.\"\n",
              "              style=\"display:none;\">\n",
              "        \n",
              "  <svg xmlns=\"http://www.w3.org/2000/svg\" height=\"24px\"viewBox=\"0 0 24 24\"\n",
              "       width=\"24px\">\n",
              "    <path d=\"M0 0h24v24H0V0z\" fill=\"none\"/>\n",
              "    <path d=\"M18.56 5.44l.94 2.06.94-2.06 2.06-.94-2.06-.94-.94-2.06-.94 2.06-2.06.94zm-11 1L8.5 8.5l.94-2.06 2.06-.94-2.06-.94L8.5 2.5l-.94 2.06-2.06.94zm10 10l.94 2.06.94-2.06 2.06-.94-2.06-.94-.94-2.06-.94 2.06-2.06.94z\"/><path d=\"M17.41 7.96l-1.37-1.37c-.4-.4-.92-.59-1.43-.59-.52 0-1.04.2-1.43.59L10.3 9.45l-7.72 7.72c-.78.78-.78 2.05 0 2.83L4 21.41c.39.39.9.59 1.41.59.51 0 1.02-.2 1.41-.59l7.78-7.78 2.81-2.81c.8-.78.8-2.07 0-2.86zM5.41 20L4 18.59l7.72-7.72 1.47 1.35L5.41 20z\"/>\n",
              "  </svg>\n",
              "      </button>\n",
              "      \n",
              "  <style>\n",
              "    .colab-df-container {\n",
              "      display:flex;\n",
              "      flex-wrap:wrap;\n",
              "      gap: 12px;\n",
              "    }\n",
              "\n",
              "    .colab-df-convert {\n",
              "      background-color: #E8F0FE;\n",
              "      border: none;\n",
              "      border-radius: 50%;\n",
              "      cursor: pointer;\n",
              "      display: none;\n",
              "      fill: #1967D2;\n",
              "      height: 32px;\n",
              "      padding: 0 0 0 0;\n",
              "      width: 32px;\n",
              "    }\n",
              "\n",
              "    .colab-df-convert:hover {\n",
              "      background-color: #E2EBFA;\n",
              "      box-shadow: 0px 1px 2px rgba(60, 64, 67, 0.3), 0px 1px 3px 1px rgba(60, 64, 67, 0.15);\n",
              "      fill: #174EA6;\n",
              "    }\n",
              "\n",
              "    [theme=dark] .colab-df-convert {\n",
              "      background-color: #3B4455;\n",
              "      fill: #D2E3FC;\n",
              "    }\n",
              "\n",
              "    [theme=dark] .colab-df-convert:hover {\n",
              "      background-color: #434B5C;\n",
              "      box-shadow: 0px 1px 3px 1px rgba(0, 0, 0, 0.15);\n",
              "      filter: drop-shadow(0px 1px 2px rgba(0, 0, 0, 0.3));\n",
              "      fill: #FFFFFF;\n",
              "    }\n",
              "  </style>\n",
              "\n",
              "      <script>\n",
              "        const buttonEl =\n",
              "          document.querySelector('#df-cdd5b68a-2eeb-4403-9b35-2b85db198b33 button.colab-df-convert');\n",
              "        buttonEl.style.display =\n",
              "          google.colab.kernel.accessAllowed ? 'block' : 'none';\n",
              "\n",
              "        async function convertToInteractive(key) {\n",
              "          const element = document.querySelector('#df-cdd5b68a-2eeb-4403-9b35-2b85db198b33');\n",
              "          const dataTable =\n",
              "            await google.colab.kernel.invokeFunction('convertToInteractive',\n",
              "                                                     [key], {});\n",
              "          if (!dataTable) return;\n",
              "\n",
              "          const docLinkHtml = 'Like what you see? Visit the ' +\n",
              "            '<a target=\"_blank\" href=https://colab.research.google.com/notebooks/data_table.ipynb>data table notebook</a>'\n",
              "            + ' to learn more about interactive tables.';\n",
              "          element.innerHTML = '';\n",
              "          dataTable['output_type'] = 'display_data';\n",
              "          await google.colab.output.renderOutput(dataTable, element);\n",
              "          const docLink = document.createElement('div');\n",
              "          docLink.innerHTML = docLinkHtml;\n",
              "          element.appendChild(docLink);\n",
              "        }\n",
              "      </script>\n",
              "    </div>\n",
              "  </div>\n",
              "  "
            ]
          },
          "metadata": {},
          "execution_count": 156
        }
      ]
    },
    {
      "cell_type": "code",
      "source": [
        "base['Comentario'] = base['Comentario'].map(lambda x: re.sub('[,\\.!?-]', '', x))\n",
        "base['Comentario'] = base['Comentario'].map(lambda x: normalize('NFKD', x.lower()).encode('ASCII','ignore').decode('ASCII'))"
      ],
      "metadata": {
        "id": "7fzl7ZGDwKVj"
      },
      "execution_count": 157,
      "outputs": []
    },
    {
      "cell_type": "code",
      "source": [
        "base.head()"
      ],
      "metadata": {
        "colab": {
          "base_uri": "https://localhost:8080/",
          "height": 206
        },
        "id": "lnPvABuqwuWI",
        "outputId": "a82c58c2-855c-4c9f-f8b3-b2c567a4ad69"
      },
      "execution_count": 158,
      "outputs": [
        {
          "output_type": "execute_result",
          "data": {
            "text/plain": [
              "                Categoria                                         Comentario\n",
              "0  Cadastro, Login, Senha  nao recebi email para validar o cadastro nao c...\n",
              "1  Cadastro, Login, Senha                    nao consigo concluir o cadastro\n",
              "2       Loja C&R, Estoque  nunca realizei compras pelo app pois a forma d...\n",
              "3                 Entrega  muito demora pra entregarfarmacia e urgencia q...\n",
              "4                 Entrega  pessimo no que se refere ao item entrega pois ..."
            ],
            "text/html": [
              "\n",
              "  <div id=\"df-fe38cad5-17dd-4e08-a907-915bc6409569\">\n",
              "    <div class=\"colab-df-container\">\n",
              "      <div>\n",
              "<style scoped>\n",
              "    .dataframe tbody tr th:only-of-type {\n",
              "        vertical-align: middle;\n",
              "    }\n",
              "\n",
              "    .dataframe tbody tr th {\n",
              "        vertical-align: top;\n",
              "    }\n",
              "\n",
              "    .dataframe thead th {\n",
              "        text-align: right;\n",
              "    }\n",
              "</style>\n",
              "<table border=\"1\" class=\"dataframe\">\n",
              "  <thead>\n",
              "    <tr style=\"text-align: right;\">\n",
              "      <th></th>\n",
              "      <th>Categoria</th>\n",
              "      <th>Comentario</th>\n",
              "    </tr>\n",
              "  </thead>\n",
              "  <tbody>\n",
              "    <tr>\n",
              "      <th>0</th>\n",
              "      <td>Cadastro, Login, Senha</td>\n",
              "      <td>nao recebi email para validar o cadastro nao c...</td>\n",
              "    </tr>\n",
              "    <tr>\n",
              "      <th>1</th>\n",
              "      <td>Cadastro, Login, Senha</td>\n",
              "      <td>nao consigo concluir o cadastro</td>\n",
              "    </tr>\n",
              "    <tr>\n",
              "      <th>2</th>\n",
              "      <td>Loja C&amp;R, Estoque</td>\n",
              "      <td>nunca realizei compras pelo app pois a forma d...</td>\n",
              "    </tr>\n",
              "    <tr>\n",
              "      <th>3</th>\n",
              "      <td>Entrega</td>\n",
              "      <td>muito demora pra entregarfarmacia e urgencia q...</td>\n",
              "    </tr>\n",
              "    <tr>\n",
              "      <th>4</th>\n",
              "      <td>Entrega</td>\n",
              "      <td>pessimo no que se refere ao item entrega pois ...</td>\n",
              "    </tr>\n",
              "  </tbody>\n",
              "</table>\n",
              "</div>\n",
              "      <button class=\"colab-df-convert\" onclick=\"convertToInteractive('df-fe38cad5-17dd-4e08-a907-915bc6409569')\"\n",
              "              title=\"Convert this dataframe to an interactive table.\"\n",
              "              style=\"display:none;\">\n",
              "        \n",
              "  <svg xmlns=\"http://www.w3.org/2000/svg\" height=\"24px\"viewBox=\"0 0 24 24\"\n",
              "       width=\"24px\">\n",
              "    <path d=\"M0 0h24v24H0V0z\" fill=\"none\"/>\n",
              "    <path d=\"M18.56 5.44l.94 2.06.94-2.06 2.06-.94-2.06-.94-.94-2.06-.94 2.06-2.06.94zm-11 1L8.5 8.5l.94-2.06 2.06-.94-2.06-.94L8.5 2.5l-.94 2.06-2.06.94zm10 10l.94 2.06.94-2.06 2.06-.94-2.06-.94-.94-2.06-.94 2.06-2.06.94z\"/><path d=\"M17.41 7.96l-1.37-1.37c-.4-.4-.92-.59-1.43-.59-.52 0-1.04.2-1.43.59L10.3 9.45l-7.72 7.72c-.78.78-.78 2.05 0 2.83L4 21.41c.39.39.9.59 1.41.59.51 0 1.02-.2 1.41-.59l7.78-7.78 2.81-2.81c.8-.78.8-2.07 0-2.86zM5.41 20L4 18.59l7.72-7.72 1.47 1.35L5.41 20z\"/>\n",
              "  </svg>\n",
              "      </button>\n",
              "      \n",
              "  <style>\n",
              "    .colab-df-container {\n",
              "      display:flex;\n",
              "      flex-wrap:wrap;\n",
              "      gap: 12px;\n",
              "    }\n",
              "\n",
              "    .colab-df-convert {\n",
              "      background-color: #E8F0FE;\n",
              "      border: none;\n",
              "      border-radius: 50%;\n",
              "      cursor: pointer;\n",
              "      display: none;\n",
              "      fill: #1967D2;\n",
              "      height: 32px;\n",
              "      padding: 0 0 0 0;\n",
              "      width: 32px;\n",
              "    }\n",
              "\n",
              "    .colab-df-convert:hover {\n",
              "      background-color: #E2EBFA;\n",
              "      box-shadow: 0px 1px 2px rgba(60, 64, 67, 0.3), 0px 1px 3px 1px rgba(60, 64, 67, 0.15);\n",
              "      fill: #174EA6;\n",
              "    }\n",
              "\n",
              "    [theme=dark] .colab-df-convert {\n",
              "      background-color: #3B4455;\n",
              "      fill: #D2E3FC;\n",
              "    }\n",
              "\n",
              "    [theme=dark] .colab-df-convert:hover {\n",
              "      background-color: #434B5C;\n",
              "      box-shadow: 0px 1px 3px 1px rgba(0, 0, 0, 0.15);\n",
              "      filter: drop-shadow(0px 1px 2px rgba(0, 0, 0, 0.3));\n",
              "      fill: #FFFFFF;\n",
              "    }\n",
              "  </style>\n",
              "\n",
              "      <script>\n",
              "        const buttonEl =\n",
              "          document.querySelector('#df-fe38cad5-17dd-4e08-a907-915bc6409569 button.colab-df-convert');\n",
              "        buttonEl.style.display =\n",
              "          google.colab.kernel.accessAllowed ? 'block' : 'none';\n",
              "\n",
              "        async function convertToInteractive(key) {\n",
              "          const element = document.querySelector('#df-fe38cad5-17dd-4e08-a907-915bc6409569');\n",
              "          const dataTable =\n",
              "            await google.colab.kernel.invokeFunction('convertToInteractive',\n",
              "                                                     [key], {});\n",
              "          if (!dataTable) return;\n",
              "\n",
              "          const docLinkHtml = 'Like what you see? Visit the ' +\n",
              "            '<a target=\"_blank\" href=https://colab.research.google.com/notebooks/data_table.ipynb>data table notebook</a>'\n",
              "            + ' to learn more about interactive tables.';\n",
              "          element.innerHTML = '';\n",
              "          dataTable['output_type'] = 'display_data';\n",
              "          await google.colab.output.renderOutput(dataTable, element);\n",
              "          const docLink = document.createElement('div');\n",
              "          docLink.innerHTML = docLinkHtml;\n",
              "          element.appendChild(docLink);\n",
              "        }\n",
              "      </script>\n",
              "    </div>\n",
              "  </div>\n",
              "  "
            ]
          },
          "metadata": {},
          "execution_count": 158
        }
      ]
    },
    {
      "cell_type": "code",
      "source": [
        "base['Categoria'].value_counts()"
      ],
      "metadata": {
        "id": "nuWKf9UfhDTC",
        "outputId": "721d01da-281a-4473-af34-2c9807137acc",
        "colab": {
          "base_uri": "https://localhost:8080/"
        }
      },
      "execution_count": 159,
      "outputs": [
        {
          "output_type": "execute_result",
          "data": {
            "text/plain": [
              "Lentidão, Trava, Crash, Performance    121\n",
              "Entrega                                 85\n",
              "Pedido cancelamento                     39\n",
              "Erro finalização                        38\n",
              "Erro PIX                                34\n",
              "Loja C&R, Estoque                       27\n",
              "Preço, Prazo, Promoção, Stix            21\n",
              "Erro cartão de crédito                  11\n",
              "Cesta                                   10\n",
              "Busca                                    7\n",
              "Novas Funcionalidades                    6\n",
              "Cadastro, Login, Senha                   5\n",
              "Problema não detalhado                   3\n",
              "Name: Categoria, dtype: int64"
            ]
          },
          "metadata": {},
          "execution_count": 159
        }
      ]
    },
    {
      "cell_type": "code",
      "source": [
        "base = base.sample(frac=1)"
      ],
      "metadata": {
        "id": "KuTiFhOjjvqg"
      },
      "execution_count": 160,
      "outputs": []
    },
    {
      "cell_type": "code",
      "source": [
        "base_treinamento = base.iloc[:350,:]\n",
        "base_teste = base.iloc[350:,:]"
      ],
      "metadata": {
        "id": "fUwCvumZjBgk"
      },
      "execution_count": 161,
      "outputs": []
    },
    {
      "cell_type": "code",
      "source": [
        "base_treinamento.info()"
      ],
      "metadata": {
        "id": "wcKTcFpmkVCT",
        "outputId": "b78f7b7a-cea5-42d3-f1b0-17354a0b157d",
        "colab": {
          "base_uri": "https://localhost:8080/"
        }
      },
      "execution_count": 162,
      "outputs": [
        {
          "output_type": "stream",
          "name": "stdout",
          "text": [
            "<class 'pandas.core.frame.DataFrame'>\n",
            "Int64Index: 350 entries, 169 to 196\n",
            "Data columns (total 2 columns):\n",
            " #   Column      Non-Null Count  Dtype \n",
            "---  ------      --------------  ----- \n",
            " 0   Categoria   350 non-null    object\n",
            " 1   Comentario  350 non-null    object\n",
            "dtypes: object(2)\n",
            "memory usage: 8.2+ KB\n"
          ]
        }
      ]
    },
    {
      "cell_type": "code",
      "source": [
        "base_teste.info()"
      ],
      "metadata": {
        "id": "0JPrRIJXkZmX",
        "outputId": "0c7ac953-46e0-4ebf-d774-ac44aff7d41f",
        "colab": {
          "base_uri": "https://localhost:8080/"
        }
      },
      "execution_count": 163,
      "outputs": [
        {
          "output_type": "stream",
          "name": "stdout",
          "text": [
            "<class 'pandas.core.frame.DataFrame'>\n",
            "Int64Index: 57 entries, 129 to 79\n",
            "Data columns (total 2 columns):\n",
            " #   Column      Non-Null Count  Dtype \n",
            "---  ------      --------------  ----- \n",
            " 0   Categoria   57 non-null     object\n",
            " 1   Comentario  57 non-null     object\n",
            "dtypes: object(2)\n",
            "memory usage: 1.3+ KB\n"
          ]
        }
      ]
    },
    {
      "cell_type": "code",
      "source": [
        "base_treinamento = base_treinamento.reset_index(drop=True)\n",
        "base_teste = base_teste.reset_index(drop=True)"
      ],
      "metadata": {
        "id": "Frf55PsCmj8I"
      },
      "execution_count": 164,
      "outputs": []
    },
    {
      "cell_type": "code",
      "source": [
        "base_teste.head()"
      ],
      "metadata": {
        "id": "uc1xlaVil0Sz",
        "outputId": "8762ddf5-80d7-44cf-940b-7ccf136df102",
        "colab": {
          "base_uri": "https://localhost:8080/",
          "height": 206
        }
      },
      "execution_count": 165,
      "outputs": [
        {
          "output_type": "execute_result",
          "data": {
            "text/plain": [
              "                      Categoria  \\\n",
              "0        Erro cartão de crédito   \n",
              "1                       Entrega   \n",
              "2                         Busca   \n",
              "3  Preço, Prazo, Promoção, Stix   \n",
              "4                       Entrega   \n",
              "\n",
              "                                          Comentario  \n",
              "0  nao esta mais aceitando pagamento por cartao s...  \n",
              "1  nao esta dando opcao para retirar em loja assi...  \n",
              "2                      dificil de encontrar produtos  \n",
              "3  precos subiram medicamentos faltando cobranca ...  \n",
              "4                  tempo de entrega e muito demorado  "
            ],
            "text/html": [
              "\n",
              "  <div id=\"df-2712f5a5-6e2a-4255-a19e-5eb3a840aebe\">\n",
              "    <div class=\"colab-df-container\">\n",
              "      <div>\n",
              "<style scoped>\n",
              "    .dataframe tbody tr th:only-of-type {\n",
              "        vertical-align: middle;\n",
              "    }\n",
              "\n",
              "    .dataframe tbody tr th {\n",
              "        vertical-align: top;\n",
              "    }\n",
              "\n",
              "    .dataframe thead th {\n",
              "        text-align: right;\n",
              "    }\n",
              "</style>\n",
              "<table border=\"1\" class=\"dataframe\">\n",
              "  <thead>\n",
              "    <tr style=\"text-align: right;\">\n",
              "      <th></th>\n",
              "      <th>Categoria</th>\n",
              "      <th>Comentario</th>\n",
              "    </tr>\n",
              "  </thead>\n",
              "  <tbody>\n",
              "    <tr>\n",
              "      <th>0</th>\n",
              "      <td>Erro cartão de crédito</td>\n",
              "      <td>nao esta mais aceitando pagamento por cartao s...</td>\n",
              "    </tr>\n",
              "    <tr>\n",
              "      <th>1</th>\n",
              "      <td>Entrega</td>\n",
              "      <td>nao esta dando opcao para retirar em loja assi...</td>\n",
              "    </tr>\n",
              "    <tr>\n",
              "      <th>2</th>\n",
              "      <td>Busca</td>\n",
              "      <td>dificil de encontrar produtos</td>\n",
              "    </tr>\n",
              "    <tr>\n",
              "      <th>3</th>\n",
              "      <td>Preço, Prazo, Promoção, Stix</td>\n",
              "      <td>precos subiram medicamentos faltando cobranca ...</td>\n",
              "    </tr>\n",
              "    <tr>\n",
              "      <th>4</th>\n",
              "      <td>Entrega</td>\n",
              "      <td>tempo de entrega e muito demorado</td>\n",
              "    </tr>\n",
              "  </tbody>\n",
              "</table>\n",
              "</div>\n",
              "      <button class=\"colab-df-convert\" onclick=\"convertToInteractive('df-2712f5a5-6e2a-4255-a19e-5eb3a840aebe')\"\n",
              "              title=\"Convert this dataframe to an interactive table.\"\n",
              "              style=\"display:none;\">\n",
              "        \n",
              "  <svg xmlns=\"http://www.w3.org/2000/svg\" height=\"24px\"viewBox=\"0 0 24 24\"\n",
              "       width=\"24px\">\n",
              "    <path d=\"M0 0h24v24H0V0z\" fill=\"none\"/>\n",
              "    <path d=\"M18.56 5.44l.94 2.06.94-2.06 2.06-.94-2.06-.94-.94-2.06-.94 2.06-2.06.94zm-11 1L8.5 8.5l.94-2.06 2.06-.94-2.06-.94L8.5 2.5l-.94 2.06-2.06.94zm10 10l.94 2.06.94-2.06 2.06-.94-2.06-.94-.94-2.06-.94 2.06-2.06.94z\"/><path d=\"M17.41 7.96l-1.37-1.37c-.4-.4-.92-.59-1.43-.59-.52 0-1.04.2-1.43.59L10.3 9.45l-7.72 7.72c-.78.78-.78 2.05 0 2.83L4 21.41c.39.39.9.59 1.41.59.51 0 1.02-.2 1.41-.59l7.78-7.78 2.81-2.81c.8-.78.8-2.07 0-2.86zM5.41 20L4 18.59l7.72-7.72 1.47 1.35L5.41 20z\"/>\n",
              "  </svg>\n",
              "      </button>\n",
              "      \n",
              "  <style>\n",
              "    .colab-df-container {\n",
              "      display:flex;\n",
              "      flex-wrap:wrap;\n",
              "      gap: 12px;\n",
              "    }\n",
              "\n",
              "    .colab-df-convert {\n",
              "      background-color: #E8F0FE;\n",
              "      border: none;\n",
              "      border-radius: 50%;\n",
              "      cursor: pointer;\n",
              "      display: none;\n",
              "      fill: #1967D2;\n",
              "      height: 32px;\n",
              "      padding: 0 0 0 0;\n",
              "      width: 32px;\n",
              "    }\n",
              "\n",
              "    .colab-df-convert:hover {\n",
              "      background-color: #E2EBFA;\n",
              "      box-shadow: 0px 1px 2px rgba(60, 64, 67, 0.3), 0px 1px 3px 1px rgba(60, 64, 67, 0.15);\n",
              "      fill: #174EA6;\n",
              "    }\n",
              "\n",
              "    [theme=dark] .colab-df-convert {\n",
              "      background-color: #3B4455;\n",
              "      fill: #D2E3FC;\n",
              "    }\n",
              "\n",
              "    [theme=dark] .colab-df-convert:hover {\n",
              "      background-color: #434B5C;\n",
              "      box-shadow: 0px 1px 3px 1px rgba(0, 0, 0, 0.15);\n",
              "      filter: drop-shadow(0px 1px 2px rgba(0, 0, 0, 0.3));\n",
              "      fill: #FFFFFF;\n",
              "    }\n",
              "  </style>\n",
              "\n",
              "      <script>\n",
              "        const buttonEl =\n",
              "          document.querySelector('#df-2712f5a5-6e2a-4255-a19e-5eb3a840aebe button.colab-df-convert');\n",
              "        buttonEl.style.display =\n",
              "          google.colab.kernel.accessAllowed ? 'block' : 'none';\n",
              "\n",
              "        async function convertToInteractive(key) {\n",
              "          const element = document.querySelector('#df-2712f5a5-6e2a-4255-a19e-5eb3a840aebe');\n",
              "          const dataTable =\n",
              "            await google.colab.kernel.invokeFunction('convertToInteractive',\n",
              "                                                     [key], {});\n",
              "          if (!dataTable) return;\n",
              "\n",
              "          const docLinkHtml = 'Like what you see? Visit the ' +\n",
              "            '<a target=\"_blank\" href=https://colab.research.google.com/notebooks/data_table.ipynb>data table notebook</a>'\n",
              "            + ' to learn more about interactive tables.';\n",
              "          element.innerHTML = '';\n",
              "          dataTable['output_type'] = 'display_data';\n",
              "          await google.colab.output.renderOutput(dataTable, element);\n",
              "          const docLink = document.createElement('div');\n",
              "          docLink.innerHTML = docLinkHtml;\n",
              "          element.appendChild(docLink);\n",
              "        }\n",
              "      </script>\n",
              "    </div>\n",
              "  </div>\n",
              "  "
            ]
          },
          "metadata": {},
          "execution_count": 165
        }
      ]
    },
    {
      "cell_type": "code",
      "source": [
        "stopwords = nltk.corpus.stopwords.words('portuguese')\n",
        "#print(stopwords)"
      ],
      "metadata": {
        "id": "RhFWvgzyecxh"
      },
      "execution_count": 166,
      "outputs": []
    },
    {
      "cell_type": "code",
      "source": [
        "def removeStopWordsAplicandoStemmer(base):\n",
        "    stemmer = nltk.stem.RSLPStemmer();\n",
        "    frases = [];\n",
        "    for i in range(len(base)):\n",
        "        sem_stop = [str(stemmer.stem(p)) for p in base.loc[i,\"Comentario\"].split() if p not in stopwords]\n",
        "        frases.append((sem_stop, base.loc[i,\"Categoria\"]))\n",
        "    return frases;"
      ],
      "metadata": {
        "id": "pNJqIZskfuzY"
      },
      "execution_count": 167,
      "outputs": []
    },
    {
      "cell_type": "code",
      "source": [
        "frasesComStemmingTreinamento = removeStopWordsAplicandoStemmer(base_treinamento);\n",
        "frasesComStemmingTeste = removeStopWordsAplicandoStemmer(base_teste);\n",
        "#print(frasesComStemming)"
      ],
      "metadata": {
        "id": "ETIA3950jBbs"
      },
      "execution_count": 168,
      "outputs": []
    },
    {
      "cell_type": "code",
      "source": [
        "def buscaPalavras(frases):\n",
        "    todasPalavras = [];\n",
        "    for (palavras, categoria) in frases:\n",
        "        todasPalavras.extend(palavras);\n",
        "    return todasPalavras;"
      ],
      "metadata": {
        "id": "ZbAq8CuZoppR"
      },
      "execution_count": 169,
      "outputs": []
    },
    {
      "cell_type": "code",
      "source": [
        "palavrasTreinamento = buscaPalavras(frasesComStemmingTreinamento);\n",
        "palavrasTeste = buscaPalavras(frasesComStemmingTeste);\n",
        "#print(palavras)"
      ],
      "metadata": {
        "id": "DKgSPfOJsWZA"
      },
      "execution_count": 170,
      "outputs": []
    },
    {
      "cell_type": "code",
      "source": [
        "def buscaFrequencia(palavras):\n",
        "    palavras = nltk.FreqDist(palavras);\n",
        "    return palavras;"
      ],
      "metadata": {
        "id": "efJaizpcsdN1"
      },
      "execution_count": 171,
      "outputs": []
    },
    {
      "cell_type": "code",
      "source": [
        "frequenciaTreinamento = buscaFrequencia(palavrasTreinamento);\n",
        "frequenciaTeste = buscaFrequencia(palavrasTeste);\n",
        "#print(frequencia.most_common(50))"
      ],
      "metadata": {
        "id": "-Fr1tu-Lu7id"
      },
      "execution_count": 172,
      "outputs": []
    },
    {
      "cell_type": "code",
      "source": [
        "def buscaPalavrasUnicas(frequencia):\n",
        "    freq = frequencia.keys();\n",
        "    return freq;"
      ],
      "metadata": {
        "id": "47j6Il9BvEs_"
      },
      "execution_count": 173,
      "outputs": []
    },
    {
      "cell_type": "code",
      "source": [
        "palavrasUnicasTreinamento = buscaPalavrasUnicas(frequenciaTreinamento);\n",
        "palavrasUnicasTeste = buscaPalavrasUnicas(frequenciaTeste);\n",
        "#print(palavrasUnicas)"
      ],
      "metadata": {
        "id": "CcagMVUMvfKq"
      },
      "execution_count": 174,
      "outputs": []
    },
    {
      "cell_type": "code",
      "source": [
        "def extratorPalavras(documento):\n",
        "    doc = set(documento);\n",
        "    caracteristicas = {};\n",
        "    for palavras in palavrasUnicasTreinamento:\n",
        "        caracteristicas['%s' % palavras] = (palavras in doc);\n",
        "    return caracteristicas;"
      ],
      "metadata": {
        "id": "EsBYYtKivnRu"
      },
      "execution_count": 175,
      "outputs": []
    },
    {
      "cell_type": "code",
      "source": [
        "caracteristicasFrases = extratorPalavras({'am', 'nov', 'dia'});\n",
        "#print(caracteristicasFrases)"
      ],
      "metadata": {
        "id": "ttAfD_gw3d3d"
      },
      "execution_count": 176,
      "outputs": []
    },
    {
      "cell_type": "markdown",
      "source": [
        "### Realizando a classificação"
      ],
      "metadata": {
        "id": "FSPNGJyQY20D"
      }
    },
    {
      "cell_type": "code",
      "source": [
        "baseCompletaTreinamento = nltk.classify.apply_features(extratorPalavras, frasesComStemmingTreinamento);\n",
        "baseCompletaTeste = nltk.classify.apply_features(extratorPalavras, frasesComStemmingTeste);\n",
        "#print(baseCompleta);"
      ],
      "metadata": {
        "id": "lSYaPaWQ3pTo"
      },
      "execution_count": 177,
      "outputs": []
    },
    {
      "cell_type": "code",
      "source": [
        "classificador = nltk.NaiveBayesClassifier.train(baseCompletaTreinamento);"
      ],
      "metadata": {
        "id": "oq0Y3mYe5aG4"
      },
      "execution_count": 178,
      "outputs": []
    },
    {
      "cell_type": "code",
      "source": [
        "print(classificador.labels())"
      ],
      "metadata": {
        "id": "J3O0341hhtkc",
        "outputId": "f4bb04e6-d12d-4813-c468-8ec5b6ba9a13",
        "colab": {
          "base_uri": "https://localhost:8080/"
        }
      },
      "execution_count": 179,
      "outputs": [
        {
          "output_type": "stream",
          "name": "stdout",
          "text": [
            "['Lentidão, Trava, Crash, Performance', 'Cadastro, Login, Senha', 'Cesta', 'Preço, Prazo, Promoção, Stix', 'Entrega', 'Erro PIX', 'Pedido cancelamento', 'Novas Funcionalidades', 'Erro finalização', 'Loja C&R, Estoque', 'Erro cartão de crédito', 'Busca', 'Problema não detalhado']\n"
          ]
        }
      ]
    },
    {
      "cell_type": "code",
      "source": [
        " #usando a mesma amostra do modelo treinado\n",
        "print(nltk.classify.accuracy(classificador, baseCompletaTreinamento))"
      ],
      "metadata": {
        "id": "KFCDw48en4B-",
        "outputId": "2d78cc1a-8017-4b3d-94a5-ed300109b69c",
        "colab": {
          "base_uri": "https://localhost:8080/"
        }
      },
      "execution_count": 180,
      "outputs": [
        {
          "output_type": "stream",
          "name": "stdout",
          "text": [
            "0.6857142857142857\n"
          ]
        }
      ]
    },
    {
      "cell_type": "code",
      "source": [
        "#usando a amostra de teste\n",
        "print(nltk.classify.accuracy(classificador, baseCompletaTeste)) "
      ],
      "metadata": {
        "id": "bsqxfFr2oa3d",
        "outputId": "fa82769c-924b-4c52-ed86-fd49a8779b53",
        "colab": {
          "base_uri": "https://localhost:8080/"
        }
      },
      "execution_count": 181,
      "outputs": [
        {
          "output_type": "stream",
          "name": "stdout",
          "text": [
            "0.5263157894736842\n"
          ]
        }
      ]
    },
    {
      "cell_type": "code",
      "source": [
        "print(classificador.show_most_informative_features(10))"
      ],
      "metadata": {
        "id": "yZF7GieCJh5O",
        "outputId": "79867c72-423d-432e-d392-fa67a06b0003",
        "colab": {
          "base_uri": "https://localhost:8080/"
        }
      },
      "execution_count": 182,
      "outputs": [
        {
          "output_type": "stream",
          "name": "stdout",
          "text": [
            "Most Informative Features\n",
            "                  cancel = True           Pedido : Lentid =     67.1 : 1.0\n",
            "                     pix = True           Erro P : Lentid =     38.6 : 1.0\n",
            "                   carta = True           Erro c : Entreg =     37.6 : 1.0\n",
            "                     peg = True           Proble : Lentid =     35.0 : 1.0\n",
            "                  adiant = True           Proble : Lentid =     35.0 : 1.0\n",
            "                   retir = True           Proble : Lentid =     35.0 : 1.0\n",
            "                   codig = True           Erro P : Lentid =     28.2 : 1.0\n",
            "                  entreg = True           Entreg : Lentid =     25.3 : 1.0\n",
            "                    salv = True           Novas  : Lentid =     25.0 : 1.0\n",
            "                  estoqu = True           Loja C : Lentid =     24.8 : 1.0\n",
            "None\n"
          ]
        }
      ]
    },
    {
      "cell_type": "code",
      "source": [
        "erros = []\n",
        "\n",
        "for (frase, classe) in baseCompletaTeste:\n",
        "    previsao = classificador.classify(frase)\n",
        "\n",
        "    if previsao != classe:\n",
        "        erros.append((classe, previsao, frase))\n",
        "\n",
        "for (flasse, previsao, frase) in erros:\n",
        "    # Classe real | previsão da classe | frase\n",
        "    print(classe, previsao, frase)"
      ],
      "metadata": {
        "id": "jCeRlk_M2TUj"
      },
      "execution_count": null,
      "outputs": []
    },
    {
      "cell_type": "code",
      "source": [
        "from nltk.metrics import ConfusionMatrix\n",
        "\n",
        "esperado = []\n",
        "previsto = []\n",
        "\n",
        "for (frase, classe) in baseCompletaTeste:\n",
        "    previsao = classificador.classify(frase);\n",
        "    previsto.append(previsao);\n",
        "    esperado.append(classe);\n",
        "\n",
        "matriz = ConfusionMatrix(esperado, previsto)\n",
        "print(matriz)"
      ],
      "metadata": {
        "colab": {
          "base_uri": "https://localhost:8080/"
        },
        "id": "lNOCVY6txKCI",
        "outputId": "4eb51316-d862-43ab-f946-b7e7136b26cd"
      },
      "execution_count": 184,
      "outputs": [
        {
          "output_type": "stream",
          "name": "stdout",
          "text": [
            "                                    |                    L             |\n",
            "                                    |                    e             |\n",
            "                                    |                    n             |\n",
            "                                    |                    t             |\n",
            "                                    |                    i             |\n",
            "                                    |                    d             |\n",
            "                                    |                    ã             |\n",
            "                                    |                    o        P    |\n",
            "                                    |                    ,        r    |\n",
            "                                    |                             e    |\n",
            "                                    |                    T        ç    |\n",
            "                                    |                    r        o    |\n",
            "                                    |                    a        ,    |\n",
            "                                    |              E     v           P |\n",
            "                                    |              r     a        P  r |\n",
            "                                    |              r     ,        r  o |\n",
            "                                    |              o           P  a  b |\n",
            "                                    |                    C     e  z  l |\n",
            "                                    |              c     r  L  d  o  e |\n",
            "                                    |              a  E  a  o  i  ,  m |\n",
            "                                    |              r  r  s  j  d     a |\n",
            "                                    |              t  r  h  a  o  P    |\n",
            "                                    |              ã  o  ,        r  n |\n",
            "                                    |              o        C  c  o  ã |\n",
            "                                    |                 f  P  &  a  m  o |\n",
            "                                    |              d  i  e  R  n  o    |\n",
            "                                    |              e  n  r  ,  c  ç  d |\n",
            "                                    |           E     a  f     e  ã  e |\n",
            "                                    |        E  r  c  l  o  E  l  o  t |\n",
            "                                    |        n  r  r  i  r  s  a  ,  a |\n",
            "                                    |  B  C  t  o  é  z  m  t  m     l |\n",
            "                                    |  u  e  r     d  a  a  o  e  S  h |\n",
            "                                    |  s  s  e  P  i  ç  n  q  n  t  a |\n",
            "                                    |  c  t  g  I  t  ã  c  u  t  i  d |\n",
            "                                    |  a  a  a  X  o  o  e  e  o  x  o |\n",
            "------------------------------------+----------------------------------+\n",
            "                              Busca | <.> .  .  .  .  .  2  .  .  .  . |\n",
            "                              Cesta |  . <.> .  .  .  .  1  .  .  .  . |\n",
            "                            Entrega |  .  .<10> .  .  .  3  .  .  .  . |\n",
            "                           Erro PIX |  .  .  . <.> .  .  4  .  .  .  . |\n",
            "             Erro cartão de crédito |  .  .  .  . <.> .  1  .  .  .  . |\n",
            "                   Erro finalização |  .  .  1  .  . <.> 6  .  .  .  . |\n",
            "Lentidão, Trava, Crash, Performance |  .  .  .  .  .  .<17> .  .  .  . |\n",
            "                  Loja C&R, Estoque |  .  .  3  .  .  .  1 <.> .  .  . |\n",
            "                Pedido cancelamento |  .  .  .  .  .  .  1  . <3> .  . |\n",
            "       Preço, Prazo, Promoção, Stix |  .  .  .  .  .  .  2  .  1 <.> . |\n",
            "             Problema não detalhado |  .  .  .  .  .  .  1  .  .  . <.>|\n",
            "------------------------------------+----------------------------------+\n",
            "(row = reference; col = test)\n",
            "\n"
          ]
        }
      ]
    },
    {
      "cell_type": "markdown",
      "source": [
        "### Montagem de uma frase para testar classificação."
      ],
      "metadata": {
        "id": "-BBqS6CUXXXv"
      }
    },
    {
      "cell_type": "code",
      "source": [
        "testeFrase = 'Meu pedido não fecha adoentado'"
      ],
      "metadata": {
        "id": "Z4gtPrMESJ_5"
      },
      "execution_count": 185,
      "outputs": []
    },
    {
      "cell_type": "code",
      "source": [
        "def aplicandoStemmerFrase(frase):\n",
        "    stemmer = nltk.stem.RSLPStemmer();\n",
        "    frases = [];\n",
        "    for (palavrasTreinamento) in frase.split():\n",
        "        com_stem_sem_stop = [p for p in palavrasTreinamento.split()];\n",
        "        frases.append(str(stemmer.stem(com_stem_sem_stop[0])));\n",
        "    return frases;"
      ],
      "metadata": {
        "id": "WgVqwgVkSlxQ"
      },
      "execution_count": 186,
      "outputs": []
    },
    {
      "cell_type": "code",
      "source": [
        "fraseComStemming = aplicandoStemmerFrase(testeFrase)\n",
        "print(fraseComStemming)"
      ],
      "metadata": {
        "id": "BPR1IQeMUtYO",
        "outputId": "314be761-f013-4486-8384-4504fa856ff9",
        "colab": {
          "base_uri": "https://localhost:8080/"
        }
      },
      "execution_count": 187,
      "outputs": [
        {
          "output_type": "stream",
          "name": "stdout",
          "text": [
            "['meu', 'ped', 'não', 'fech', 'adoent']\n"
          ]
        }
      ]
    },
    {
      "cell_type": "code",
      "source": [
        "novaFrase = extratorPalavras(fraseComStemming);\n",
        "#print(novaFrase)"
      ],
      "metadata": {
        "id": "SMZfxGK5VIme"
      },
      "execution_count": 188,
      "outputs": []
    },
    {
      "cell_type": "code",
      "source": [
        "print(classificador.classify(novaFrase))"
      ],
      "metadata": {
        "id": "DcuGmKplVcFh",
        "outputId": "15ba46dc-856a-4fd7-82a7-f2b5e242f23a",
        "colab": {
          "base_uri": "https://localhost:8080/"
        }
      },
      "execution_count": 189,
      "outputs": [
        {
          "output_type": "stream",
          "name": "stdout",
          "text": [
            "Lentidão, Trava, Crash, Performance\n"
          ]
        }
      ]
    },
    {
      "cell_type": "code",
      "source": [
        "distribuicao = classificador.prob_classify(novaFrase)\n",
        "for classe in distribuicao.samples():\n",
        "    print(\"%s: %f\" % (classe, distribuicao.prob(classe)))"
      ],
      "metadata": {
        "id": "kzbbdntHVqyt",
        "outputId": "35737551-f517-4f74-830e-35e614ace340",
        "colab": {
          "base_uri": "https://localhost:8080/"
        }
      },
      "execution_count": 190,
      "outputs": [
        {
          "output_type": "stream",
          "name": "stdout",
          "text": [
            "Lentidão, Trava, Crash, Performance: 0.999854\n",
            "Cadastro, Login, Senha: 0.000000\n",
            "Cesta: 0.000000\n",
            "Preço, Prazo, Promoção, Stix: 0.000000\n",
            "Entrega: 0.000145\n",
            "Erro PIX: 0.000000\n",
            "Pedido cancelamento: 0.000000\n",
            "Novas Funcionalidades: 0.000000\n",
            "Erro finalização: 0.000000\n",
            "Loja C&R, Estoque: 0.000000\n",
            "Erro cartão de crédito: 0.000000\n",
            "Busca: 0.000000\n",
            "Problema não detalhado: 0.000000\n"
          ]
        }
      ]
    },
    {
      "cell_type": "markdown",
      "source": [
        "### Montagem dos dados novos para classificação"
      ],
      "metadata": {
        "id": "PTgdwBVdXRPO"
      }
    },
    {
      "cell_type": "code",
      "source": [
        "baseSemCategoria = pd.read_csv('sample_data/lista.csv', sep=';', engine='python')"
      ],
      "metadata": {
        "id": "wAs5Zz9AVQmF"
      },
      "execution_count": 191,
      "outputs": []
    },
    {
      "cell_type": "code",
      "source": [
        "baseSemCategoria['Comentario'] = baseSemCategoria['Comentario'].map(lambda x: re.sub('[,\\.!?-]', '', x))\n",
        "baseSemCategoria['Comentario'] = baseSemCategoria['Comentario'].map(lambda x: normalize('NFKD', x.lower()).encode('ASCII','ignore').decode('ASCII'))"
      ],
      "metadata": {
        "id": "kxUdqM_qXEUt"
      },
      "execution_count": 192,
      "outputs": []
    },
    {
      "cell_type": "code",
      "source": [
        "def removeStopWordsAplicandoStemmerSemCategoria(base):\n",
        "    stemmer = nltk.stem.RSLPStemmer();\n",
        "    frases = [];\n",
        "    for i in range(len(base)):\n",
        "        sem_stop = [str(stemmer.stem(p)) for p in base.loc[i,\"Comentario\"].split() if p not in stopwords];\n",
        "        frases.append(sem_stop);\n",
        "    return frases;"
      ],
      "metadata": {
        "id": "8EoUNG8RUvEg"
      },
      "execution_count": 193,
      "outputs": []
    },
    {
      "cell_type": "code",
      "source": [
        "frasesComStemmingSemCategoria = removeStopWordsAplicandoStemmerSemCategoria(baseSemCategoria)\n",
        "#print(frasesComStemmingSemCategoria)"
      ],
      "metadata": {
        "id": "ftgdapmaVOSg"
      },
      "execution_count": 194,
      "outputs": []
    },
    {
      "cell_type": "code",
      "source": [
        "baseCompletaSemClassificacao = nltk.classify.apply_features(extratorPalavras, frasesComStemmingSemCategoria);"
      ],
      "metadata": {
        "id": "fwTFgsE-Xx4t"
      },
      "execution_count": 195,
      "outputs": []
    },
    {
      "cell_type": "code",
      "source": [
        "#print(baseCompletaSemClassificacao)"
      ],
      "metadata": {
        "id": "5zR7-vo-ZH2w"
      },
      "execution_count": 196,
      "outputs": []
    }
  ]
}